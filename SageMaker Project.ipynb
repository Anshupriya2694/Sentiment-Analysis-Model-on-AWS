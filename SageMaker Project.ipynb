{
 "cells": [
  {
   "cell_type": "markdown",
   "metadata": {},
   "source": [
    "# Creating a Sentiment Analysis Web App\n",
    "## Using PyTorch and SageMaker\n",
    "\n",
    "_Deep Learning Nanodegree Program | Deployment_\n",
    "\n",
    "---\n",
    "\n",
    "Now that we have a basic understanding of how SageMaker works we will try to use it to construct a complete project from end to end. Our goal will be to have a simple web page which a user can use to enter a movie review. The web page will then send the review off to our deployed model which will predict the sentiment of the entered review.\n",
    "\n",
    "## Instructions\n",
    "\n",
    "Some template code has already been provided for you, and you will need to implement additional functionality to successfully complete this notebook. You will not need to modify the included code beyond what is requested. Sections that begin with '**TODO**' in the header indicate that you need to complete or implement some portion within them. Instructions will be provided for each section and the specifics of the implementation are marked in the code block with a `# TODO: ...` comment. Please be sure to read the instructions carefully!\n",
    "\n",
    "In addition to implementing code, there will be questions for you to answer which relate to the task and your implementation. Each section where you will answer a question is preceded by a '**Question:**' header. Carefully read each question and provide your answer below the '**Answer:**' header by editing the Markdown cell.\n",
    "\n",
    "> **Note**: Code and Markdown cells can be executed using the **Shift+Enter** keyboard shortcut. In addition, a cell can be edited by typically clicking it (double-click for Markdown cells) or by pressing **Enter** while it is highlighted.\n",
    "\n",
    "## General Outline\n",
    "\n",
    "Recall the general outline for SageMaker projects using a notebook instance.\n",
    "\n",
    "1. Download or otherwise retrieve the data.\n",
    "2. Process / Prepare the data.\n",
    "3. Upload the processed data to S3.\n",
    "4. Train a chosen model.\n",
    "5. Test the trained model (typically using a batch transform job).\n",
    "6. Deploy the trained model.\n",
    "7. Use the deployed model.\n",
    "\n",
    "For this project, you will be following the steps in the general outline with some modifications. \n",
    "\n",
    "First, you will not be testing the model in its own step. You will still be testing the model, however, you will do it by deploying your model and then using the deployed model by sending the test data to it. One of the reasons for doing this is so that you can make sure that your deployed model is working correctly before moving forward.\n",
    "\n",
    "In addition, you will deploy and use your trained model a second time. In the second iteration you will customize the way that your trained model is deployed by including some of your own code. In addition, your newly deployed model will be used in the sentiment analysis web app."
   ]
  },
  {
   "cell_type": "markdown",
   "metadata": {},
   "source": [
    "## Step 1: Downloading the data\n",
    "\n",
    "As in the XGBoost in SageMaker notebook, we will be using the [IMDb dataset](http://ai.stanford.edu/~amaas/data/sentiment/)\n",
    "\n",
    "> Maas, Andrew L., et al. [Learning Word Vectors for Sentiment Analysis](http://ai.stanford.edu/~amaas/data/sentiment/). In _Proceedings of the 49th Annual Meeting of the Association for Computational Linguistics: Human Language Technologies_. Association for Computational Linguistics, 2011."
   ]
  },
  {
   "cell_type": "code",
   "execution_count": 1,
   "metadata": {},
   "outputs": [
    {
     "name": "stdout",
     "output_type": "stream",
     "text": [
      "mkdir: cannot create directory ‘../data’: File exists\n",
      "--2020-11-24 15:52:00--  http://ai.stanford.edu/~amaas/data/sentiment/aclImdb_v1.tar.gz\n",
      "Resolving ai.stanford.edu (ai.stanford.edu)... 171.64.68.10\n",
      "Connecting to ai.stanford.edu (ai.stanford.edu)|171.64.68.10|:80... connected.\n",
      "HTTP request sent, awaiting response... 200 OK\n",
      "Length: 84125825 (80M) [application/x-gzip]\n",
      "Saving to: ‘../data/aclImdb_v1.tar.gz’\n",
      "\n",
      "../data/aclImdb_v1. 100%[===================>]  80.23M  25.6MB/s    in 4.1s    \n",
      "\n",
      "2020-11-24 15:52:04 (19.3 MB/s) - ‘../data/aclImdb_v1.tar.gz’ saved [84125825/84125825]\n",
      "\n"
     ]
    }
   ],
   "source": [
    "%mkdir ../data\n",
    "!wget -O ../data/aclImdb_v1.tar.gz http://ai.stanford.edu/~amaas/data/sentiment/aclImdb_v1.tar.gz\n",
    "!tar -zxf ../data/aclImdb_v1.tar.gz -C ../data"
   ]
  },
  {
   "cell_type": "markdown",
   "metadata": {},
   "source": [
    "## Step 2: Preparing and Processing the data\n",
    "\n",
    "Also, as in the XGBoost notebook, we will be doing some initial data processing. The first few steps are the same as in the XGBoost example. To begin with, we will read in each of the reviews and combine them into a single input structure. Then, we will split the dataset into a training set and a testing set."
   ]
  },
  {
   "cell_type": "code",
   "execution_count": 2,
   "metadata": {},
   "outputs": [],
   "source": [
    "import os\n",
    "import glob\n",
    "\n",
    "def read_imdb_data(data_dir='../data/aclImdb'):\n",
    "    data = {}\n",
    "    labels = {}\n",
    "    \n",
    "    for data_type in ['train', 'test']:\n",
    "        data[data_type] = {}\n",
    "        labels[data_type] = {}\n",
    "        \n",
    "        for sentiment in ['pos', 'neg']:\n",
    "            data[data_type][sentiment] = []\n",
    "            labels[data_type][sentiment] = []\n",
    "            \n",
    "            path = os.path.join(data_dir, data_type, sentiment, '*.txt')\n",
    "            files = glob.glob(path)\n",
    "            \n",
    "            for f in files:\n",
    "                with open(f) as review:\n",
    "                    data[data_type][sentiment].append(review.read())\n",
    "                    # Here we represent a positive review by '1' and a negative review by '0'\n",
    "                    labels[data_type][sentiment].append(1 if sentiment == 'pos' else 0)\n",
    "                    \n",
    "            assert len(data[data_type][sentiment]) == len(labels[data_type][sentiment]), \\\n",
    "                    \"{}/{} data size does not match labels size\".format(data_type, sentiment)\n",
    "                \n",
    "    return data, labels"
   ]
  },
  {
   "cell_type": "code",
   "execution_count": 3,
   "metadata": {},
   "outputs": [
    {
     "name": "stdout",
     "output_type": "stream",
     "text": [
      "IMDB reviews: train = 12500 pos / 12500 neg, test = 12500 pos / 12500 neg\n"
     ]
    }
   ],
   "source": [
    "data, labels = read_imdb_data()\n",
    "print(\"IMDB reviews: train = {} pos / {} neg, test = {} pos / {} neg\".format(\n",
    "            len(data['train']['pos']), len(data['train']['neg']),\n",
    "            len(data['test']['pos']), len(data['test']['neg'])))"
   ]
  },
  {
   "cell_type": "markdown",
   "metadata": {},
   "source": [
    "Now that we've read the raw training and testing data from the downloaded dataset, we will combine the positive and negative reviews and shuffle the resulting records."
   ]
  },
  {
   "cell_type": "code",
   "execution_count": 4,
   "metadata": {},
   "outputs": [],
   "source": [
    "from sklearn.utils import shuffle\n",
    "\n",
    "def prepare_imdb_data(data, labels):\n",
    "    \"\"\"Prepare training and test sets from IMDb movie reviews.\"\"\"\n",
    "    \n",
    "    #Combine positive and negative reviews and labels\n",
    "    data_train = data['train']['pos'] + data['train']['neg']\n",
    "    data_test = data['test']['pos'] + data['test']['neg']\n",
    "    labels_train = labels['train']['pos'] + labels['train']['neg']\n",
    "    labels_test = labels['test']['pos'] + labels['test']['neg']\n",
    "    \n",
    "    #Shuffle reviews and corresponding labels within training and test sets\n",
    "    data_train, labels_train = shuffle(data_train, labels_train)\n",
    "    data_test, labels_test = shuffle(data_test, labels_test)\n",
    "    \n",
    "    # Return a unified training data, test data, training labels, test labets\n",
    "    return data_train, data_test, labels_train, labels_test"
   ]
  },
  {
   "cell_type": "code",
   "execution_count": 5,
   "metadata": {},
   "outputs": [
    {
     "name": "stdout",
     "output_type": "stream",
     "text": [
      "IMDb reviews (combined): train = 25000, test = 25000\n"
     ]
    }
   ],
   "source": [
    "train_X, test_X, train_y, test_y = prepare_imdb_data(data, labels)\n",
    "print(\"IMDb reviews (combined): train = {}, test = {}\".format(len(train_X), len(test_X)))"
   ]
  },
  {
   "cell_type": "markdown",
   "metadata": {},
   "source": [
    "Now that we have our training and testing sets unified and prepared, we should do a quick check and see an example of the data our model will be trained on. This is generally a good idea as it allows you to see how each of the further processing steps affects the reviews and it also ensures that the data has been loaded correctly."
   ]
  },
  {
   "cell_type": "code",
   "execution_count": 6,
   "metadata": {},
   "outputs": [
    {
     "name": "stdout",
     "output_type": "stream",
     "text": [
      "An Inconvenient Truth is as entirely simplistic and demagogic as the turgid slop created by the rabid and idiotic Republicans, it meanders along intangible lines until it attempts to gorge something into your face, namely that we'll all be dead in a few hundred years, which is already indisputable, but who cares, humans are selfish, destructive creatures, I frankly do not waste my time caring about human extinction. I'll just call it a \"natural progression\". Let the apocalypse begin, but meanwhile, we have to listen to the same brazen, slanted politicians who propose another \"new society\", well, don't be fooled, we'll all still be controlled by the wealthy, by those in power and by those idiots who created the catastrophes in the first place. Nothing will ever change.<br /><br />Al Gore, whose hypocrisy is quite evident in the film, as he is being driven in a gas guzzling car all alone using a consumerist computer, he also lives on huge acres of land in a rather large mansion, the land itself was used for destructive erosive purposes including cattle, tobacco, pig farming (which accounts for methane gas traces) and who knows what else, his wealth is predicated on exploitation, greed and his investments include numerous large companies in the world with disputable records. I hardly think this man is qualified to lecture the less fortunate, but his prestige is based on his opposition to another ludicrous political party, that is all, meanwhile he emits those very same rancid characteristics that make politics and politicians so appalling. This bozo happens to be living the comfortable life and yet he's lecturing poor people in Africa about crop farming and cut and burn techniques? He travels across the world in first class seats in fuel wasting jets, uses product placed computers in the documentary, and yet he thinks everything is a \"moral issue\". He's entirely absorbed in his own deluded nightmares, he says he came to these conclusions because of the death of his sister (from tobacco induced cancer and the near death of his son by an automobile of all things). Did he fight against the tobacco companies or propose that automobiles be banned because they are dangerous hulking machines? NO. Everything must serve the \"economy\", so why is he any different, the answer is he is not.<br /><br />His forlorn and exhausted attempts at humanistic philosophy are disastrous, all this while he's being filmed in the forest or along a little river eschewing stale life affirming quotes. Well Mr Gore, why don't you try living like the common people then? He is a politician, plain and simple, he has a career invested in the power structure. My question is, why doesn't he concentrate on the powerful industrial nations of the earth who are to blame for most of the complications? He doesn't do that because it would be unwise for \"investments, stocks and corporations\".<br /><br />Al Gore gives monotonous lectures about the subject in the documentary, namely to wealthy white people in the audience, who clap on cue, while showing them graph charts, numbers and percentages, and speaking in a dreary tone, no one without a Harvard (which the elites control) education can make sense out of it, but he tells us everything is going to hell. No kidding, but I think he fails to account for this problem precisely in the approach that capitalism has taken for the planet, namely that it is expendable and a waste dump. He never once mentions how industrialization has created these problems, he just wants to put mild bandages on them but not eradicate the whole oppressive system. Its obvious he was spoiled, sent to the schools for elites and has the same basic temperament for politics as any other back stabbing, inconsistent dullard in Washington. Whoever made this propaganda, as it is in no way different than what the Republicans have conceived, had only goals in mind that were directed by capitalistic impulse. That is to say, someone is going to benefit, and it seems the \"new green\" politicians who support venture capitalist companies who are buying up hordes of land in an attempt to develop the \"new Utopian future\" with \"new technologies\". It's the same old story, Al Gore is a believer in the elitist structure, he actually believes there is a \"democracy\" in the US which I find very naive. If we aren't paying wages to the oil companies, then we'll be paying them to the wind and solar companies.<br /><br />I find the speech at the end quite rancid, along the lines of something GW Bush would have oozed over to the dumb downed masses, Gore speaks about \"people uniting together to defeat communism\" in the 1990's, what it had to do with global warming, absolutely nothing but he attempts to get base emotions ruminating in people. With that said, he didn't understand that communism never existed in the world, the systems in Europe and USSR were merely a tyrannical form of authoritarianism and capitalism, no less different than what controls the US interests. Social ecology was not even mentioned here, which is really a travesty. If you want to change the world, then one must dispose of those antiquated systems that are based on greed, exploitation and violence.\n",
      "0\n"
     ]
    }
   ],
   "source": [
    "print(train_X[100])\n",
    "print(train_y[100])"
   ]
  },
  {
   "cell_type": "markdown",
   "metadata": {},
   "source": [
    "The first step in processing the reviews is to make sure that any html tags that appear should be removed. In addition we wish to tokenize our input, that way words such as *entertained* and *entertaining* are considered the same with regard to sentiment analysis."
   ]
  },
  {
   "cell_type": "code",
   "execution_count": 7,
   "metadata": {},
   "outputs": [],
   "source": [
    "import nltk\n",
    "from nltk.corpus import stopwords\n",
    "from nltk.stem.porter import *\n",
    "\n",
    "import re\n",
    "from bs4 import BeautifulSoup\n",
    "\n",
    "def review_to_words(review):\n",
    "    nltk.download(\"stopwords\", quiet=True)\n",
    "    stemmer = PorterStemmer()\n",
    "    \n",
    "    text = BeautifulSoup(review, \"html.parser\").get_text() # Remove HTML tags\n",
    "    text = re.sub(r\"[^a-zA-Z0-9]\", \" \", text.lower()) # Convert to lower case\n",
    "    words = text.split() # Split string into words\n",
    "    words = [w for w in words if w not in stopwords.words(\"english\")] # Remove stopwords\n",
    "    words = [PorterStemmer().stem(w) for w in words] # stem\n",
    "    \n",
    "    return words"
   ]
  },
  {
   "cell_type": "markdown",
   "metadata": {},
   "source": [
    "The `review_to_words` method defined above uses `BeautifulSoup` to remove any html tags that appear and uses the `nltk` package to tokenize the reviews. As a check to ensure we know how everything is working, try applying `review_to_words` to one of the reviews in the training set."
   ]
  },
  {
   "cell_type": "code",
   "execution_count": 8,
   "metadata": {},
   "outputs": [
    {
     "data": {
      "text/plain": [
       "['inconveni',\n",
       " 'truth',\n",
       " 'entir',\n",
       " 'simplist',\n",
       " 'demagog',\n",
       " 'turgid',\n",
       " 'slop',\n",
       " 'creat',\n",
       " 'rabid',\n",
       " 'idiot',\n",
       " 'republican',\n",
       " 'meander',\n",
       " 'along',\n",
       " 'intang',\n",
       " 'line',\n",
       " 'attempt',\n",
       " 'gorg',\n",
       " 'someth',\n",
       " 'face',\n",
       " 'name',\n",
       " 'dead',\n",
       " 'hundr',\n",
       " 'year',\n",
       " 'alreadi',\n",
       " 'indisput',\n",
       " 'care',\n",
       " 'human',\n",
       " 'selfish',\n",
       " 'destruct',\n",
       " 'creatur',\n",
       " 'frankli',\n",
       " 'wast',\n",
       " 'time',\n",
       " 'care',\n",
       " 'human',\n",
       " 'extinct',\n",
       " 'call',\n",
       " 'natur',\n",
       " 'progress',\n",
       " 'let',\n",
       " 'apocalyps',\n",
       " 'begin',\n",
       " 'meanwhil',\n",
       " 'listen',\n",
       " 'brazen',\n",
       " 'slant',\n",
       " 'politician',\n",
       " 'propos',\n",
       " 'anoth',\n",
       " 'new',\n",
       " 'societi',\n",
       " 'well',\n",
       " 'fool',\n",
       " 'still',\n",
       " 'control',\n",
       " 'wealthi',\n",
       " 'power',\n",
       " 'idiot',\n",
       " 'creat',\n",
       " 'catastroph',\n",
       " 'first',\n",
       " 'place',\n",
       " 'noth',\n",
       " 'ever',\n",
       " 'chang',\n",
       " 'al',\n",
       " 'gore',\n",
       " 'whose',\n",
       " 'hypocrisi',\n",
       " 'quit',\n",
       " 'evid',\n",
       " 'film',\n",
       " 'driven',\n",
       " 'ga',\n",
       " 'guzzl',\n",
       " 'car',\n",
       " 'alon',\n",
       " 'use',\n",
       " 'consumerist',\n",
       " 'comput',\n",
       " 'also',\n",
       " 'live',\n",
       " 'huge',\n",
       " 'acr',\n",
       " 'land',\n",
       " 'rather',\n",
       " 'larg',\n",
       " 'mansion',\n",
       " 'land',\n",
       " 'use',\n",
       " 'destruct',\n",
       " 'eros',\n",
       " 'purpos',\n",
       " 'includ',\n",
       " 'cattl',\n",
       " 'tobacco',\n",
       " 'pig',\n",
       " 'farm',\n",
       " 'account',\n",
       " 'methan',\n",
       " 'ga',\n",
       " 'trace',\n",
       " 'know',\n",
       " 'els',\n",
       " 'wealth',\n",
       " 'predic',\n",
       " 'exploit',\n",
       " 'greed',\n",
       " 'invest',\n",
       " 'includ',\n",
       " 'numer',\n",
       " 'larg',\n",
       " 'compani',\n",
       " 'world',\n",
       " 'disput',\n",
       " 'record',\n",
       " 'hardli',\n",
       " 'think',\n",
       " 'man',\n",
       " 'qualifi',\n",
       " 'lectur',\n",
       " 'less',\n",
       " 'fortun',\n",
       " 'prestig',\n",
       " 'base',\n",
       " 'opposit',\n",
       " 'anoth',\n",
       " 'ludicr',\n",
       " 'polit',\n",
       " 'parti',\n",
       " 'meanwhil',\n",
       " 'emit',\n",
       " 'rancid',\n",
       " 'characterist',\n",
       " 'make',\n",
       " 'polit',\n",
       " 'politician',\n",
       " 'appal',\n",
       " 'bozo',\n",
       " 'happen',\n",
       " 'live',\n",
       " 'comfort',\n",
       " 'life',\n",
       " 'yet',\n",
       " 'lectur',\n",
       " 'poor',\n",
       " 'peopl',\n",
       " 'africa',\n",
       " 'crop',\n",
       " 'farm',\n",
       " 'cut',\n",
       " 'burn',\n",
       " 'techniqu',\n",
       " 'travel',\n",
       " 'across',\n",
       " 'world',\n",
       " 'first',\n",
       " 'class',\n",
       " 'seat',\n",
       " 'fuel',\n",
       " 'wast',\n",
       " 'jet',\n",
       " 'use',\n",
       " 'product',\n",
       " 'place',\n",
       " 'comput',\n",
       " 'documentari',\n",
       " 'yet',\n",
       " 'think',\n",
       " 'everyth',\n",
       " 'moral',\n",
       " 'issu',\n",
       " 'entir',\n",
       " 'absorb',\n",
       " 'delud',\n",
       " 'nightmar',\n",
       " 'say',\n",
       " 'came',\n",
       " 'conclus',\n",
       " 'death',\n",
       " 'sister',\n",
       " 'tobacco',\n",
       " 'induc',\n",
       " 'cancer',\n",
       " 'near',\n",
       " 'death',\n",
       " 'son',\n",
       " 'automobil',\n",
       " 'thing',\n",
       " 'fight',\n",
       " 'tobacco',\n",
       " 'compani',\n",
       " 'propos',\n",
       " 'automobil',\n",
       " 'ban',\n",
       " 'danger',\n",
       " 'hulk',\n",
       " 'machin',\n",
       " 'everyth',\n",
       " 'must',\n",
       " 'serv',\n",
       " 'economi',\n",
       " 'differ',\n",
       " 'answer',\n",
       " 'forlorn',\n",
       " 'exhaust',\n",
       " 'attempt',\n",
       " 'humanist',\n",
       " 'philosophi',\n",
       " 'disastr',\n",
       " 'film',\n",
       " 'forest',\n",
       " 'along',\n",
       " 'littl',\n",
       " 'river',\n",
       " 'eschew',\n",
       " 'stale',\n",
       " 'life',\n",
       " 'affirm',\n",
       " 'quot',\n",
       " 'well',\n",
       " 'mr',\n",
       " 'gore',\n",
       " 'tri',\n",
       " 'live',\n",
       " 'like',\n",
       " 'common',\n",
       " 'peopl',\n",
       " 'politician',\n",
       " 'plain',\n",
       " 'simpl',\n",
       " 'career',\n",
       " 'invest',\n",
       " 'power',\n",
       " 'structur',\n",
       " 'question',\n",
       " 'concentr',\n",
       " 'power',\n",
       " 'industri',\n",
       " 'nation',\n",
       " 'earth',\n",
       " 'blame',\n",
       " 'complic',\n",
       " 'would',\n",
       " 'unwis',\n",
       " 'invest',\n",
       " 'stock',\n",
       " 'corpor',\n",
       " 'al',\n",
       " 'gore',\n",
       " 'give',\n",
       " 'monoton',\n",
       " 'lectur',\n",
       " 'subject',\n",
       " 'documentari',\n",
       " 'name',\n",
       " 'wealthi',\n",
       " 'white',\n",
       " 'peopl',\n",
       " 'audienc',\n",
       " 'clap',\n",
       " 'cue',\n",
       " 'show',\n",
       " 'graph',\n",
       " 'chart',\n",
       " 'number',\n",
       " 'percentag',\n",
       " 'speak',\n",
       " 'dreari',\n",
       " 'tone',\n",
       " 'one',\n",
       " 'without',\n",
       " 'harvard',\n",
       " 'elit',\n",
       " 'control',\n",
       " 'educ',\n",
       " 'make',\n",
       " 'sens',\n",
       " 'tell',\n",
       " 'us',\n",
       " 'everyth',\n",
       " 'go',\n",
       " 'hell',\n",
       " 'kid',\n",
       " 'think',\n",
       " 'fail',\n",
       " 'account',\n",
       " 'problem',\n",
       " 'precis',\n",
       " 'approach',\n",
       " 'capit',\n",
       " 'taken',\n",
       " 'planet',\n",
       " 'name',\n",
       " 'expend',\n",
       " 'wast',\n",
       " 'dump',\n",
       " 'never',\n",
       " 'mention',\n",
       " 'industri',\n",
       " 'creat',\n",
       " 'problem',\n",
       " 'want',\n",
       " 'put',\n",
       " 'mild',\n",
       " 'bandag',\n",
       " 'erad',\n",
       " 'whole',\n",
       " 'oppress',\n",
       " 'system',\n",
       " 'obviou',\n",
       " 'spoil',\n",
       " 'sent',\n",
       " 'school',\n",
       " 'elit',\n",
       " 'basic',\n",
       " 'tempera',\n",
       " 'polit',\n",
       " 'back',\n",
       " 'stab',\n",
       " 'inconsist',\n",
       " 'dullard',\n",
       " 'washington',\n",
       " 'whoever',\n",
       " 'made',\n",
       " 'propaganda',\n",
       " 'way',\n",
       " 'differ',\n",
       " 'republican',\n",
       " 'conceiv',\n",
       " 'goal',\n",
       " 'mind',\n",
       " 'direct',\n",
       " 'capitalist',\n",
       " 'impuls',\n",
       " 'say',\n",
       " 'someon',\n",
       " 'go',\n",
       " 'benefit',\n",
       " 'seem',\n",
       " 'new',\n",
       " 'green',\n",
       " 'politician',\n",
       " 'support',\n",
       " 'ventur',\n",
       " 'capitalist',\n",
       " 'compani',\n",
       " 'buy',\n",
       " 'hord',\n",
       " 'land',\n",
       " 'attempt',\n",
       " 'develop',\n",
       " 'new',\n",
       " 'utopian',\n",
       " 'futur',\n",
       " 'new',\n",
       " 'technolog',\n",
       " 'old',\n",
       " 'stori',\n",
       " 'al',\n",
       " 'gore',\n",
       " 'believ',\n",
       " 'elitist',\n",
       " 'structur',\n",
       " 'actual',\n",
       " 'believ',\n",
       " 'democraci',\n",
       " 'us',\n",
       " 'find',\n",
       " 'naiv',\n",
       " 'pay',\n",
       " 'wage',\n",
       " 'oil',\n",
       " 'compani',\n",
       " 'pay',\n",
       " 'wind',\n",
       " 'solar',\n",
       " 'compani',\n",
       " 'find',\n",
       " 'speech',\n",
       " 'end',\n",
       " 'quit',\n",
       " 'rancid',\n",
       " 'along',\n",
       " 'line',\n",
       " 'someth',\n",
       " 'gw',\n",
       " 'bush',\n",
       " 'would',\n",
       " 'ooz',\n",
       " 'dumb',\n",
       " 'down',\n",
       " 'mass',\n",
       " 'gore',\n",
       " 'speak',\n",
       " 'peopl',\n",
       " 'unit',\n",
       " 'togeth',\n",
       " 'defeat',\n",
       " 'commun',\n",
       " '1990',\n",
       " 'global',\n",
       " 'warm',\n",
       " 'absolut',\n",
       " 'noth',\n",
       " 'attempt',\n",
       " 'get',\n",
       " 'base',\n",
       " 'emot',\n",
       " 'rumin',\n",
       " 'peopl',\n",
       " 'said',\n",
       " 'understand',\n",
       " 'commun',\n",
       " 'never',\n",
       " 'exist',\n",
       " 'world',\n",
       " 'system',\n",
       " 'europ',\n",
       " 'ussr',\n",
       " 'mere',\n",
       " 'tyrann',\n",
       " 'form',\n",
       " 'authoritarian',\n",
       " 'capit',\n",
       " 'less',\n",
       " 'differ',\n",
       " 'control',\n",
       " 'us',\n",
       " 'interest',\n",
       " 'social',\n",
       " 'ecolog',\n",
       " 'even',\n",
       " 'mention',\n",
       " 'realli',\n",
       " 'travesti',\n",
       " 'want',\n",
       " 'chang',\n",
       " 'world',\n",
       " 'one',\n",
       " 'must',\n",
       " 'dispos',\n",
       " 'antiqu',\n",
       " 'system',\n",
       " 'base',\n",
       " 'greed',\n",
       " 'exploit',\n",
       " 'violenc']"
      ]
     },
     "execution_count": 8,
     "metadata": {},
     "output_type": "execute_result"
    }
   ],
   "source": [
    "# TODO: Apply review_to_words to a review (train_X[100] or any other review)\n",
    "\n",
    "review_to_words(train_X[100])"
   ]
  },
  {
   "cell_type": "markdown",
   "metadata": {},
   "source": [
    "**Question:** Above we mentioned that `review_to_words` method removes html formatting and allows us to tokenize the words found in a review, for example, converting *entertained* and *entertaining* into *entertain* so that they are treated as though they are the same word. What else, if anything, does this method do to the input?"
   ]
  },
  {
   "cell_type": "markdown",
   "metadata": {},
   "source": [
    "**Answer:** This methods also converts all text to lowercase and removes stopwords like 'the', 'have', etc."
   ]
  },
  {
   "cell_type": "markdown",
   "metadata": {},
   "source": [
    "The method below applies the `review_to_words` method to each of the reviews in the training and testing datasets. In addition it caches the results. This is because performing this processing step can take a long time. This way if you are unable to complete the notebook in the current session, you can come back without needing to process the data a second time."
   ]
  },
  {
   "cell_type": "code",
   "execution_count": 9,
   "metadata": {},
   "outputs": [],
   "source": [
    "import pickle\n",
    "\n",
    "cache_dir = os.path.join(\"../cache\", \"sentiment_analysis\")  # where to store cache files\n",
    "os.makedirs(cache_dir, exist_ok=True)  # ensure cache directory exists\n",
    "\n",
    "def preprocess_data(data_train, data_test, labels_train, labels_test,\n",
    "                    cache_dir=cache_dir, cache_file=\"preprocessed_data.pkl\"):\n",
    "    \"\"\"Convert each review to words; read from cache if available.\"\"\"\n",
    "\n",
    "    # If cache_file is not None, try to read from it first\n",
    "    cache_data = None\n",
    "    if cache_file is not None:\n",
    "        try:\n",
    "            with open(os.path.join(cache_dir, cache_file), \"rb\") as f:\n",
    "                cache_data = pickle.load(f)\n",
    "            print(\"Read preprocessed data from cache file:\", cache_file)\n",
    "        except:\n",
    "            pass  # unable to read from cache, but that's okay\n",
    "    \n",
    "    # If cache is missing, then do the heavy lifting\n",
    "    if cache_data is None:\n",
    "        # Preprocess training and test data to obtain words for each review\n",
    "        #words_train = list(map(review_to_words, data_train))\n",
    "        #words_test = list(map(review_to_words, data_test))\n",
    "        words_train = [review_to_words(review) for review in data_train]\n",
    "        words_test = [review_to_words(review) for review in data_test]\n",
    "        \n",
    "        # Write to cache file for future runs\n",
    "        if cache_file is not None:\n",
    "            cache_data = dict(words_train=words_train, words_test=words_test,\n",
    "                              labels_train=labels_train, labels_test=labels_test)\n",
    "            with open(os.path.join(cache_dir, cache_file), \"wb\") as f:\n",
    "                pickle.dump(cache_data, f)\n",
    "            print(\"Wrote preprocessed data to cache file:\", cache_file)\n",
    "    else:\n",
    "        # Unpack data loaded from cache file\n",
    "        words_train, words_test, labels_train, labels_test = (cache_data['words_train'],\n",
    "                cache_data['words_test'], cache_data['labels_train'], cache_data['labels_test'])\n",
    "    \n",
    "    return words_train, words_test, labels_train, labels_test"
   ]
  },
  {
   "cell_type": "code",
   "execution_count": 10,
   "metadata": {},
   "outputs": [
    {
     "name": "stdout",
     "output_type": "stream",
     "text": [
      "Read preprocessed data from cache file: preprocessed_data.pkl\n"
     ]
    }
   ],
   "source": [
    "# Preprocess data\n",
    "train_X, test_X, train_y, test_y = preprocess_data(train_X, test_X, train_y, test_y)"
   ]
  },
  {
   "cell_type": "markdown",
   "metadata": {},
   "source": [
    "## Transform the data\n",
    "\n",
    "In the XGBoost notebook we transformed the data from its word representation to a bag-of-words feature representation. For the model we are going to construct in this notebook we will construct a feature representation which is very similar. To start, we will represent each word as an integer. Of course, some of the words that appear in the reviews occur very infrequently and so likely don't contain much information for the purposes of sentiment analysis. The way we will deal with this problem is that we will fix the size of our working vocabulary and we will only include the words that appear most frequently. We will then combine all of the infrequent words into a single category and, in our case, we will label it as `1`.\n",
    "\n",
    "Since we will be using a recurrent neural network, it will be convenient if the length of each review is the same. To do this, we will fix a size for our reviews and then pad short reviews with the category 'no word' (which we will label `0`) and truncate long reviews."
   ]
  },
  {
   "cell_type": "markdown",
   "metadata": {},
   "source": [
    "### (TODO) Create a word dictionary\n",
    "\n",
    "To begin with, we need to construct a way to map words that appear in the reviews to integers. Here we fix the size of our vocabulary (including the 'no word' and 'infrequent' categories) to be `5000` but you may wish to change this to see how it affects the model.\n",
    "\n",
    "> **TODO:** Complete the implementation for the `build_dict()` method below. Note that even though the vocab_size is set to `5000`, we only want to construct a mapping for the most frequently appearing `4998` words. This is because we want to reserve the special labels `0` for 'no word' and `1` for 'infrequent word'."
   ]
  },
  {
   "cell_type": "code",
   "execution_count": 11,
   "metadata": {},
   "outputs": [],
   "source": [
    "import numpy as np\n",
    "\n",
    "def build_dict(data, vocab_size = 5000):\n",
    "    \"\"\"Construct and return a dictionary mapping each of the most frequently appearing words to a unique integer.\"\"\"\n",
    "    \n",
    "    # TODO: Determine how often each word appears in `data`. Note that `data` is a list of sentences and that a\n",
    "    #       sentence is a list of words.\n",
    "    \n",
    "    word_count = {} # A dict storing the words that appear in the reviews along with how often they occur\n",
    "    \n",
    "    for words in data:\n",
    "        for word in words:\n",
    "            if word in word_count:\n",
    "                word_count[word] += 1\n",
    "            else:\n",
    "                word_count[word] = 1\n",
    "    \n",
    "    # TODO: Sort the words found in `data` so that sorted_words[0] is the most frequently appearing word and\n",
    "    #       sorted_words[-1] is the least frequently appearing word.\n",
    "    \n",
    "    sorted_words = [word for word, count in sorted(word_count.items(), key=lambda x:x[1], reverse=True)]\n",
    "    \n",
    "    word_dict = {} # This is what we are building, a dictionary that translates words into integers\n",
    "    \n",
    "    for idx, word in enumerate(sorted_words[:vocab_size - 2]): # The -2 is so that we save room for the 'no word'\n",
    "        word_dict[word] = idx + 2                              # 'infrequent' labels\n",
    "        \n",
    "    return word_dict\n",
    "    #return 0"
   ]
  },
  {
   "cell_type": "code",
   "execution_count": 12,
   "metadata": {},
   "outputs": [],
   "source": [
    "word_dict = build_dict(train_X)"
   ]
  },
  {
   "cell_type": "code",
   "execution_count": 13,
   "metadata": {},
   "outputs": [
    {
     "name": "stdout",
     "output_type": "stream",
     "text": [
      "{'movi': 2, 'film': 3, 'one': 4, 'like': 5, 'time': 6, 'good': 7, 'make': 8, 'charact': 9, 'get': 10, 'see': 11, 'watch': 12, 'stori': 13, 'even': 14, 'would': 15, 'realli': 16, 'well': 17, 'scene': 18, 'look': 19, 'show': 20, 'much': 21, 'end': 22, 'peopl': 23, 'bad': 24, 'go': 25, 'great': 26, 'also': 27, 'first': 28, 'love': 29, 'think': 30, 'way': 31, 'act': 32, 'play': 33, 'made': 34, 'thing': 35, 'could': 36, 'know': 37, 'say': 38, 'seem': 39, 'work': 40, 'plot': 41, 'two': 42, 'actor': 43, 'year': 44, 'come': 45, 'mani': 46, 'seen': 47, 'take': 48, 'want': 49, 'life': 50, 'never': 51, 'littl': 52, 'best': 53, 'tri': 54, 'man': 55, 'ever': 56, 'give': 57, 'better': 58, 'still': 59, 'perform': 60, 'find': 61, 'feel': 62, 'part': 63, 'back': 64, 'use': 65, 'someth': 66, 'director': 67, 'actual': 68, 'interest': 69, 'lot': 70, 'real': 71, 'old': 72, 'cast': 73, 'though': 74, 'live': 75, 'star': 76, 'enjoy': 77, 'guy': 78, 'anoth': 79, 'new': 80, 'role': 81, 'noth': 82, '10': 83, 'funni': 84, 'music': 85, 'point': 86, 'start': 87, 'set': 88, 'girl': 89, 'origin': 90, 'day': 91, 'world': 92, 'everi': 93, 'believ': 94, 'turn': 95, 'quit': 96, 'direct': 97, 'us': 98, 'thought': 99, 'fact': 100, 'minut': 101, 'horror': 102, 'kill': 103, 'action': 104, 'comedi': 105, 'pretti': 106, 'young': 107, 'wonder': 108, 'happen': 109, 'around': 110, 'got': 111, 'effect': 112, 'right': 113, 'long': 114, 'howev': 115, 'big': 116, 'line': 117, 'famili': 118, 'enough': 119, 'seri': 120, 'may': 121, 'need': 122, 'fan': 123, 'bit': 124, 'script': 125, 'beauti': 126, 'person': 127, 'becom': 128, 'without': 129, 'must': 130, 'alway': 131, 'friend': 132, 'tell': 133, 'reason': 134, 'saw': 135, 'last': 136, 'final': 137, 'kid': 138, 'almost': 139, 'put': 140, 'least': 141, 'sure': 142, 'done': 143, 'whole': 144, 'place': 145, 'complet': 146, 'kind': 147, 'expect': 148, 'differ': 149, 'shot': 150, 'far': 151, 'mean': 152, 'anyth': 153, 'book': 154, 'laugh': 155, 'might': 156, 'name': 157, 'sinc': 158, 'begin': 159, '2': 160, 'probabl': 161, 'woman': 162, 'help': 163, 'entertain': 164, 'let': 165, 'screen': 166, 'call': 167, 'tv': 168, 'moment': 169, 'away': 170, 'read': 171, 'yet': 172, 'rather': 173, 'worst': 174, 'run': 175, 'fun': 176, 'lead': 177, 'hard': 178, 'audienc': 179, 'idea': 180, 'anyon': 181, 'episod': 182, 'american': 183, 'found': 184, 'appear': 185, 'bore': 186, 'especi': 187, 'although': 188, 'hope': 189, 'keep': 190, 'cours': 191, 'anim': 192, 'job': 193, 'goe': 194, 'move': 195, 'sens': 196, 'version': 197, 'dvd': 198, 'war': 199, 'money': 200, 'someon': 201, 'mind': 202, 'mayb': 203, 'problem': 204, 'true': 205, 'hous': 206, 'everyth': 207, 'nice': 208, 'second': 209, 'rate': 210, 'three': 211, 'night': 212, 'face': 213, 'follow': 214, 'recommend': 215, 'main': 216, 'product': 217, 'worth': 218, 'leav': 219, 'human': 220, 'special': 221, 'excel': 222, 'togeth': 223, 'wast': 224, 'sound': 225, 'everyon': 226, 'john': 227, 'hand': 228, '1': 229, 'father': 230, 'later': 231, 'eye': 232, 'said': 233, 'view': 234, 'instead': 235, 'review': 236, 'boy': 237, 'high': 238, 'hour': 239, 'miss': 240, 'classic': 241, 'talk': 242, 'wife': 243, 'understand': 244, 'left': 245, 'care': 246, 'black': 247, 'death': 248, 'open': 249, 'murder': 250, 'write': 251, 'half': 252, 'head': 253, 'rememb': 254, 'chang': 255, 'viewer': 256, 'fight': 257, 'gener': 258, 'surpris': 259, 'includ': 260, 'short': 261, 'die': 262, 'fall': 263, 'less': 264, 'els': 265, 'entir': 266, 'piec': 267, 'involv': 268, 'pictur': 269, 'simpli': 270, 'power': 271, 'home': 272, 'top': 273, 'total': 274, 'usual': 275, 'budget': 276, 'attempt': 277, 'suppos': 278, 'releas': 279, 'hollywood': 280, 'terribl': 281, 'song': 282, 'men': 283, 'possibl': 284, 'featur': 285, 'portray': 286, 'disappoint': 287, '3': 288, 'poor': 289, 'coupl': 290, 'stupid': 291, 'camera': 292, 'dead': 293, 'wrong': 294, 'low': 295, 'produc': 296, 'video': 297, 'either': 298, 'aw': 299, 'definit': 300, 'except': 301, 'rest': 302, 'given': 303, 'absolut': 304, 'women': 305, 'lack': 306, 'word': 307, 'writer': 308, 'titl': 309, 'talent': 310, 'decid': 311, 'full': 312, 'perfect': 313, 'along': 314, 'style': 315, 'close': 316, 'truli': 317, 'school': 318, 'save': 319, 'emot': 320, 'age': 321, 'sex': 322, 'next': 323, 'bring': 324, 'mr': 325, 'case': 326, 'killer': 327, 'heart': 328, 'comment': 329, 'sort': 330, 'creat': 331, 'perhap': 332, 'came': 333, 'brother': 334, 'sever': 335, 'joke': 336, 'art': 337, 'dialogu': 338, 'game': 339, 'small': 340, 'base': 341, 'flick': 342, 'written': 343, 'sequenc': 344, 'meet': 345, 'earli': 346, 'often': 347, 'other': 348, 'mother': 349, 'develop': 350, 'humor': 351, 'actress': 352, 'consid': 353, 'dark': 354, 'guess': 355, 'amaz': 356, 'unfortun': 357, 'light': 358, 'lost': 359, 'exampl': 360, 'cinema': 361, 'drama': 362, 'white': 363, 'ye': 364, 'experi': 365, 'imagin': 366, 'mention': 367, 'stop': 368, 'natur': 369, 'forc': 370, 'manag': 371, 'felt': 372, 'cut': 373, 'present': 374, 'children': 375, 'fail': 376, 'son': 377, 'support': 378, 'car': 379, 'qualiti': 380, 'ask': 381, 'hit': 382, 'side': 383, 'voic': 384, 'extrem': 385, 'impress': 386, 'evil': 387, 'wors': 388, 'went': 389, 'stand': 390, 'certainli': 391, 'basic': 392, 'oh': 393, 'overal': 394, 'favorit': 395, 'horribl': 396, 'mysteri': 397, 'number': 398, 'type': 399, 'danc': 400, 'wait': 401, 'hero': 402, '5': 403, 'alreadi': 404, 'learn': 405, 'matter': 406, '4': 407, 'michael': 408, 'genr': 409, 'fine': 410, 'despit': 411, 'throughout': 412, 'walk': 413, 'success': 414, 'histori': 415, 'question': 416, 'zombi': 417, 'town': 418, 'realiz': 419, 'relationship': 420, 'past': 421, 'child': 422, 'daughter': 423, 'late': 424, 'b': 425, 'wish': 426, 'hate': 427, 'credit': 428, 'event': 429, 'theme': 430, 'touch': 431, 'citi': 432, 'today': 433, 'sometim': 434, 'behind': 435, 'god': 436, 'twist': 437, 'sit': 438, 'annoy': 439, 'deal': 440, 'stay': 441, 'abl': 442, 'rent': 443, 'pleas': 444, 'edit': 445, 'blood': 446, 'deserv': 447, 'comic': 448, 'anyway': 449, 'appar': 450, 'soon': 451, 'gave': 452, 'etc': 453, 'level': 454, 'slow': 455, 'chanc': 456, 'score': 457, 'bodi': 458, 'brilliant': 459, 'incred': 460, 'figur': 461, 'situat': 462, 'self': 463, 'major': 464, 'stuff': 465, 'decent': 466, 'element': 467, 'return': 468, 'dream': 469, 'obvious': 470, 'order': 471, 'continu': 472, 'pace': 473, 'ridicul': 474, 'happi': 475, 'group': 476, 'add': 477, 'highli': 478, 'thank': 479, 'ladi': 480, 'novel': 481, 'speak': 482, 'pain': 483, 'career': 484, 'shoot': 485, 'strang': 486, 'heard': 487, 'sad': 488, 'husband': 489, 'polic': 490, 'import': 491, 'break': 492, 'took': 493, 'cannot': 494, 'strong': 495, 'predict': 496, 'robert': 497, 'violenc': 498, 'hilari': 499, 'recent': 500, 'countri': 501, 'known': 502, 'particularli': 503, 'pick': 504, 'documentari': 505, 'season': 506, 'critic': 507, 'jame': 508, 'compar': 509, 'obviou': 510, 'alon': 511, 'told': 512, 'state': 513, 'rock': 514, 'visual': 515, 'theater': 516, 'exist': 517, 'offer': 518, 'opinion': 519, 'gore': 520, 'hold': 521, 'crap': 522, 'result': 523, 'hear': 524, 'room': 525, 'realiti': 526, 'effort': 527, 'clich': 528, 'thriller': 529, 'caus': 530, 'serious': 531, 'sequel': 532, 'explain': 533, 'king': 534, 'local': 535, 'ago': 536, 'hell': 537, 'none': 538, 'note': 539, 'allow': 540, 'sister': 541, 'david': 542, 'simpl': 543, 'femal': 544, 'deliv': 545, 'ok': 546, 'class': 547, 'convinc': 548, 'check': 549, 'suspens': 550, 'win': 551, 'buy': 552, 'oscar': 553, 'huge': 554, 'valu': 555, 'sexual': 556, 'scari': 557, 'cool': 558, 'similar': 559, 'excit': 560, 'provid': 561, 'apart': 562, 'exactli': 563, 'avoid': 564, 'shown': 565, 'seriou': 566, 'english': 567, 'taken': 568, 'whose': 569, 'cinematographi': 570, 'shock': 571, 'polit': 572, 'spoiler': 573, 'offic': 574, 'across': 575, 'middl': 576, 'street': 577, 'pass': 578, 'messag': 579, 'somewhat': 580, 'silli': 581, 'charm': 582, 'modern': 583, 'confus': 584, 'filmmak': 585, 'form': 586, 'tale': 587, 'singl': 588, 'jack': 589, 'mostli': 590, 'attent': 591, 'carri': 592, 'william': 593, 'sing': 594, 'five': 595, 'subject': 596, 'richard': 597, 'prove': 598, 'team': 599, 'stage': 600, 'unlik': 601, 'cop': 602, 'georg': 603, 'televis': 604, 'monster': 605, 'earth': 606, 'villain': 607, 'cover': 608, 'pay': 609, 'marri': 610, 'toward': 611, 'build': 612, 'parent': 613, 'pull': 614, 'due': 615, 'respect': 616, 'fill': 617, 'four': 618, 'dialog': 619, 'remind': 620, 'futur': 621, 'typic': 622, 'weak': 623, '7': 624, 'cheap': 625, 'intellig': 626, 'atmospher': 627, 'british': 628, '80': 629, 'clearli': 630, 'non': 631, 'paul': 632, 'dog': 633, 'fast': 634, 'artist': 635, 'knew': 636, '8': 637, 'crime': 638, 'easili': 639, 'escap': 640, 'adult': 641, 'doubt': 642, 'detail': 643, 'date': 644, 'romant': 645, 'fire': 646, 'member': 647, 'drive': 648, 'gun': 649, 'straight': 650, 'beyond': 651, 'fit': 652, 'attack': 653, 'imag': 654, 'upon': 655, 'posit': 656, 'whether': 657, 'fantast': 658, 'peter': 659, 'captur': 660, 'aspect': 661, 'appreci': 662, 'ten': 663, 'plan': 664, 'discov': 665, 'remain': 666, 'near': 667, 'period': 668, 'air': 669, 'realist': 670, 'mark': 671, 'red': 672, 'dull': 673, 'adapt': 674, 'within': 675, 'spend': 676, 'lose': 677, 'color': 678, 'materi': 679, 'chase': 680, 'mari': 681, 'storylin': 682, 'forget': 683, 'bunch': 684, 'clear': 685, 'lee': 686, 'victim': 687, 'nearli': 688, 'box': 689, 'york': 690, 'inspir': 691, 'match': 692, 'mess': 693, 'finish': 694, 'standard': 695, 'easi': 696, 'truth': 697, 'busi': 698, 'suffer': 699, 'dramat': 700, 'bill': 701, 'space': 702, 'western': 703, 'e': 704, 'list': 705, 'battl': 706, 'notic': 707, 'de': 708, 'french': 709, 'ad': 710, '9': 711, 'tom': 712, 'larg': 713, 'among': 714, 'eventu': 715, 'train': 716, 'accept': 717, 'agre': 718, 'soundtrack': 719, 'spirit': 720, 'third': 721, 'teenag': 722, 'adventur': 723, 'soldier': 724, 'famou': 725, 'drug': 726, 'suggest': 727, 'sorri': 728, 'cri': 729, 'normal': 730, 'babi': 731, 'ultim': 732, 'troubl': 733, 'contain': 734, 'certain': 735, 'cultur': 736, 'romanc': 737, 'rare': 738, 'lame': 739, 'somehow': 740, 'mix': 741, 'disney': 742, 'gone': 743, 'cartoon': 744, 'student': 745, 'fear': 746, 'reveal': 747, 'suck': 748, 'kept': 749, 'attract': 750, 'appeal': 751, 'premis': 752, 'greatest': 753, 'secret': 754, 'design': 755, 'shame': 756, 'throw': 757, 'scare': 758, 'copi': 759, 'wit': 760, 'admit': 761, 'america': 762, 'particular': 763, 'relat': 764, 'brought': 765, 'screenplay': 766, 'whatev': 767, 'pure': 768, '70': 769, 'averag': 770, 'harri': 771, 'master': 772, 'describ': 773, 'treat': 774, 'male': 775, '20': 776, 'fantasi': 777, 'issu': 778, 'warn': 779, 'inde': 780, 'forward': 781, 'background': 782, 'project': 783, 'free': 784, 'memor': 785, 'japanes': 786, 'poorli': 787, 'award': 788, 'locat': 789, 'potenti': 790, 'amus': 791, 'struggl': 792, 'magic': 793, 'weird': 794, 'societi': 795, 'okay': 796, 'imdb': 797, 'doctor': 798, 'accent': 799, 'water': 800, 'hot': 801, 'dr': 802, 'express': 803, 'alien': 804, '30': 805, 'odd': 806, 'crazi': 807, 'choic': 808, 'fiction': 809, 'studio': 810, 'becam': 811, 'control': 812, 'masterpiec': 813, 'fli': 814, 'difficult': 815, 'joe': 816, 'scream': 817, 'costum': 818, 'lover': 819, 'uniqu': 820, 'refer': 821, 'remak': 822, 'vampir': 823, 'girlfriend': 824, 'prison': 825, 'execut': 826, 'wear': 827, 'jump': 828, 'wood': 829, 'unless': 830, 'creepi': 831, 'cheesi': 832, 'superb': 833, 'otherwis': 834, 'parti': 835, 'roll': 836, 'ghost': 837, 'public': 838, 'mad': 839, 'depict': 840, 'moral': 841, 'jane': 842, 'badli': 843, 'earlier': 844, 'week': 845, 'fi': 846, 'dumb': 847, 'grow': 848, 'flaw': 849, 'sci': 850, 'deep': 851, 'cat': 852, 'maker': 853, 'footag': 854, 'older': 855, 'connect': 856, 'bother': 857, 'plenti': 858, 'outsid': 859, 'stick': 860, 'gay': 861, 'catch': 862, 'co': 863, 'plu': 864, 'popular': 865, 'equal': 866, 'social': 867, 'disturb': 868, 'quickli': 869, 'perfectli': 870, 'dress': 871, 'era': 872, '90': 873, 'mistak': 874, 'lie': 875, 'ride': 876, 'previou': 877, 'combin': 878, 'concept': 879, 'band': 880, 'rich': 881, 'answer': 882, 'surviv': 883, 'front': 884, 'sweet': 885, 'christma': 886, 'insid': 887, 'bare': 888, 'eat': 889, 'concern': 890, 'beat': 891, 'listen': 892, 'ben': 893, 'c': 894, 'term': 895, 'serv': 896, 'la': 897, 'meant': 898, 'german': 899, 'stereotyp': 900, 'hardli': 901, 'law': 902, 'innoc': 903, 'desper': 904, 'promis': 905, 'memori': 906, 'intent': 907, 'cute': 908, 'variou': 909, 'steal': 910, 'inform': 911, 'brain': 912, 'post': 913, 'tone': 914, 'island': 915, 'amount': 916, 'nuditi': 917, 'compani': 918, 'track': 919, 'store': 920, 'claim': 921, 'flat': 922, '50': 923, 'hair': 924, 'univers': 925, 'land': 926, 'kick': 927, 'fairli': 928, 'danger': 929, 'scott': 930, 'player': 931, 'plain': 932, 'step': 933, 'crew': 934, 'toni': 935, 'share': 936, 'tast': 937, 'centuri': 938, 'engag': 939, 'achiev': 940, 'travel': 941, 'cold': 942, 'suit': 943, 'rip': 944, 'record': 945, 'manner': 946, 'sadli': 947, 'spot': 948, 'wrote': 949, 'tension': 950, 'intens': 951, 'fascin': 952, 'familiar': 953, 'remark': 954, 'burn': 955, 'depth': 956, 'destroy': 957, 'histor': 958, 'sleep': 959, 'purpos': 960, 'languag': 961, 'ignor': 962, 'ruin': 963, 'delight': 964, 'unbeliev': 965, 'italian': 966, 'soul': 967, 'collect': 968, 'abil': 969, 'clever': 970, 'detect': 971, 'violent': 972, 'rape': 973, 'reach': 974, 'door': 975, 'liter': 976, 'scienc': 977, 'trash': 978, 'commun': 979, 'caught': 980, 'reveng': 981, 'creatur': 982, 'trip': 983, 'approach': 984, 'intrigu': 985, 'fashion': 986, 'skill': 987, 'paint': 988, 'introduc': 989, 'channel': 990, 'complex': 991, 'camp': 992, 'christian': 993, 'extra': 994, 'hole': 995, 'limit': 996, 'immedi': 997, 'ann': 998, 'mental': 999, 'million': 1000, 'comput': 1001, 'mere': 1002, 'slightli': 1003, '6': 1004, 'conclus': 1005, 'slasher': 1006, 'suddenli': 1007, 'imposs': 1008, 'teen': 1009, 'neither': 1010, 'crimin': 1011, 'spent': 1012, 'physic': 1013, 'nation': 1014, 'respons': 1015, 'planet': 1016, 'receiv': 1017, 'fake': 1018, 'sick': 1019, 'blue': 1020, 'bizarr': 1021, 'embarrass': 1022, 'indian': 1023, '15': 1024, 'ring': 1025, 'drop': 1026, 'pop': 1027, 'drag': 1028, 'haunt': 1029, 'suspect': 1030, 'pointless': 1031, 'search': 1032, 'edg': 1033, 'handl': 1034, 'common': 1035, 'biggest': 1036, 'hurt': 1037, 'faith': 1038, 'arriv': 1039, 'technic': 1040, 'angel': 1041, 'dad': 1042, 'genuin': 1043, 'awesom': 1044, 'f': 1045, 'solid': 1046, 'former': 1047, 'van': 1048, 'colleg': 1049, 'focu': 1050, 'count': 1051, 'heavi': 1052, 'tear': 1053, 'wall': 1054, 'rais': 1055, 'younger': 1056, 'visit': 1057, 'laughabl': 1058, 'excus': 1059, 'sign': 1060, 'fair': 1061, 'cult': 1062, 'tough': 1063, 'motion': 1064, 'key': 1065, 'super': 1066, 'desir': 1067, 'stun': 1068, 'addit': 1069, 'exploit': 1070, 'cloth': 1071, 'tortur': 1072, 'smith': 1073, 'davi': 1074, 'race': 1075, 'author': 1076, 'cross': 1077, 'jim': 1078, 'focus': 1079, 'consist': 1080, 'minor': 1081, 'compel': 1082, 'pathet': 1083, 'chemistri': 1084, 'commit': 1085, 'park': 1086, 'frank': 1087, 'tradit': 1088, 'obsess': 1089, 'grade': 1090, '60': 1091, 'asid': 1092, 'brutal': 1093, 'steve': 1094, 'somewher': 1095, 'grant': 1096, 'rule': 1097, 'depress': 1098, 'u': 1099, 'opportun': 1100, 'explor': 1101, 'besid': 1102, 'honest': 1103, 'anti': 1104, 'dub': 1105, 'intend': 1106, 'trailer': 1107, 'bar': 1108, 'longer': 1109, 'scientist': 1110, 'west': 1111, 'regard': 1112, 'judg': 1113, 'decad': 1114, 'silent': 1115, 'creativ': 1116, 'armi': 1117, 'wild': 1118, 'g': 1119, 'south': 1120, 'stewart': 1121, 'draw': 1122, 'road': 1123, 'govern': 1124, 'ex': 1125, 'boss': 1126, 'practic': 1127, 'surprisingli': 1128, 'gang': 1129, 'club': 1130, 'festiv': 1131, 'motiv': 1132, 'page': 1133, 'green': 1134, 'redeem': 1135, 'london': 1136, 'militari': 1137, 'display': 1138, 'idiot': 1139, 'machin': 1140, 'aliv': 1141, 'thrill': 1142, 'repeat': 1143, 'folk': 1144, 'yeah': 1145, '100': 1146, 'nobodi': 1147, '40': 1148, 'journey': 1149, 'garbag': 1150, 'tire': 1151, 'smile': 1152, 'ground': 1153, 'mood': 1154, 'bought': 1155, 'sam': 1156, 'stone': 1157, 'cost': 1158, 'noir': 1159, 'mouth': 1160, 'agent': 1161, 'terrif': 1162, 'requir': 1163, 'utterli': 1164, 'sexi': 1165, 'honestli': 1166, 'area': 1167, 'geniu': 1168, 'report': 1169, 'enter': 1170, 'humour': 1171, 'investig': 1172, 'glad': 1173, 'serial': 1174, 'narr': 1175, 'occasion': 1176, 'passion': 1177, 'climax': 1178, 'marriag': 1179, 'studi': 1180, 'industri': 1181, 'nowher': 1182, 'center': 1183, 'ship': 1184, 'demon': 1185, 'charli': 1186, 'loos': 1187, 'hors': 1188, 'bear': 1189, 'hang': 1190, 'wow': 1191, 'graphic': 1192, 'giant': 1193, 'admir': 1194, 'send': 1195, 'loud': 1196, 'damn': 1197, 'nake': 1198, 'rel': 1199, 'subtl': 1200, 'profession': 1201, 'blow': 1202, 'bottom': 1203, 'insult': 1204, 'batman': 1205, 'boyfriend': 1206, 'doubl': 1207, 'kelli': 1208, 'r': 1209, 'initi': 1210, 'frame': 1211, 'gem': 1212, 'opera': 1213, 'cinemat': 1214, 'church': 1215, 'challeng': 1216, 'affect': 1217, 'drawn': 1218, 'j': 1219, 'seek': 1220, 'evid': 1221, 'l': 1222, 'nightmar': 1223, 'fulli': 1224, 'essenti': 1225, 'conflict': 1226, 'arm': 1227, 'grace': 1228, 'henri': 1229, 'christoph': 1230, 'wind': 1231, 'narrat': 1232, 'assum': 1233, 'witch': 1234, 'hunt': 1235, 'push': 1236, 'wise': 1237, 'chri': 1238, 'nomin': 1239, 'month': 1240, 'repres': 1241, 'affair': 1242, 'hide': 1243, 'avail': 1244, 'sceneri': 1245, 'smart': 1246, 'justic': 1247, 'thu': 1248, 'bond': 1249, 'outstand': 1250, 'interview': 1251, 'flashback': 1252, 'constantli': 1253, 'satisfi': 1254, 'presenc': 1255, 'bed': 1256, 'central': 1257, 'content': 1258, 'sell': 1259, 'iron': 1260, 'everybodi': 1261, 'gag': 1262, 'slowli': 1263, 'hotel': 1264, 'hire': 1265, 'system': 1266, 'charl': 1267, 'hey': 1268, 'thrown': 1269, 'adam': 1270, 'individu': 1271, 'allen': 1272, 'mediocr': 1273, 'jone': 1274, 'billi': 1275, 'ray': 1276, 'lesson': 1277, 'cameo': 1278, 'photographi': 1279, 'fellow': 1280, 'pari': 1281, 'strike': 1282, 'brief': 1283, 'absurd': 1284, 'independ': 1285, 'rise': 1286, 'neg': 1287, 'impact': 1288, 'phone': 1289, 'ill': 1290, 'model': 1291, 'born': 1292, 'fresh': 1293, 'angl': 1294, 'spoil': 1295, 'likabl': 1296, 'abus': 1297, 'discuss': 1298, 'hill': 1299, 'sight': 1300, 'ahead': 1301, 'sent': 1302, 'photograph': 1303, 'occur': 1304, 'blame': 1305, 'logic': 1306, 'shine': 1307, 'mainli': 1308, 'bruce': 1309, 'forev': 1310, 'commerci': 1311, 'skip': 1312, 'surround': 1313, 'teacher': 1314, 'held': 1315, 'segment': 1316, 'blond': 1317, 'zero': 1318, 'summer': 1319, 'resembl': 1320, 'trap': 1321, 'satir': 1322, 'six': 1323, 'fool': 1324, 'ball': 1325, 'queen': 1326, 'sub': 1327, 'twice': 1328, 'tragedi': 1329, 'pack': 1330, 'reaction': 1331, 'bomb': 1332, 'hospit': 1333, 'will': 1334, 'protagonist': 1335, 'mile': 1336, 'sport': 1337, 'vote': 1338, 'jerri': 1339, 'mom': 1340, 'trust': 1341, 'drink': 1342, 'encount': 1343, 'plane': 1344, 'program': 1345, 'current': 1346, 'al': 1347, 'station': 1348, 'choos': 1349, 'martin': 1350, 'celebr': 1351, 'join': 1352, 'lord': 1353, 'tragic': 1354, 'field': 1355, 'round': 1356, 'favourit': 1357, 'jean': 1358, 'robot': 1359, 'vision': 1360, 'tie': 1361, 'arthur': 1362, 'roger': 1363, 'fortun': 1364, 'random': 1365, 'dread': 1366, 'intern': 1367, 'psycholog': 1368, 'nonsens': 1369, 'epic': 1370, 'prefer': 1371, 'improv': 1372, 'formula': 1373, 'pleasur': 1374, 'highlight': 1375, 'legend': 1376, 'tape': 1377, '11': 1378, 'dollar': 1379, 'object': 1380, 'thin': 1381, 'gorgeou': 1382, 'porn': 1383, 'wide': 1384, 'fox': 1385, 'influenc': 1386, 'ugli': 1387, 'buddi': 1388, 'nasti': 1389, 'ii': 1390, 'prepar': 1391, 'warm': 1392, 'supposedli': 1393, 'progress': 1394, 'reflect': 1395, 'worthi': 1396, 'youth': 1397, 'unusu': 1398, 'length': 1399, 'latter': 1400, 'crash': 1401, 'seven': 1402, 'childhood': 1403, 'superior': 1404, 'shop': 1405, 'remot': 1406, 'theatr': 1407, 'pilot': 1408, 'disgust': 1409, 'funniest': 1410, 'paid': 1411, 'fell': 1412, 'castl': 1413, 'trick': 1414, 'convers': 1415, 'disast': 1416, 'establish': 1417, 'gangster': 1418, 'rob': 1419, 'heaven': 1420, 'mine': 1421, 'ident': 1422, 'suicid': 1423, 'disappear': 1424, 'tend': 1425, 'singer': 1426, 'forgotten': 1427, 'heroin': 1428, 'mask': 1429, 'decis': 1430, 'partner': 1431, 'brian': 1432, 'desert': 1433, 'recogn': 1434, 'alan': 1435, 'ms': 1436, 'thoroughli': 1437, 'sky': 1438, 'stuck': 1439, 'p': 1440, 'accur': 1441, 'replac': 1442, 'market': 1443, 'commentari': 1444, 'seemingli': 1445, 'danni': 1446, 'clue': 1447, 'uncl': 1448, 'eddi': 1449, 'andi': 1450, 'devil': 1451, 'jackson': 1452, 'therefor': 1453, 'that': 1454, 'pair': 1455, 'refus': 1456, 'unit': 1457, 'river': 1458, 'fate': 1459, 'fault': 1460, 'ed': 1461, 'accid': 1462, 'afraid': 1463, 'tune': 1464, 'hidden': 1465, 'russian': 1466, 'stephen': 1467, 'clean': 1468, 'readi': 1469, 'test': 1470, 'quick': 1471, 'instanc': 1472, 'irrit': 1473, 'captain': 1474, 'convey': 1475, 'european': 1476, 'insan': 1477, 'frustrat': 1478, 'daniel': 1479, 'rescu': 1480, 'wed': 1481, 'food': 1482, 'chines': 1483, '1950': 1484, 'dirti': 1485, 'angri': 1486, 'lock': 1487, 'joy': 1488, 'price': 1489, 'steven': 1490, 'bland': 1491, 'cage': 1492, 'anymor': 1493, 'rang': 1494, 'wooden': 1495, 'news': 1496, 'n': 1497, 'rush': 1498, 'jason': 1499, 'board': 1500, 'martial': 1501, 'led': 1502, 'worri': 1503, 'twenti': 1504, '12': 1505, 'transform': 1506, 'hunter': 1507, 'cgi': 1508, 'symbol': 1509, 'x': 1510, 'piti': 1511, 'johnni': 1512, 'sentiment': 1513, 'invent': 1514, 'onto': 1515, 'attitud': 1516, 'explan': 1517, 'process': 1518, 'owner': 1519, 'awar': 1520, 'aim': 1521, 'floor': 1522, 'target': 1523, 'energi': 1524, 'favor': 1525, 'necessari': 1526, 'opposit': 1527, 'religi': 1528, 'blind': 1529, 'window': 1530, 'chick': 1531, 'insight': 1532, 'movement': 1533, 'deepli': 1534, 'possess': 1535, 'research': 1536, 'comparison': 1537, 'mountain': 1538, 'rain': 1539, 'comed': 1540, 'whatsoev': 1541, 'grand': 1542, 'mid': 1543, 'began': 1544, 'bank': 1545, 'shadow': 1546, 'parodi': 1547, 'princ': 1548, 'credibl': 1549, 'friendship': 1550, 'pre': 1551, 'taylor': 1552, 'weapon': 1553, 'dougla': 1554, 'flesh': 1555, 'teach': 1556, 'hint': 1557, 'protect': 1558, 'bloodi': 1559, 'terror': 1560, 'marvel': 1561, 'load': 1562, 'watchabl': 1563, 'leader': 1564, 'anybodi': 1565, 'accord': 1566, 'superman': 1567, 'drunk': 1568, 'brown': 1569, 'freddi': 1570, 'appropri': 1571, 'hitler': 1572, 'tim': 1573, 'jeff': 1574, 'seat': 1575, 'knock': 1576, 'unknown': 1577, 'charg': 1578, 'villag': 1579, 'keaton': 1580, 'unnecessari': 1581, 'england': 1582, 'enemi': 1583, 'empti': 1584, 'media': 1585, 'buck': 1586, 'utter': 1587, 'perspect': 1588, 'dare': 1589, 'strength': 1590, 'craft': 1591, 'wave': 1592, 'contrast': 1593, 'nativ': 1594, 'kiss': 1595, 'correct': 1596, 'ford': 1597, 'magnific': 1598, 'anywher': 1599, 'speed': 1600, 'soap': 1601, 'knowledg': 1602, 'chill': 1603, 'nazi': 1604, 'distract': 1605, '1980': 1606, 'breath': 1607, 'ice': 1608, 'mission': 1609, 'fred': 1610, 'moon': 1611, 'jr': 1612, 'crowd': 1613, 'joan': 1614, '000': 1615, 'frighten': 1616, 'kate': 1617, 'soft': 1618, 'hundr': 1619, 'nick': 1620, 'dan': 1621, 'dick': 1622, 'somebodi': 1623, 'dozen': 1624, 'radio': 1625, 'simon': 1626, 'shakespear': 1627, 'andrew': 1628, 'thousand': 1629, 'loss': 1630, 'academi': 1631, 'sum': 1632, 'vehicl': 1633, 'quot': 1634, 'root': 1635, 'account': 1636, 'convent': 1637, 'behavior': 1638, 'leg': 1639, '1970': 1640, 'gold': 1641, 'regular': 1642, 'compet': 1643, 'pretenti': 1644, 'worker': 1645, 'demand': 1646, 'interpret': 1647, 'explos': 1648, 'stretch': 1649, 'notabl': 1650, 'japan': 1651, 'lynch': 1652, 'privat': 1653, 'candi': 1654, 'tarzan': 1655, 'debut': 1656, 'constant': 1657, 'sea': 1658, 'prais': 1659, 'revolv': 1660, 'spi': 1661, 'translat': 1662, 'ass': 1663, 'franc': 1664, 'sat': 1665, 'quiet': 1666, 'technolog': 1667, 'jesu': 1668, 'threaten': 1669, 'failur': 1670, 'punch': 1671, 'met': 1672, 'toy': 1673, 'aid': 1674, 'higher': 1675, 'kevin': 1676, 'interact': 1677, 'vh': 1678, 'mike': 1679, 'abandon': 1680, 'separ': 1681, 'bet': 1682, 'command': 1683, 'confront': 1684, 'belong': 1685, 'site': 1686, 'recal': 1687, 'gotten': 1688, 'stunt': 1689, 'servic': 1690, 'techniqu': 1691, 'cabl': 1692, 'foot': 1693, 'bug': 1694, 'freak': 1695, 'bright': 1696, 'fu': 1697, 'african': 1698, 'capabl': 1699, 'jimmi': 1700, 'stock': 1701, 'fat': 1702, 'succeed': 1703, 'boat': 1704, 'clark': 1705, 'presid': 1706, 'spanish': 1707, 'gene': 1708, 'structur': 1709, 'kidnap': 1710, 'paper': 1711, 'factor': 1712, 'belief': 1713, 'whilst': 1714, 'attend': 1715, 'tree': 1716, 'educ': 1717, 'witti': 1718, 'realism': 1719, 'complic': 1720, 'bob': 1721, 'realis': 1722, 'broken': 1723, 'assist': 1724, 'santa': 1725, 'finest': 1726, 'observ': 1727, 'v': 1728, 'up': 1729, 'depart': 1730, 'determin': 1731, 'smoke': 1732, 'routin': 1733, 'domin': 1734, 'fame': 1735, 'oper': 1736, 'hat': 1737, 'rubbish': 1738, 'lewi': 1739, 'hook': 1740, 'kinda': 1741, 'lone': 1742, 'morgan': 1743, 'advanc': 1744, 'foreign': 1745, 'safe': 1746, 'numer': 1747, 'rank': 1748, 'vs': 1749, 'shallow': 1750, 'washington': 1751, 'werewolf': 1752, 'shape': 1753, 'civil': 1754, 'rose': 1755, 'gari': 1756, 'morn': 1757, 'winner': 1758, 'accomplish': 1759, 'kong': 1760, 'ordinari': 1761, 'peac': 1762, 'virtual': 1763, 'whenev': 1764, 'grab': 1765, 'h': 1766, 'luck': 1767, 'offens': 1768, 'activ': 1769, 'complain': 1770, 'unfunni': 1771, 'bigger': 1772, 'welcom': 1773, 'contriv': 1774, 'patient': 1775, 'dimension': 1776, 'pretend': 1777, 'con': 1778, 'trek': 1779, 'lesbian': 1780, 'eric': 1781, 'cain': 1782, 'code': 1783, 'dri': 1784, 'flash': 1785, 'wake': 1786, 'dancer': 1787, 'corrupt': 1788, 'albert': 1789, 'manipul': 1790, 'statu': 1791, 'guard': 1792, 'speech': 1793, 'sourc': 1794, 'context': 1795, 'awkward': 1796, 'signific': 1797, 'gain': 1798, '13': 1799, 'clip': 1800, 'psycho': 1801, 'anthoni': 1802, 'corni': 1803, 'sean': 1804, 'reli': 1805, 'advic': 1806, 'priest': 1807, 'w': 1808, 'curiou': 1809, 'theatric': 1810, 'religion': 1811, 'addict': 1812, 'flow': 1813, 'howard': 1814, 'specif': 1815, 'skin': 1816, 'jennif': 1817, 'asian': 1818, 'secur': 1819, 'luke': 1820, 'organ': 1821, 'golden': 1822, 'core': 1823, 'comfort': 1824, 'promot': 1825, 'cheat': 1826, 'lucki': 1827, 'cash': 1828, 'associ': 1829, 'lower': 1830, 'dislik': 1831, 'contribut': 1832, 'degre': 1833, 'frequent': 1834, 'regret': 1835, 'frankli': 1836, 'wing': 1837, 'balanc': 1838, 'spell': 1839, 'devic': 1840, 'sake': 1841, 'print': 1842, 'lake': 1843, 'forgiv': 1844, 'thoma': 1845, 'mass': 1846, 'betti': 1847, 'crack': 1848, 'gordon': 1849, 'unexpect': 1850, 'depend': 1851, 'construct': 1852, 'amateur': 1853, 'grown': 1854, 'unfold': 1855, 'invit': 1856, 'categori': 1857, 'honor': 1858, 'intellectu': 1859, 'matur': 1860, 'walter': 1861, 'condit': 1862, 'anna': 1863, 'grew': 1864, 'mirror': 1865, 'spectacular': 1866, 'sudden': 1867, 'veteran': 1868, 'sole': 1869, 'liner': 1870, 'grip': 1871, 'card': 1872, 'overli': 1873, 'gift': 1874, 'meanwhil': 1875, 'experienc': 1876, 'demonstr': 1877, 'freedom': 1878, 'robin': 1879, 'section': 1880, 'circumst': 1881, 'theori': 1882, 'unabl': 1883, 'oliv': 1884, 'drew': 1885, 'sheriff': 1886, 'colour': 1887, 'brilliantli': 1888, 'subtitl': 1889, 'crappi': 1890, 'cook': 1891, 'altern': 1892, 'parker': 1893, 'pile': 1894, 'path': 1895, 'matt': 1896, 'sheer': 1897, 'laughter': 1898, 'defin': 1899, 'sinatra': 1900, 'relief': 1901, 'treatment': 1902, 'wander': 1903, 'lawyer': 1904, 'accident': 1905, 'hall': 1906, 'hank': 1907, 'captiv': 1908, 'dragon': 1909, 'halloween': 1910, 'gratuit': 1911, 'moor': 1912, 'unintent': 1913, 'kung': 1914, 'k': 1915, 'cowboy': 1916, 'barbara': 1917, 'wound': 1918, 'broadway': 1919, 'wayn': 1920, 'jacki': 1921, 'winter': 1922, 'spoof': 1923, 'canadian': 1924, 'surreal': 1925, 'statement': 1926, 'compos': 1927, 'fare': 1928, 'fish': 1929, 'gonna': 1930, 'cheer': 1931, 'treasur': 1932, 'unrealist': 1933, 'emerg': 1934, 'sensit': 1935, 'victor': 1936, 'woodi': 1937, 'driven': 1938, 'sympathet': 1939, 'ran': 1940, 'neighbor': 1941, 'expos': 1942, 'overlook': 1943, 'glass': 1944, 'topic': 1945, 'authent': 1946, 'menac': 1947, 'handsom': 1948, 'ancient': 1949, 'chief': 1950, 'michel': 1951, 'gross': 1952, 'comedian': 1953, 'feet': 1954, 'nevertheless': 1955, 'pleasant': 1956, 'contemporari': 1957, 'russel': 1958, 'built': 1959, 'stranger': 1960, 'network': 1961, 'cinderella': 1962, 'earn': 1963, 'blockbust': 1964, 'miser': 1965, 'endless': 1966, 'consider': 1967, 'letter': 1968, 'gori': 1969, 'underr': 1970, 'solv': 1971, 'switch': 1972, 'brook': 1973, 'virgin': 1974, 'convict': 1975, 'joseph': 1976, 'bullet': 1977, 'edward': 1978, 'victoria': 1979, 'chosen': 1980, 'scale': 1981, 'cynic': 1982, 'alex': 1983, 'scenario': 1984, '0': 1985, 'curs': 1986, 'outrag': 1987, 'sword': 1988, 'gut': 1989, 'com': 1990, 'wrap': 1991, 'driver': 1992, 'substanc': 1993, 'juli': 1994, 'uk': 1995, 'proper': 1996, 'screenwrit': 1997, 'monkey': 1998, 'indic': 1999, 'par': 2000, 'bird': 2001, 'court': 2002, 'remov': 2003, 'advertis': 2004, 'nanci': 2005, 'naiv': 2006, 'inevit': 2007, 'grave': 2008, 'consequ': 2009, 'loser': 2010, 'rental': 2011, 'roy': 2012, 'slap': 2013, 'fatal': 2014, 'germani': 2015, 'bridg': 2016, 'le': 2017, 'brave': 2018, 'invis': 2019, 'footbal': 2020, 'provok': 2021, 'ador': 2022, 'loui': 2023, 'anger': 2024, 'alcohol': 2025, 'chan': 2026, 'anderson': 2027, 'willi': 2028, 'stumbl': 2029, 'ryan': 2030, 'professor': 2031, 'sharp': 2032, 'australian': 2033, 'bat': 2034, 'assassin': 2035, 'patrick': 2036, '1930': 2037, 'amateurish': 2038, 'ape': 2039, 'deni': 2040, 'saturday': 2041, 'heck': 2042, 'trilog': 2043, 'strongli': 2044, 'eight': 2045, 'lousi': 2046, 'liber': 2047, 'cell': 2048, 'refresh': 2049, 'sin': 2050, 'san': 2051, 'vagu': 2052, 'resid': 2053, 'justifi': 2054, 'indi': 2055, 'terrifi': 2056, 'defeat': 2057, 'mini': 2058, 'reput': 2059, 'sympathi': 2060, 'creator': 2061, 'tediou': 2062, 'task': 2063, 'tabl': 2064, 'expert': 2065, 'endur': 2066, 'prevent': 2067, 'trial': 2068, 'employ': 2069, 'imit': 2070, 'basebal': 2071, 'che': 2072, 'rival': 2073, 'offend': 2074, 'max': 2075, 'weekend': 2076, 'complaint': 2077, 'dig': 2078, 'pitch': 2079, 'fairi': 2080, 'europ': 2081, 'beach': 2082, 'format': 2083, 'risk': 2084, 'purchas': 2085, 'murphi': 2086, 'tini': 2087, 'glimps': 2088, 'harsh': 2089, 'reminisc': 2090, 'bite': 2091, 'nois': 2092, 'hype': 2093, 'powel': 2094, 'titan': 2095, 'till': 2096, 'strip': 2097, 'asleep': 2098, 'fals': 2099, '14': 2100, 'north': 2101, 'prime': 2102, 'texa': 2103, 'revel': 2104, 'africa': 2105, 'descript': 2106, 'destruct': 2107, 'surfac': 2108, 'semi': 2109, 'excess': 2110, 'sitcom': 2111, 'arrest': 2112, 'uninterest': 2113, 'spin': 2114, 'inner': 2115, 'hitchcock': 2116, 'argu': 2117, 'controversi': 2118, 'maintain': 2119, 'dinosaur': 2120, 'massiv': 2121, 'makeup': 2122, 'twin': 2123, 'expens': 2124, 'insist': 2125, 'ludicr': 2126, 'melodrama': 2127, 'ideal': 2128, 'stare': 2129, 'reject': 2130, 'kim': 2131, 'supernatur': 2132, 'ga': 2133, 'atroci': 2134, 'host': 2135, 'forest': 2136, 'nail': 2137, 'erot': 2138, 'ala': 2139, 'subplot': 2140, 'press': 2141, 'columbo': 2142, 'notch': 2143, 'dude': 2144, 'cant': 2145, 'identifi': 2146, 'presum': 2147, 'closer': 2148, 'character': 2149, 'forgett': 2150, 'crude': 2151, 'method': 2152, 'plagu': 2153, 'guest': 2154, 'princess': 2155, 'lion': 2156, 'ear': 2157, 'landscap': 2158, 'border': 2159, 'foster': 2160, 'beast': 2161, 'jungl': 2162, 'previous': 2163, 'accus': 2164, 'pacino': 2165, 'aunt': 2166, 'damag': 2167, 'storytel': 2168, 'bound': 2169, 'birth': 2170, 'urban': 2171, 'thirti': 2172, 'nude': 2173, 'guid': 2174, 'propaganda': 2175, 'chose': 2176, 'emma': 2177, 'doll': 2178, 'jess': 2179, 'mate': 2180, 'mainstream': 2181, '25': 2182, 'whoever': 2183, 'pet': 2184, 'warrior': 2185, 'latest': 2186, 'merit': 2187, 'size': 2188, 'poster': 2189, 'upset': 2190, 'deadli': 2191, 'cooper': 2192, 'friday': 2193, 'exact': 2194, 'gritti': 2195, 'rough': 2196, 'settl': 2197, 'buff': 2198, 'contest': 2199, 'ton': 2200, 'contact': 2201, 'blend': 2202, 'corps': 2203, 'citizen': 2204, 'warner': 2205, 'popul': 2206, 'wilson': 2207, 'sun': 2208, '1990': 2209, 'metal': 2210, 'bu': 2211, 'environ': 2212, 'overcom': 2213, 'select': 2214, 'mgm': 2215, 'widow': 2216, 'rat': 2217, 'alic': 2218, 'pitt': 2219, 'particip': 2220, 'link': 2221, 'revolut': 2222, 'guilti': 2223, 'lift': 2224, 'ted': 2225, 'moron': 2226, 'prostitut': 2227, 'accompani': 2228, 'matrix': 2229, '1960': 2230, 'exagger': 2231, 'johnson': 2232, 'corner': 2233, 'afternoon': 2234, 'corpor': 2235, 'doom': 2236, 'sincer': 2237, 'clair': 2238, 'multipl': 2239, 'hood': 2240, 'friendli': 2241, 'holm': 2242, 'instal': 2243, 'leagu': 2244, 'string': 2245, 'defend': 2246, 'hip': 2247, 'campi': 2248, 'aka': 2249, 'advis': 2250, 'junk': 2251, 'examin': 2252, 'sunday': 2253, 'blah': 2254, 'grim': 2255, 'irish': 2256, 'lugosi': 2257, 'confid': 2258, 'shake': 2259, 'tight': 2260, 'pro': 2261, 'shut': 2262, 'icon': 2263, 'rachel': 2264, 'varieti': 2265, 'denni': 2266, 'directli': 2267, 'goal': 2268, 'jaw': 2269, 'attach': 2270, 'medic': 2271, 'mexican': 2272, 'sullivan': 2273, 'truck': 2274, 'dean': 2275, 'legendari': 2276, 'duke': 2277, 'sentenc': 2278, 'prior': 2279, 'terrorist': 2280, 'courag': 2281, 'breast': 2282, 'sarah': 2283, 'vietnam': 2284, 'bourn': 2285, 'proceed': 2286, 'split': 2287, 'donald': 2288, 'behav': 2289, 'un': 2290, 'nose': 2291, 'entri': 2292, 'hong': 2293, 'yell': 2294, 'concentr': 2295, 'everywher': 2296, 'stolen': 2297, 'swim': 2298, 'gather': 2299, 'lifetim': 2300, 'jerk': 2301, 'forth': 2302, 'confess': 2303, 'crush': 2304, 'unconvinc': 2305, 'borrow': 2306, 'buri': 2307, 'pan': 2308, 'deliveri': 2309, 'spite': 2310, 'california': 2311, 'julia': 2312, 'turkey': 2313, 'lip': 2314, 'hoffman': 2315, 'reward': 2316, 'offici': 2317, 'quest': 2318, 'flight': 2319, 'proud': 2320, 'china': 2321, 'freeman': 2322, 'downright': 2323, 'jon': 2324, 'inept': 2325, 'fade': 2326, 'encourag': 2327, 'betray': 2328, 'lazi': 2329, 'jail': 2330, 'notori': 2331, 'sir': 2332, 'worthwhil': 2333, 'sink': 2334, 'fabul': 2335, 'relev': 2336, 'shower': 2337, 'bag': 2338, 'storm': 2339, 'lisa': 2340, 'imageri': 2341, 'retard': 2342, 'branagh': 2343, 'bell': 2344, 'cousin': 2345, 'teeth': 2346, 'susan': 2347, 'survivor': 2348, 'facial': 2349, 'mexico': 2350, 'toler': 2351, 'bride': 2352, 'trade': 2353, 'summari': 2354, 'finger': 2355, 'alright': 2356, 'quirki': 2357, 'stab': 2358, 'shark': 2359, 'tremend': 2360, 'hugh': 2361, 'pose': 2362, 'hyster': 2363, 'bitter': 2364, 'blown': 2365, 'ha': 2366, 'von': 2367, 'christ': 2368, 'cruel': 2369, 'scheme': 2370, 'ron': 2371, 'bone': 2372, 'afterward': 2373, 'larri': 2374, 'address': 2375, 'ned': 2376, 'feed': 2377, 'swear': 2378, 'traci': 2379, 'thumb': 2380, 'snake': 2381, 'distinct': 2382, 'screw': 2383, 'tour': 2384, 'beg': 2385, 'pursu': 2386, 'raw': 2387, 'chair': 2388, 'stomach': 2389, 'photo': 2390, 'obscur': 2391, 'mechan': 2392, 'occas': 2393, 'heavili': 2394, 'argument': 2395, 'hardi': 2396, 'holiday': 2397, 'southern': 2398, 'resist': 2399, 'necessarili': 2400, 'chain': 2401, 'gruesom': 2402, 'cabin': 2403, 'sidney': 2404, 'render': 2405, 'indulg': 2406, 'racist': 2407, 'satan': 2408, 'philip': 2409, 'india': 2410, 'understood': 2411, 'midnight': 2412, 'outfit': 2413, 'fourth': 2414, 'stalk': 2415, 'forgot': 2416, 'belov': 2417, 'lay': 2418, 'pregnant': 2419, 'integr': 2420, 'tongu': 2421, 'obnoxi': 2422, '17': 2423, 'slapstick': 2424, 'garden': 2425, 'restor': 2426, 'carol': 2427, 'deeper': 2428, 'inhabit': 2429, 'magazin': 2430, 'ticket': 2431, 'devot': 2432, 'lincoln': 2433, 'incid': 2434, 'shoe': 2435, 'brad': 2436, 'underground': 2437, 'benefit': 2438, 'disbelief': 2439, 'guarante': 2440, 'elizabeth': 2441, 'lili': 2442, 'anticip': 2443, 'maria': 2444, 'divorc': 2445, 'sandler': 2446, 'slave': 2447, 'amazingli': 2448, 'greater': 2449, 'creation': 2450, 'capit': 2451, 'princip': 2452, 'explod': 2453, 'mildli': 2454, 'cring': 2455, 'bbc': 2456, 'introduct': 2457, 'funnier': 2458, 'extraordinari': 2459, 'lesli': 2460, 'halfway': 2461, 'punish': 2462, 'enhanc': 2463, 'text': 2464, 'wreck': 2465, 'overwhelm': 2466, 'transfer': 2467, 'tap': 2468, 'extent': 2469, 'advantag': 2470, 'horrif': 2471, 'dynam': 2472, 'deliber': 2473, 'east': 2474, 'error': 2475, 'preview': 2476, 'plant': 2477, 'lo': 2478, 'lane': 2479, 'jessica': 2480, 'homosexu': 2481, 'vincent': 2482, '2000': 2483, 'sophist': 2484, 'ensu': 2485, 'vacat': 2486, 'appli': 2487, 'miscast': 2488, 'basi': 2489, 'miller': 2490, 'steel': 2491, 'mansion': 2492, 'measur': 2493, 'bollywood': 2494, 'sleazi': 2495, 'extend': 2496, 'reed': 2497, 'via': 2498, 'spoken': 2499, 'uncomfort': 2500, 'elev': 2501, 'hippi': 2502, 'conceiv': 2503, 'alter': 2504, 'cathol': 2505, 'beer': 2506, 'savag': 2507, 'melt': 2508, 'mous': 2509, 'goofi': 2510, 'breathtak': 2511, 'daili': 2512, 'blair': 2513, 'fix': 2514, 'dentist': 2515, 'overact': 2516, 'stanley': 2517, 'assign': 2518, 'subsequ': 2519, 'carpent': 2520, 'inspector': 2521, 'oppos': 2522, 'sacrific': 2523, 'everyday': 2524, 'properli': 2525, 'nowaday': 2526, 'succe': 2527, 'burt': 2528, 'block': 2529, 'neck': 2530, 'massacr': 2531, 'circl': 2532, 'laura': 2533, 'lesser': 2534, 'pool': 2535, 'fay': 2536, 'portrait': 2537, 'access': 2538, 'mob': 2539, 'concert': 2540, 'christi': 2541, 'fallen': 2542, 'seagal': 2543, 'grey': 2544, 'competit': 2545, 'jewish': 2546, 'usa': 2547, 'chees': 2548, 'sinist': 2549, 'relax': 2550, 'isol': 2551, 'jake': 2552, 'react': 2553, 'lyric': 2554, 'stink': 2555, 'chop': 2556, 'suitabl': 2557, 'creep': 2558, 'spiritu': 2559, 'nonetheless': 2560, 'appal': 2561, 'immens': 2562, '2006': 2563, 'ironi': 2564, 'nine': 2565, 'sold': 2566, 'nut': 2567, 'shirt': 2568, 'adopt': 2569, 'spring': 2570, 'reduc': 2571, 'needless': 2572, 'showcas': 2573, 'franchis': 2574, 'retir': 2575, 'rage': 2576, 'navi': 2577, 'user': 2578, 'luci': 2579, 'per': 2580, 'stanwyck': 2581, 'nurs': 2582, 'jay': 2583, 'digit': 2584, 'bulli': 2585, 'uninspir': 2586, 'bath': 2587, 'asham': 2588, 'zone': 2589, 'laid': 2590, '1940': 2591, '2001': 2592, 'upper': 2593, 'illustr': 2594, 'amongst': 2595, 'broadcast': 2596, 'sutherland': 2597, 'oddli': 2598, 'stylish': 2599, 'disguis': 2600, 'baker': 2601, 'throat': 2602, 'brando': 2603, 'fulfil': 2604, 'aspir': 2605, 'nobl': 2606, 'pride': 2607, 'wwii': 2608, '18': 2609, 'endear': 2610, 'wanna': 2611, 'pound': 2612, 'neighborhood': 2613, 'thief': 2614, 'impli': 2615, 'em': 2616, 'albeit': 2617, 'cinematograph': 2618, 'dinner': 2619, '16': 2620, 'shoulder': 2621, 'prop': 2622, 'distribut': 2623, 'rochest': 2624, 'diseas': 2625, 'tens': 2626, 'bett': 2627, 'coher': 2628, 'shift': 2629, 'dawn': 2630, 'bo': 2631, 'shout': 2632, 'poignant': 2633, 'knife': 2634, 'snow': 2635, 'silenc': 2636, 'rebel': 2637, 'wash': 2638, 'matthau': 2639, 'surf': 2640, 'forti': 2641, 'function': 2642, 'contract': 2643, 'henc': 2644, 'proof': 2645, 'duti': 2646, 'eeri': 2647, 'derek': 2648, 'horrend': 2649, 'silver': 2650, 'mindless': 2651, 'internet': 2652, 'instinct': 2653, 'widmark': 2654, 'height': 2655, 'heat': 2656, 'reunion': 2657, 'chuck': 2658, 'cannib': 2659, 'cancel': 2660, 'elvira': 2661, 'incoher': 2662, 'glori': 2663, 'musician': 2664, 'neat': 2665, 'innov': 2666, 'elvi': 2667, 'alik': 2668, 'repetit': 2669, 'pie': 2670, 'greatli': 2671, 'spielberg': 2672, 'mill': 2673, 'torn': 2674, 'etern': 2675, 'premier': 2676, 'absorb': 2677, 'horrifi': 2678, 'homag': 2679, 'lovabl': 2680, 'infam': 2681, 'itali': 2682, 'britain': 2683, 'precis': 2684, 'bang': 2685, 'diamond': 2686, 'redempt': 2687, 'racism': 2688, 'wealthi': 2689, 'burton': 2690, 'fbi': 2691, 'trite': 2692, 'announc': 2693, 'blank': 2694, 'crisi': 2695, 'nelson': 2696, 'ensembl': 2697, 'dedic': 2698, 'pat': 2699, 'hammer': 2700, 'chaplin': 2701, 'happili': 2702, 'parallel': 2703, 'wilder': 2704, 'flop': 2705, 'resolut': 2706, 'helen': 2707, 'streisand': 2708, 'plastic': 2709, 'conclud': 2710, 'st': 2711, 'factori': 2712, 'broke': 2713, 'disagre': 2714, 'oil': 2715, 'mar': 2716, 'carter': 2717, 'triumph': 2718, 'cube': 2719, 'own': 2720, 'chuckl': 2721, 'fighter': 2722, 'march': 2723, 'row': 2724, 'rocket': 2725, 'vega': 2726, 'bush': 2727, 'weight': 2728, 'climb': 2729, 'dump': 2730, 'mst3k': 2731, 'spare': 2732, 'thug': 2733, 'kurt': 2734, 'dane': 2735, 'enorm': 2736, 'luca': 2737, 'meaning': 2738, 'lust': 2739, 'wherea': 2740, 'boot': 2741, 'sensibl': 2742, 'unforgett': 2743, 'bobbi': 2744, 'rap': 2745, 'butt': 2746, 'karloff': 2747, 'threat': 2748, 'dear': 2749, 'difficulti': 2750, 'adequ': 2751, 'brand': 2752, 'stress': 2753, 'caricatur': 2754, 'fifti': 2755, 'engin': 2756, 'arnold': 2757, 'arrog': 2758, 'swing': 2759, 'elabor': 2760, 'fest': 2761, 'homeless': 2762, 'secretari': 2763, 'ralph': 2764, 'ego': 2765, 'journalist': 2766, 'hamlet': 2767, 'polish': 2768, 'barri': 2769, 'flynn': 2770, 'simpson': 2771, 'arrang': 2772, 'unbear': 2773, 'float': 2774, 'conspiraci': 2775, 'grate': 2776, 'fanci': 2777, 'spike': 2778, 'puppet': 2779, 'tool': 2780, 'induc': 2781, 'resort': 2782, 'exercis': 2783, 'choreograph': 2784, 'basement': 2785, 'guilt': 2786, 'tribut': 2787, 'boll': 2788, 'phillip': 2789, 'pig': 2790, 'muppet': 2791, 'cruis': 2792, 'document': 2793, 'korean': 2794, 'babe': 2795, 'ward': 2796, 'item': 2797, 'fianc': 2798, 'layer': 2799, 'scarecrow': 2800, 'ham': 2801, 'medium': 2802, 'tower': 2803, 'toilet': 2804, 'slip': 2805, 'file': 2806, '24': 2807, 'editor': 2808, 'puzzl': 2809, 'stan': 2810, 'portion': 2811, 'assur': 2812, 'philosoph': 2813, 'superfici': 2814, 'inexplic': 2815, 'denzel': 2816, 'minim': 2817, 'librari': 2818, 'territori': 2819, 'larger': 2820, 'spark': 2821, 'transit': 2822, 'glover': 2823, 'orient': 2824, 'slaughter': 2825, 'doc': 2826, 'catherin': 2827, 'persona': 2828, 'pg': 2829, 'curti': 2830, 'financi': 2831, 'sneak': 2832, 'wolf': 2833, 'boredom': 2834, 'jeremi': 2835, 'ban': 2836, 'dorothi': 2837, 'walken': 2838, 'jet': 2839, 'shi': 2840, 'owe': 2841, 'eleph': 2842, 'metaphor': 2843, 'profound': 2844, 'hudson': 2845, 'whale': 2846, 'backdrop': 2847, 'cusack': 2848, 'multi': 2849, 'ambigu': 2850, '2005': 2851, 'gadget': 2852, 'elsewher': 2853, 'birthday': 2854, 'implaus': 2855, 'rave': 2856, 'ultra': 2857, 'hack': 2858, 'notion': 2859, 'stiff': 2860, 'union': 2861, 'viru': 2862, 'newspap': 2863, 'bibl': 2864, 'canada': 2865, 'poison': 2866, 'hawk': 2867, 'superhero': 2868, 'squar': 2869, 'eastwood': 2870, '1st': 2871, 'eva': 2872, 'urg': 2873, 'deriv': 2874, 'reader': 2875, 'afford': 2876, 'disc': 2877, 'distanc': 2878, 'pad': 2879, 'slight': 2880, 'lloyd': 2881, 'essenc': 2882, 'restaur': 2883, 'button': 2884, 'charisma': 2885, 'drown': 2886, 'huh': 2887, 'spread': 2888, 'cure': 2889, 'heston': 2890, 'health': 2891, 'sadist': 2892, 'montag': 2893, 'skit': 2894, 'gradual': 2895, 'godfath': 2896, 'dealt': 2897, 'estat': 2898, 'peak': 2899, 'lab': 2900, 'companion': 2901, 'fetch': 2902, 'invest': 2903, 'maniac': 2904, 'muslim': 2905, 'scoobi': 2906, 'subtleti': 2907, 'countless': 2908, 'servant': 2909, 'miik': 2910, 'kane': 2911, 'alli': 2912, 'cup': 2913, 'ritter': 2914, 'tea': 2915, 'gothic': 2916, 'electr': 2917, 'briefli': 2918, 'salli': 2919, 'iii': 2920, 'charismat': 2921, 'elect': 2922, 'heroic': 2923, 'neil': 2924, 'toss': 2925, 'bud': 2926, 'grandmoth': 2927, 'nuanc': 2928, 'tender': 2929, 'wannab': 2930, 'cole': 2931, 'admittedli': 2932, 'ingredi': 2933, 'resourc': 2934, 'reel': 2935, 'dawson': 2936, 'mild': 2937, 'shall': 2938, 'stood': 2939, 'stronger': 2940, 'mafia': 2941, 'pit': 2942, 'pauli': 2943, 'punk': 2944, 'reev': 2945, 'poverti': 2946, 'gate': 2947, 'kubrick': 2948, 'label': 2949, 'carrey': 2950, 'outcom': 2951, 'smash': 2952, 'ian': 2953, 'terri': 2954, 'easier': 2955, 'burst': 2956, 'smooth': 2957, 'updat': 2958, 'tag': 2959, 'astair': 2960, 'fond': 2961, 'useless': 2962, 'assault': 2963, 'bakshi': 2964, 'cox': 2965, 'cardboard': 2966, 'exchang': 2967, '2002': 2968, 'resolv': 2969, 'vulner': 2970, 'samurai': 2971, 'qualifi': 2972, 'coincid': 2973, 'sketch': 2974, 'fist': 2975, 'melodramat': 2976, 'vari': 2977, 'divers': 2978, 'rex': 2979, 'increasingli': 2980, 'tame': 2981, 'luckili': 2982, 'scratch': 2983, 'brillianc': 2984, 'suspend': 2985, 'be': 2986, 'conveni': 2987, 'blast': 2988, 'insert': 2989, 'templ': 2990, 'reynold': 2991, 'jami': 2992, 'hamilton': 2993, 'strictli': 2994, 'farm': 2995, 'fisher': 2996, 'nuclear': 2997, 'coach': 2998, 'seventi': 2999, 'meat': 3000, 'gotta': 3001, 'pin': 3002, 'soprano': 3003, 'matthew': 3004, 'ambiti': 3005, 'walker': 3006, 'butcher': 3007, 'timeless': 3008, 'convolut': 3009, 'revers': 3010, 'cave': 3011, 'eccentr': 3012, 'grasp': 3013, 'monk': 3014, 'worthless': 3015, 'recreat': 3016, 'clock': 3017, 'struck': 3018, 'empir': 3019, 'kudo': 3020, 'spooki': 3021, 'brosnan': 3022, 'instantli': 3023, 'closet': 3024, 'discoveri': 3025, 'ninja': 3026, 'joey': 3027, 'eighti': 3028, 'gray': 3029, 'pal': 3030, 'partli': 3031, 'seller': 3032, 'clown': 3033, 'selfish': 3034, 'sloppi': 3035, 'declar': 3036, 'sidekick': 3037, 'communist': 3038, 'wipe': 3039, 'inconsist': 3040, 'bleak': 3041, 'importantli': 3042, 'fifteen': 3043, 'mitchel': 3044, 'miracl': 3045, 'norman': 3046, 'cliff': 3047, 'evok': 3048, 'piano': 3049, 'flawless': 3050, 'ho': 3051, 'australia': 3052, 'seed': 3053, '45': 3054, 'debat': 3055, 'superbl': 3056, 'lifestyl': 3057, 'psychiatrist': 3058, 'chew': 3059, 'cheek': 3060, 'aforement': 3061, 'destin': 3062, 'websit': 3063, 'farc': 3064, 'stoog': 3065, 'enthusiast': 3066, 'dash': 3067, 'abc': 3068, 'akshay': 3069, 'dire': 3070, 'drivel': 3071, 'incompet': 3072, 'pressur': 3073, 'wick': 3074, 'soviet': 3075, 'directori': 3076, 'regardless': 3077, 'slice': 3078, 'splatter': 3079, 'bash': 3080, 'emili': 3081, 'anni': 3082, 'kitchen': 3083, 'wrestl': 3084, 'boil': 3085, 'cia': 3086, 'chapter': 3087, 'mann': 3088, 'glow': 3089, 'prize': 3090, 'distant': 3091, 'judi': 3092, 'duo': 3093, 'cameron': 3094, 'curios': 3095, 'increas': 3096, 'pleasantli': 3097, 'helicopt': 3098, 'dave': 3099, 'flower': 3100, 'lou': 3101, 'jar': 3102, 'recov': 3103, 'artifici': 3104, 'seduc': 3105, 'blob': 3106, 'ken': 3107, 'suppli': 3108, 'cagney': 3109, 'beaten': 3110, 'doo': 3111, 'francisco': 3112, 'eleg': 3113, 'goldberg': 3114, 'drunken': 3115, 'perri': 3116, 'combat': 3117, 'laurel': 3118, 'turner': 3119, 'ellen': 3120, 'splendid': 3121, 'favour': 3122, 'hop': 3123, 'ranger': 3124, 'panic': 3125, 'web': 3126, 'psychot': 3127, 'craig': 3128, 'glenn': 3129, 'craven': 3130, 'min': 3131, 'flip': 3132, 'greek': 3133, 'graduat': 3134, 'shortli': 3135, 'philosophi': 3136, 'plausibl': 3137, 'fx': 3138, '20th': 3139, 'hatr': 3140, 'slightest': 3141, 'gentl': 3142, 'alexand': 3143, 'rid': 3144, 'ruth': 3145, 'wizard': 3146, 'modesti': 3147, 'falk': 3148, 'gandhi': 3149, 'knight': 3150, 'lend': 3151, 'holi': 3152, 'futurist': 3153, 'unpleas': 3154, 'jealou': 3155, 'preciou': 3156, 'ocean': 3157, 'harm': 3158, 'manhattan': 3159, 'legal': 3160, 'tall': 3161, 'dracula': 3162, 'fund': 3163, 'felix': 3164, 'we': 3165, 'overdon': 3166, 'scientif': 3167, 'digniti': 3168, 'mock': 3169, 'forbidden': 3170, 'ami': 3171, 'bless': 3172, 'explicit': 3173, 'giallo': 3174, 'thread': 3175, 'reviv': 3176, 'tank': 3177, 'nod': 3178, 'childish': 3179, 'broad': 3180, 'thick': 3181, 'awaken': 3182, 'unwatch': 3183, 'elderli': 3184, 'margaret': 3185, '2004': 3186, 'eve': 3187, 'pirat': 3188, 'repeatedli': 3189, '99': 3190, 'torment': 3191, 'nerv': 3192, 'fever': 3193, 'mel': 3194, 'yesterday': 3195, 'awe': 3196, 'verhoeven': 3197, 'ah': 3198, 'lean': 3199, 'absenc': 3200, 'stiller': 3201, 'griffith': 3202, 'ambit': 3203, 'timothi': 3204, 'roman': 3205, 'bin': 3206, 'custom': 3207, 'uniform': 3208, 'rivet': 3209, 'automat': 3210, 'publish': 3211, 'acclaim': 3212, 'romero': 3213, 'politician': 3214, 'launch': 3215, 'kay': 3216, 'royal': 3217, 'eas': 3218, 'transport': 3219, 'pulp': 3220, 'phrase': 3221, 'foul': 3222, 'warren': 3223, 'sunshin': 3224, 'bathroom': 3225, 'darker': 3226, 'homicid': 3227, 'stinker': 3228, 'wallac': 3229, 'crook': 3230, 'purpl': 3231, 'gabriel': 3232, 'antic': 3233, 'tomato': 3234, 'pierc': 3235, 'termin': 3236, 'prom': 3237, 'album': 3238, 'evolv': 3239, 'sixti': 3240, 'pray': 3241, 'karen': 3242, 'q': 3243, 'choreographi': 3244, 'viciou': 3245, 'hollow': 3246, 'juvenil': 3247, 'kenneth': 3248, 'horrid': 3249, 'li': 3250, '2003': 3251, 'packag': 3252, 'revolutionari': 3253, 'coloni': 3254, 'contrari': 3255, 'donna': 3256, 'eyr': 3257, 'brazil': 3258, 'saint': 3259, 'marin': 3260, 'ought': 3261, 'rambo': 3262, 'awak': 3263, 'conserv': 3264, 'defi': 3265, 'stole': 3266, 'ireland': 3267, 'beatti': 3268, 'dose': 3269, 'boast': 3270, 'option': 3271, 'candid': 3272, 'overr': 3273, 'nerd': 3274, 'twelv': 3275, 'ramon': 3276, 'mummi': 3277, 'mildr': 3278, 'blade': 3279, 'kapoor': 3280, 'collabor': 3281, 'protest': 3282, 'astonish': 3283, 'detract': 3284, 'confirm': 3285, 'funer': 3286, 'altman': 3287, 'trio': 3288, 'jazz': 3289, 'kirk': 3290, 'natali': 3291, 'fulci': 3292, 'global': 3293, 'flame': 3294, 'spit': 3295, 'shade': 3296, 'destini': 3297, 'audio': 3298, 'nicholson': 3299, 'racial': 3300, 'leap': 3301, 'bull': 3302, 'whip': 3303, 'delici': 3304, 'bottl': 3305, 'tommi': 3306, 'mystic': 3307, 'blake': 3308, 'enterpris': 3309, 'yellow': 3310, 'threw': 3311, 'meaningless': 3312, 'visibl': 3313, 'inherit': 3314, 'bedroom': 3315, 'fonda': 3316, 'pseudo': 3317, 'swedish': 3318, 'harder': 3319, 'enchant': 3320, 'neo': 3321, 'vivid': 3322, 'popcorn': 3323, 'altogeth': 3324, 'merci': 3325, 'adolesc': 3326, 'todd': 3327, 'staff': 3328, 'reunit': 3329, 'voight': 3330, 'exhibit': 3331, 'tip': 3332, 'suspici': 3333, 'madonna': 3334, 'leonard': 3335, 'synopsi': 3336, 'lawrenc': 3337, 'ruthless': 3338, 'crocodil': 3339, 'fanat': 3340, 'kennedi': 3341, 'uneven': 3342, 'respond': 3343, 'roommat': 3344, 'jew': 3345, 'reserv': 3346, 'moodi': 3347, 'await': 3348, 'wire': 3349, 'decor': 3350, 'edi': 3351, 'befriend': 3352, 'atlanti': 3353, 'bust': 3354, 'lemmon': 3355, 'dimens': 3356, 'palma': 3357, 'incident': 3358, 'bold': 3359, 'bargain': 3360, '2007': 3361, 'audit': 3362, 'garner': 3363, 'centr': 3364, 'chao': 3365, 'abysm': 3366, 'unsettl': 3367, 'clumsi': 3368, 'rural': 3369, 'clint': 3370, 'ventur': 3371, 'carl': 3372, 'voyag': 3373, 'bradi': 3374, 'holli': 3375, 'cd': 3376, 'daddi': 3377, 'versu': 3378, 'elimin': 3379, 'tiger': 3380, 'immigr': 3381, 'humili': 3382, 'troop': 3383, 'imperson': 3384, 'cuba': 3385, 'ant': 3386, 'wealth': 3387, 'characterist': 3388, 'neglect': 3389, 'poetic': 3390, 'lit': 3391, 'acknowledg': 3392, 'nearbi': 3393, 'cari': 3394, 'trail': 3395, '2nd': 3396, 'echo': 3397, 'hart': 3398, 'mall': 3399, 'timon': 3400, 'solo': 3401, 'celluloid': 3402, 'domest': 3403, 'infect': 3404, 'collaps': 3405, 'pun': 3406, 'paus': 3407, 'marshal': 3408, 'jeffrey': 3409, 'repuls': 3410, 'mickey': 3411, 'saga': 3412, 'mistaken': 3413, 'homer': 3414, 'prejudic': 3415, 'interrupt': 3416, 'tribe': 3417, 'pant': 3418, 'hbo': 3419, 'promin': 3420, 'undoubtedli': 3421, 'inan': 3422, 'sore': 3423, 'inappropri': 3424, 'coffe': 3425, 'cake': 3426, 'equip': 3427, '1996': 3428, 'apolog': 3429, 'coat': 3430, 'assembl': 3431, 'ginger': 3432, 'chest': 3433, 'gear': 3434, 'milk': 3435, 'olivi': 3436, 'leon': 3437, 'harvey': 3438, 'exot': 3439, 'vulgar': 3440, 'trace': 3441, 'florida': 3442, 'consum': 3443, 'pen': 3444, 'brooklyn': 3445, 'solut': 3446, 'colleagu': 3447, 'retain': 3448, 'maggi': 3449, 'pot': 3450, 'highest': 3451, 'aveng': 3452, 'primari': 3453, 'humbl': 3454, 'embrac': 3455, 'airplan': 3456, 'instant': 3457, 'polanski': 3458, 'furthermor': 3459, 'institut': 3460, 'devast': 3461, 'jenni': 3462, 'colonel': 3463, '3rd': 3464, 'wive': 3465, 'principl': 3466, 'illog': 3467, 'seduct': 3468, 'godzilla': 3469, 'rick': 3470, 'gender': 3471, 'smaller': 3472, 'ya': 3473, 'cope': 3474, 'strain': 3475, 'outer': 3476, 'descend': 3477, 'linda': 3478, 'disabl': 3479, '1999': 3480, 'bowl': 3481, 'dian': 3482, 'sale': 3483, 'dutch': 3484, 'poke': 3485, 'mixtur': 3486, 'glamor': 3487, 'dive': 3488, 'secondli': 3489, 'lol': 3490, 'rabbit': 3491, 'gloriou': 3492, 'hal': 3493, 'blatant': 3494, 'primarili': 3495, 'scope': 3496, 'bubbl': 3497, 'vast': 3498, 'inferior': 3499, 'beneath': 3500, 'devoid': 3501, 'yard': 3502, 'predecessor': 3503, 'gundam': 3504, 'cue': 3505, 'dud': 3506, 'arab': 3507, 'myer': 3508, 'et': 3509, 'senseless': 3510, 'alfr': 3511, 'aggress': 3512, 'alert': 3513, 'trademark': 3514, 'garbo': 3515, 'pearl': 3516, 'simplist': 3517, 'z': 3518, 'countrysid': 3519, 'hideou': 3520, 'museum': 3521, 'april': 3522, 'shelf': 3523, 'breed': 3524, 'disjoint': 3525, 'shirley': 3526, 'casual': 3527, 'domino': 3528, 'streep': 3529, 'talki': 3530, 'invas': 3531, 'grinch': 3532, 'stir': 3533, 'applaud': 3534, 'stellar': 3535, 'unhappi': 3536, 'acid': 3537, 'maci': 3538, 'khan': 3539, 'robinson': 3540, 'sh': 3541, 'defens': 3542, 'mail': 3543, 'boom': 3544, 'stack': 3545, 'experiment': 3546, 'slide': 3547, 'loyal': 3548, 'mayor': 3549, 'hardcor': 3550, 'robberi': 3551, 'obtain': 3552, 'illeg': 3553, 'hopeless': 3554, 'vanish': 3555, 'uwe': 3556, 'oz': 3557, 'rendit': 3558, 'disgrac': 3559, 'wont': 3560, 'counter': 3561, 'blew': 3562, 'tenant': 3563, 'incomprehens': 3564, 'spider': 3565, 'fri': 3566, 'scroog': 3567, 'soccer': 3568, 'dismiss': 3569, 'dicken': 3570, 'emphasi': 3571, 'grandfath': 3572, 'tempt': 3573, 'span': 3574, 'berlin': 3575, 'rifl': 3576, 'amanda': 3577, 'topless': 3578, 'declin': 3579, 'craze': 3580, 'recruit': 3581, 'psychic': 3582, 'hartley': 3583, 'diana': 3584, 'ethnic': 3585, 'trashi': 3586, 'porno': 3587, 'resurrect': 3588, 'shaw': 3589, 'sympath': 3590, 'intim': 3591, 'riot': 3592, 'parad': 3593, 'faster': 3594, 'niro': 3595, 'shed': 3596, 'wet': 3597, 'sibl': 3598, 'goer': 3599, 'lumet': 3600, 'revolt': 3601, 'ration': 3602, 'bitch': 3603, 'justin': 3604, 'woo': 3605, 'mario': 3606, 'region': 3607, 'hopper': 3608, 'ballet': 3609, 'eager': 3610, 'slick': 3611, 'patriot': 3612, 'hesit': 3613, 'rider': 3614, 'biographi': 3615, 'choru': 3616, '00': 3617, 'enlighten': 3618, 'partial': 3619, 'gap': 3620, 'nephew': 3621, 'weakest': 3622, 'dealer': 3623, 'farmer': 3624, 'immort': 3625, 'commend': 3626, 'lena': 3627, 'wheel': 3628, 'feminist': 3629, 'unreal': 3630, 'honesti': 3631, 'worm': 3632, 'ensur': 3633, 'steam': 3634, 'wendi': 3635, 'jonathan': 3636, 'andr': 3637, 'victori': 3638, 'composit': 3639, 'blunt': 3640, 'repress': 3641, 'wore': 3642, 'kingdom': 3643, 'confin': 3644, 'sandra': 3645, 'hung': 3646, 'properti': 3647, 'charlott': 3648, 'snap': 3649, 'prequel': 3650, 'util': 3651, 'safeti': 3652, 'nostalg': 3653, 'sappi': 3654, 'morri': 3655, 'similarli': 3656, 'franco': 3657, 'vice': 3658, 'owen': 3659, 'mutant': 3660, 'psychopath': 3661, 'skull': 3662, 'leo': 3663, 'macarthur': 3664, 'compens': 3665, 'campbel': 3666, 'emperor': 3667, 'recycl': 3668, 'montana': 3669, 'drum': 3670, 'strand': 3671, 'pattern': 3672, 'valuabl': 3673, 'del': 3674, 'repli': 3675, 'dust': 3676, '1972': 3677, 'latin': 3678, 'dalton': 3679, 'despair': 3680, 'miseri': 3681, 'bumbl': 3682, 'heartbreak': 3683, 'tail': 3684, 'bonu': 3685, 'tad': 3686, 'compass': 3687, 'nervou': 3688, 'rambl': 3689, 'whoopi': 3690, 'hyde': 3691, 'rope': 3692, 'cg': 3693, 'farrel': 3694, 'acquir': 3695, 'rocki': 3696, 'thru': 3697, 'bow': 3698, 'drain': 3699, 'bergman': 3700, 'snl': 3701, 'speci': 3702, 'deed': 3703, 'exit': 3704, 'kyle': 3705, 'orson': 3706, 'pour': 3707, 'slug': 3708, 'rapist': 3709, 'bleed': 3710, '35': 3711, 'airport': 3712, 'radic': 3713, 'percept': 3714, 'da': 3715, 'carradin': 3716, 'chess': 3717, 'oppress': 3718, 'mistress': 3719, 'gimmick': 3720, 'rotten': 3721, 'tonight': 3722, 'contempl': 3723, 'roth': 3724, 'wacki': 3725, 'olli': 3726, 'downhil': 3727, 'romp': 3728, 'gal': 3729, 'martian': 3730, 'belt': 3731, 'unpredict': 3732, '1983': 3733, 'melodi': 3734, 'mislead': 3735, 'paltrow': 3736, 'shelley': 3737, 'pervert': 3738, 'banal': 3739, 'slash': 3740, 'programm': 3741, 'preach': 3742, 'dazzl': 3743, 'edgar': 3744, 'stilt': 3745, 'arc': 3746, 'attorney': 3747, 'pursuit': 3748, 'taught': 3749, 'pervers': 3750, 'tackl': 3751, 'heal': 3752, 'arguabl': 3753, 'tooth': 3754, 'champion': 3755, 'closest': 3756, 'uplift': 3757, 'sensat': 3758, 'raymond': 3759, 'graham': 3760, 'marti': 3761, 'vocal': 3762, 'vengeanc': 3763, 'employe': 3764, 'maid': 3765, 'plight': 3766, 'virginia': 3767, 'franki': 3768, 'cleverli': 3769, 'poem': 3770, 'passeng': 3771, 'orang': 3772, 'duval': 3773, 'gambl': 3774, 'mesmer': 3775, 'chicken': 3776, 'bela': 3777, 'rubi': 3778, 'tiresom': 3779, 'conneri': 3780, 'dixon': 3781, 'bay': 3782, 'giggl': 3783, 'mute': 3784, 'outing': 3785, 'amitabh': 3786, 'inject': 3787, 'engross': 3788, 'abraham': 3789, 'tube': 3790, 'secretli': 3791, 'convincingli': 3792, 'clone': 3793, 'profan': 3794, 'quarter': 3795, 'swallow': 3796, 'extens': 3797, 'calm': 3798, 'suffic': 3799, 'yawn': 3800, '1968': 3801, 'scottish': 3802, 'crystal': 3803, 'numb': 3804, 'climact': 3805, 'paranoia': 3806, 'gerard': 3807, 'habit': 3808, 'monologu': 3809, 'volum': 3810, 'whine': 3811, 'pokemon': 3812, 'sirk': 3813, 'iran': 3814, 'lundgren': 3815, 'poetri': 3816, 'bend': 3817, 'im': 3818, 'taxi': 3819, 'austen': 3820, 'surpass': 3821, 'frankenstein': 3822, 'profess': 3823, 'fed': 3824, 'lowest': 3825, 'linger': 3826, 'expand': 3827, 'richardson': 3828, 'ethan': 3829, 'septemb': 3830, 'junior': 3831, 'underst': 3832, 'chicago': 3833, 'backward': 3834, 'plod': 3835, 'dispos': 3836, 'trend': 3837, 'abort': 3838, 'meander': 3839, 'franci': 3840, 'grotesqu': 3841, 'nichola': 3842, 'earl': 3843, 'spock': 3844, 'simplic': 3845, 'nostalgia': 3846, 'eugen': 3847, 'hum': 3848, 'cannon': 3849, 'lure': 3850, 'muddl': 3851, 'sue': 3852, 'tourist': 3853, 'descent': 3854, 'econom': 3855, 'catchi': 3856, 'rubber': 3857, 'instrument': 3858, 'myth': 3859, 'household': 3860, 'literatur': 3861, 'dysfunct': 3862, 'rant': 3863, 'waitress': 3864, 'spoke': 3865, 'der': 3866, 'mundan': 3867, 'greedi': 3868, 'stallon': 3869, 'compliment': 3870, 'equival': 3871, 'cent': 3872, 'recognis': 3873, 'phoni': 3874, 'dictat': 3875, 'molli': 3876, 'firstli': 3877, 'irrelev': 3878, 'bacal': 3879, 'alongsid': 3880, 'mankind': 3881, 'phantom': 3882, 'eaten': 3883, 'sissi': 3884, 'coast': 3885, 'omen': 3886, 'flee': 3887, 'occupi': 3888, 'crucial': 3889, 'randi': 3890, 'june': 3891, 'dement': 3892, 'insur': 3893, 'lang': 3894, 'stale': 3895, 'hello': 3896, 'duck': 3897, 'recognit': 3898, 'deaf': 3899, 'louis': 3900, 'map': 3901, 'damon': 3902, 'mortal': 3903, 'carel': 3904, 'furi': 3905, 'damm': 3906, 'distinguish': 3907, 'likewis': 3908, 'lengthi': 3909, 'onlin': 3910, 'biko': 3911, 'antwon': 3912, 'heel': 3913, 'cyborg': 3914, 'blackmail': 3915, 'grayson': 3916, 'wisdom': 3917, 'dreari': 3918, 'daisi': 3919, 'bump': 3920, 'bike': 3921, 'freez': 3922, 'rude': 3923, 'labor': 3924, 'buffalo': 3925, 'twilight': 3926, 'drake': 3927, 'ashley': 3928, 'reign': 3929, 'newli': 3930, 'loyalti': 3931, '1973': 3932, 'rooney': 3933, 'emphas': 3934, 'startl': 3935, 'pink': 3936, 'boxer': 3937, 'inher': 3938, 'proce': 3939, 'baddi': 3940, 'vein': 3941, 'attribut': 3942, 'provoc': 3943, 'approv': 3944, 'analysi': 3945, 'butler': 3946, 'exposur': 3947, 'nineti': 3948, 'unorigin': 3949, 'worn': 3950, 'interior': 3951, 'sailor': 3952, 'tunnel': 3953, 'keith': 3954, 'ridden': 3955, 'barrymor': 3956, 'incorpor': 3957, 'basketbal': 3958, 'chronicl': 3959, 'prey': 3960, 'bunni': 3961, 'meyer': 3962, 'er': 3963, 'nicol': 3964, 'belushi': 3965, 'indiffer': 3966, 'othello': 3967, 'stalker': 3968, 'drift': 3969, 'meg': 3970, 'robbin': 3971, 'substitut': 3972, 'underli': 3973, 'unrel': 3974, 'millionair': 3975, 'fleet': 3976, 'barrel': 3977, 'degrad': 3978, 'elm': 3979, 'mighti': 3980, 'hypnot': 3981, 'condemn': 3982, 'walsh': 3983, 'undeni': 3984, 'carla': 3985, 'improvis': 3986, 'julian': 3987, 'mormon': 3988, 'simmon': 3989, 'predat': 3990, 'mtv': 3991, 'rukh': 3992, 'palac': 3993, '3d': 3994, 'edgi': 3995, 'exquisit': 3996, 'unawar': 3997, 'hay': 3998, 'novak': 3999, 'warmth': 4000, 'agenda': 4001, 'priceless': 4002, 'nyc': 4003, 'watson': 4004, 'enthusiasm': 4005, 'alarm': 4006, 'vital': 4007, 'lampoon': 4008, 'errol': 4009, 'alison': 4010, 'greed': 4011, 'reid': 4012, 'roof': 4013, 'disord': 4014, 'firm': 4015, 'shove': 4016, 'marion': 4017, 'dolph': 4018, 'peck': 4019, 'spain': 4020, 'drip': 4021, 'testament': 4022, 'randomli': 4023, 'peril': 4024, 'gestur': 4025, 'pamela': 4026, 'beatl': 4027, 'simultan': 4028, 'championship': 4029, '13th': 4030, 'sergeant': 4031, 'coup': 4032, 'showdown': 4033, 'glanc': 4034, 'minimum': 4035, 'distort': 4036, 'profit': 4037, 'thompson': 4038, 'campaign': 4039, 'preserv': 4040, 'angela': 4041, 'eastern': 4042, 'what': 4043, 'valentin': 4044, 'ponder': 4045, 'session': 4046, 'nun': 4047, 'cassidi': 4048, 'iraq': 4049, 'petti': 4050, 'crown': 4051, 'orlean': 4052, '1933': 4053, 'zizek': 4054, 'israel': 4055, 'unleash': 4056, 'travesti': 4057, 'crow': 4058, 'stroke': 4059, 'han': 4060, 'wig': 4061, 'exposit': 4062, 'jan': 4063, 'mon': 4064, 'perpetu': 4065, 'calib': 4066, 'stake': 4067, 'quinn': 4068, 'realm': 4069, 'cooki': 4070, 'reson': 4071, 'bro': 4072, 'contradict': 4073, 'restrain': 4074, 'gentleman': 4075, 'buster': 4076, 'rout': 4077, 'brenda': 4078, 'climat': 4079, 'represent': 4080, 'regist': 4081, 'din': 4082, 'crawl': 4083, 'valley': 4084, 'scotland': 4085, '1984': 4086, 'kurosawa': 4087, 'fido': 4088, 'empathi': 4089, 'shootout': 4090, 'unimagin': 4091, 'cream': 4092, 'miyazaki': 4093, 'sabrina': 4094, 'shoddi': 4095, 'pretens': 4096, 'delic': 4097, 'painter': 4098, 'passabl': 4099, 'geek': 4100, 'sucker': 4101, 'absent': 4102, 'wax': 4103, 'pole': 4104, 'businessman': 4105, 'warrant': 4106, 'tacki': 4107, 'ross': 4108, 'unseen': 4109, 'femm': 4110, 'mclaglen': 4111, 'perceiv': 4112, 'soderbergh': 4113, 'derang': 4114, 'shaki': 4115, '1987': 4116, 'monoton': 4117, 'sammi': 4118, 'darren': 4119, 'distress': 4120, 'traumat': 4121, 'demis': 4122, 'unsatisfi': 4123, 'compromis': 4124, 'censor': 4125, 'stargat': 4126, 'greg': 4127, 'meryl': 4128, '1997': 4129, 'ustinov': 4130, 'crawford': 4131, 'spacey': 4132, 'cloud': 4133, 'abomin': 4134, 'dana': 4135, 'fuller': 4136, 'baldwin': 4137, 'josh': 4138, 'exclus': 4139, 'correctli': 4140, 'uncov': 4141, 'sid': 4142, 'accuraci': 4143, 'kumar': 4144, 'deceas': 4145, 'anchor': 4146, 'tarantino': 4147, 'furiou': 4148, 'wholli': 4149, 'expedit': 4150, 'primit': 4151, 'norm': 4152, 'unravel': 4153, 'tech': 4154, 'verbal': 4155, 'antonioni': 4156, 'nathan': 4157, 'reluct': 4158, 'valid': 4159, 'click': 4160, 'deniro': 4161, '1993': 4162, 'judgment': 4163, 'austin': 4164, 'seal': 4165, 'polici': 4166, 'fenc': 4167, 'clash': 4168, 'dee': 4169, 'fog': 4170, 'jewel': 4171, 'shanghai': 4172, '1995': 4173, '2008': 4174, '3000': 4175, 'murray': 4176, 'alec': 4177, 'fought': 4178, 'enforc': 4179, 'patienc': 4180, 'bake': 4181, 'sand': 4182, 'trait': 4183, 'darn': 4184, '1971': 4185, 'sheet': 4186, 'slam': 4187, 'wang': 4188, 'malon': 4189, 'conduct': 4190, 'vanc': 4191, 'crippl': 4192, 'temper': 4193, 'nicola': 4194, 'sunni': 4195, 'hallucin': 4196, 'debt': 4197, 'fabric': 4198, 'pocket': 4199, 'unfair': 4200, 'joel': 4201, 'roller': 4202, 'mode': 4203, 'ritual': 4204, 'fart': 4205, 'behold': 4206, 'sustain': 4207, 'dreck': 4208, 'seldom': 4209, 'clerk': 4210, 'tax': 4211, 'logan': 4212, 'wretch': 4213, 'fundament': 4214, 'penni': 4215, 'clau': 4216, 'robber': 4217, 'technicolor': 4218, 'helpless': 4219, 'soup': 4220, 'schedul': 4221, 'canyon': 4222, 'phil': 4223, 'squad': 4224, 'bias': 4225, 'critiqu': 4226, 'scriptwrit': 4227, 'tactic': 4228, 'bridget': 4229, 'legaci': 4230, 'isabel': 4231, 'shell': 4232, 'preposter': 4233, 'stark': 4234, 'exhaust': 4235, 'despis': 4236, 'grief': 4237, 'pete': 4238, 'runner': 4239, 'guitar': 4240, 'divid': 4241, 'outlin': 4242, 'preston': 4243, 'stuart': 4244, 'conscious': 4245, 'sweep': 4246, 'rita': 4247, 'unexpectedli': 4248, 'consciou': 4249, 'sniper': 4250, 'passag': 4251, 'sentinel': 4252, 'alley': 4253, 'delv': 4254, 'sugar': 4255, 'downey': 4256, 'restrict': 4257, 'marc': 4258, 'connor': 4259, 'invad': 4260, 'culmin': 4261, 'flair': 4262, 'bloom': 4263, 'boyl': 4264, 'inabl': 4265, 'rehash': 4266, 'lacklust': 4267, 'agenc': 4268, 'jacket': 4269, 'kansa': 4270, 'russia': 4271, 'liberti': 4272, 'jodi': 4273, 'alicia': 4274, 'rear': 4275, 'drove': 4276, 'vomit': 4277, 'implic': 4278, 'newman': 4279, 'gregori': 4280, 'propos': 4281, 'cigarett': 4282, 'palanc': 4283, 'pale': 4284, 'chainsaw': 4285, 'improb': 4286, 'rehears': 4287, 'tendenc': 4288, 'karl': 4289, 'cap': 4290, 'wrench': 4291, 'behaviour': 4292, 'rod': 4293, 'delet': 4294, 'aesthet': 4295, 'feat': 4296, 'horn': 4297, 'asylum': 4298, 'awhil': 4299, 'vet': 4300, '1936': 4301, 'kolchak': 4302, 'bacon': 4303, 'lush': 4304, 'rampag': 4305, 'ladder': 4306, 'foxx': 4307, '22': 4308, 'sharon': 4309, 'arrow': 4310, 'yeti': 4311, 'tripe': 4312, 'mccoy': 4313, 'el': 4314, 'rhythm': 4315, 'tasteless': 4316, 'rumor': 4317, '1978': 4318, 'newcom': 4319, 'visitor': 4320, 'sung': 4321, 'aristocrat': 4322, 'conscienc': 4323, 'scoop': 4324, '1920': 4325, 'suffici': 4326, 'filler': 4327, 'elit': 4328, 'amazon': 4329, 'globe': 4330, '19th': 4331, 'stream': 4332, 'paramount': 4333, 'minu': 4334, 'fright': 4335, 'wagner': 4336, 'wildli': 4337, 'lurk': 4338, 'suspicion': 4339, 'hackney': 4340, 'shortcom': 4341, 'tomorrow': 4342, 'hungri': 4343, 'paradis': 4344, 'financ': 4345, 'coaster': 4346, 'weav': 4347, '1988': 4348, 'spice': 4349, 'hulk': 4350, 'prank': 4351, 'underneath': 4352, 'loneli': 4353, 'basing': 4354, 'thunderbird': 4355, 'heist': 4356, 'couch': 4357, 'ram': 4358, '75': 4359, 'abrupt': 4360, 'en': 4361, 'worship': 4362, 'entranc': 4363, 'penn': 4364, '1939': 4365, 'brit': 4366, 'lectur': 4367, 'rub': 4368, 'straightforward': 4369, 'impos': 4370, 'dirt': 4371, 'leigh': 4372, 'paxton': 4373, 'grudg': 4374, 'iv': 4375, 'chavez': 4376, 'bread': 4377, 'tierney': 4378, 'atroc': 4379, 'quietli': 4380, 'ingeni': 4381, 'recogniz': 4382, 'literari': 4383, 'immers': 4384, 'curli': 4385, 'secondari': 4386, 'minist': 4387, 'beverli': 4388, 'inmat': 4389, 'hopkin': 4390, 'counterpart': 4391, 'cancer': 4392, '1989': 4393, 'smell': 4394, 'posey': 4395, 'springer': 4396, 'teas': 4397, 'standout': 4398, 'naughti': 4399, 'chamberlain': 4400, 'wwe': 4401, 'choppi': 4402, '1986': 4403, 'ratso': 4404, 'duel': 4405, 'transcend': 4406, 'nemesi': 4407, 'lindsay': 4408, 'clan': 4409, 'cattl': 4410, 'ace': 4411, 'morbid': 4412, 'net': 4413, 'attenborough': 4414, 'heartfelt': 4415, 'policeman': 4416, 'sublim': 4417, 'skeptic': 4418, 'watcher': 4419, 'convert': 4420, 'variat': 4421, 'quaid': 4422, 'yearn': 4423, 'injuri': 4424, 'moreov': 4425, 'sassi': 4426, 'missil': 4427, 'bernard': 4428, 'misguid': 4429, 'entitl': 4430, 'esther': 4431, 'geni': 4432, 'enthral': 4433, 'nolan': 4434, 'laurenc': 4435, 'graini': 4436, 'cruelti': 4437, 'brood': 4438, 'grin': 4439, 'youngest': 4440, 'diari': 4441, 'vader': 4442, 'kidman': 4443, 'rosemari': 4444, '1979': 4445, 'reliabl': 4446, 'artsi': 4447, 'bye': 4448, 'steadi': 4449, 'setup': 4450, 'hk': 4451, 'mytholog': 4452, 'egg': 4453, 'poe': 4454, 'obstacl': 4455, 'enabl': 4456, 'characteris': 4457, 'facil': 4458, 'out': 4459, 'spiral': 4460, 'uncut': 4461, 'kitti': 4462, 'dont': 4463, 'puppi': 4464, 'hopelessli': 4465, 'bean': 4466, 'unexplain': 4467, 'tyler': 4468, 'moder': 4469, 'carlito': 4470, 'buzz': 4471, 'hammi': 4472, 'underworld': 4473, 'weather': 4474, 'decept': 4475, 'acquaint': 4476, 'martha': 4477, 'gina': 4478, 'niec': 4479, 'exterior': 4480, 'clueless': 4481, 'bronson': 4482, 'bewar': 4483, 'athlet': 4484, 'disastr': 4485, '1969': 4486, 'despic': 4487, 'patricia': 4488, 'narrow': 4489, 'baffl': 4490, 'oblig': 4491, 'sweat': 4492, 'hain': 4493, 'bounc': 4494, 'heap': 4495, 'kline': 4496, 'effici': 4497, 'spontan': 4498, 'brendan': 4499, 'preming': 4500, 'fuel': 4501, 'christin': 4502, 'gillian': 4503, 'housewif': 4504, 'loath': 4505, 'virtu': 4506, 'viewpoint': 4507, 'preachi': 4508, 'loi': 4509, 'taboo': 4510, 'lester': 4511, 'suprem': 4512, '19': 4513, 'fontain': 4514, 'sooner': 4515, 'shatter': 4516, 'outlaw': 4517, 'uh': 4518, 'dilemma': 4519, 'candl': 4520, 'mermaid': 4521, 'headach': 4522, 'rome': 4523, 'biker': 4524, 'astound': 4525, 'harmless': 4526, 'renaiss': 4527, 'enlist': 4528, 'hepburn': 4529, 'sleepwalk': 4530, 'tick': 4531, 'insipid': 4532, '73': 4533, 'circu': 4534, 'angst': 4535, 'dandi': 4536, 'scar': 4537, 'mayhem': 4538, 'trigger': 4539, 'injur': 4540, 'analyz': 4541, 'goof': 4542, 'amor': 4543, 'phenomenon': 4544, 'oldest': 4545, 'whore': 4546, 'filth': 4547, 'stimul': 4548, 'hostag': 4549, 'redund': 4550, 'slimi': 4551, 'glorifi': 4552, 'salt': 4553, 'hokey': 4554, 'sox': 4555, 'bent': 4556, 'boston': 4557, 'zoom': 4558, 'dismal': 4559, 'foolish': 4560, 'hooker': 4561, 'macho': 4562, 'immatur': 4563, 'steer': 4564, 'dish': 4565, 'gere': 4566, 'claustrophob': 4567, 'ebert': 4568, 'surgeri': 4569, 'idol': 4570, 'corbett': 4571, 'camcord': 4572, 'overlong': 4573, 'guin': 4574, 'spade': 4575, 'scorses': 4576, 'tripl': 4577, 'fluff': 4578, 'stair': 4579, 'cassavet': 4580, 'contempt': 4581, 'intric': 4582, 'ariel': 4583, '1981': 4584, 'remad': 4585, 'harold': 4586, 'flirt': 4587, 'nolt': 4588, 'preced': 4589, 'conquer': 4590, 'frantic': 4591, 'beard': 4592, 'zane': 4593, 'antagonist': 4594, 'widescreen': 4595, 'fascist': 4596, 'corman': 4597, 'radiat': 4598, 'obligatori': 4599, 'cohen': 4600, 'trivia': 4601, 'flashi': 4602, 'strongest': 4603, 'faint': 4604, 'keen': 4605, 'perman': 4606, 'joker': 4607, 'shred': 4608, 'astronaut': 4609, '1976': 4610, 'cush': 4611, 'margin': 4612, 'alvin': 4613, 'schlock': 4614, 'cow': 4615, 'messi': 4616, 'spinal': 4617, 'dwarf': 4618, 'muscl': 4619, 'assert': 4620, 'flag': 4621, 'down': 4622, 'spree': 4623, 'shield': 4624, 'transplant': 4625, 'mount': 4626, 'proport': 4627, 'gasp': 4628, 'rhyme': 4629, 'mutual': 4630, 'gabl': 4631, 'naschi': 4632, 'someday': 4633, 'claud': 4634, '1945': 4635, 'strive': 4636, 'raj': 4637, 'archiv': 4638, 'ritchi': 4639, 'www': 4640, 'barn': 4641, 'flock': 4642, 'scandal': 4643, 'deer': 4644, '28': 4645, 'instruct': 4646, 'triangl': 4647, '95': 4648, 'divin': 4649, 'boob': 4650, 'brush': 4651, 'bitten': 4652, 'off': 4653, 'persuad': 4654, 'neurot': 4655, 'resum': 4656, 'carey': 4657, 'danish': 4658, 'mobil': 4659, 'vaniti': 4660, 'inflict': 4661, 'info': 4662, 'departur': 4663, 'hara': 4664, 'discern': 4665, 'interestingli': 4666, 'wield': 4667, 'fishburn': 4668, 'sensual': 4669, 'bachelor': 4670, 'repris': 4671, 'aborigin': 4672, 'mol': 4673, 'clad': 4674, 'hilar': 4675, 'heartwarm': 4676, 'axe': 4677, 'vibrant': 4678, 'hapless': 4679, 'banter': 4680, 'harrison': 4681, 'carlo': 4682, 'miracul': 4683, 'jade': 4684, 'wendigo': 4685, 'hug': 4686, 'dylan': 4687, 'colin': 4688, 'undermin': 4689, 'recit': 4690, 'bate': 4691, 'dame': 4692, 'mobster': 4693, 'ish': 4694, 'kathryn': 4695, 'submit': 4696, 'traffic': 4697, 'senior': 4698, 'earnest': 4699, 'dim': 4700, 'artwork': 4701, 'helm': 4702, 'cliffhang': 4703, 'prophet': 4704, 'proclaim': 4705, 'cycl': 4706, 'pickford': 4707, 'melissa': 4708, 'biblic': 4709, 'neill': 4710, 'pixar': 4711, 'pacif': 4712, 'anton': 4713, 'rot': 4714, 'cher': 4715, 'fragil': 4716, 'europa': 4717, 'luka': 4718, 'parson': 4719, 'casino': 4720, 'frontier': 4721, 'cb': 4722, 'loretta': 4723, 'timberlak': 4724, 'razor': 4725, 'flavor': 4726, 'northern': 4727, 'rooki': 4728, 'foil': 4729, 'redneck': 4730, 'lui': 4731, 'shepherd': 4732, 'mason': 4733, 'bikini': 4734, 'wardrob': 4735, 'static': 4736, 'vile': 4737, 'venom': 4738, 'orphan': 4739, 'legitim': 4740, 'pc': 4741, 'misfortun': 4742, 'electron': 4743, 'feast': 4744, 'bondag': 4745, 'blatantli': 4746, 'lucil': 4747, 'vanessa': 4748, 'alexandr': 4749, 'token': 4750, 'antholog': 4751, 'eli': 4752, 'nope': 4753, 'toronto': 4754, 'illus': 4755, 'akin': 4756, 'milo': 4757, 'holocaust': 4758, 'sicken': 4759, 'jo': 4760, 'jordan': 4761, 'aris': 4762, 'seedi': 4763, 'winchest': 4764, 'choke': 4765, 'cerebr': 4766, 'mathieu': 4767, 'breakfast': 4768, 'marlon': 4769, 'estrang': 4770, 'trier': 4771, 'uma': 4772, 'articl': 4773, 'http': 4774, 'isra': 4775, 'shorter': 4776, 'knightley': 4777, 'abund': 4778, 'frog': 4779, 'tack': 4780, 'turd': 4781, 'highway': 4782, 'outdat': 4783, 'leather': 4784, 'deem': 4785, 'nightclub': 4786, 'cartoonish': 4787, 'psych': 4788, 'styliz': 4789, 'wrestler': 4790, 'disregard': 4791, 'oppon': 4792, 'clinic': 4793, 'ideolog': 4794, 'charlton': 4795, 'fifth': 4796, 'howl': 4797, 'gunga': 4798, 'linear': 4799, 'ceremoni': 4800, 'affleck': 4801, 'glare': 4802, 'huston': 4803, 'boyer': 4804, 'comprehend': 4805, 'feminin': 4806, 'gilbert': 4807, 'audrey': 4808, 'swept': 4809, 'magician': 4810, 'dudley': 4811, 'smack': 4812, 'peer': 4813, 'retriev': 4814, '1994': 4815, 'boo': 4816, 'compris': 4817, 'deliver': 4818, 'summar': 4819, 'toe': 4820, 'uniformli': 4821, 'lifeless': 4822, 'senat': 4823, 'greet': 4824, 'corn': 4825, 'einstein': 4826, 'lighter': 4827, 'btw': 4828, 'breakdown': 4829, 'newer': 4830, 'durat': 4831, 'whack': 4832, 'monument': 4833, 'collector': 4834, 'bastard': 4835, 'potter': 4836, 'lavish': 4837, 'spawn': 4838, 'bogu': 4839, 'cemeteri': 4840, 'phenomen': 4841, 'goldsworthi': 4842, 'cuban': 4843, 'chip': 4844, 'moe': 4845, '4th': 4846, 'tara': 4847, 'evolut': 4848, 'energet': 4849, '1991': 4850, 'plate': 4851, 'spine': 4852, 'braveheart': 4853, 'conrad': 4854, 'sleaz': 4855, 'snatch': 4856, 'salman': 4857, 'client': 4858, 'mitch': 4859, 'ol': 4860, 'creek': 4861, 'alleg': 4862, 'appl': 4863, 'bori': 4864, 'fluid': 4865, 'clara': 4866, 'liu': 4867, '1977': 4868, 'historian': 4869, 'kent': 4870, 'spectacl': 4871, 'constitut': 4872, 'undertak': 4873, 'bulk': 4874, 'trauma': 4875, 'luxuri': 4876, 'firmli': 4877, 'neatli': 4878, 'eleven': 4879, '1974': 4880, 'jule': 4881, 'undead': 4882, 'jam': 4883, 'wtf': 4884, 'inaccuraci': 4885, 'embark': 4886, 'signal': 4887, 'outright': 4888, 'randolph': 4889, 'replay': 4890, 'jare': 4891, 'sorrow': 4892, 'armstrong': 4893, 'belli': 4894, 'nina': 4895, 'ie': 4896, 'healthi': 4897, 'lex': 4898, 'occup': 4899, 'capot': 4900, 'cecil': 4901, 'pronounc': 4902, 'gilliam': 4903, 'jedi': 4904, 'mcqueen': 4905, 'kazan': 4906, 'evelyn': 4907, 'judd': 4908, 'lanc': 4909, 'inclus': 4910, 'carmen': 4911, 'antonio': 4912, 'bsg': 4913, 'porter': 4914, 'miami': 4915, 'propheci': 4916, 'vain': 4917, 'kiddi': 4918, 'unattract': 4919, 'aussi': 4920, '1985': 4921, 'mum': 4922, 'pioneer': 4923, 'comprehens': 4924, 'lauren': 4925, 'knee': 4926, 'fruit': 4927, 'inaccur': 4928, 'sacrif': 4929, 'rosario': 4930, 'roar': 4931, 'groan': 4932, 'curtain': 4933, 'forgiven': 4934, 'pepper': 4935, 'basket': 4936, 'spray': 4937, 'abound': 4938, 'poker': 4939, 'unsuspect': 4940, 'id': 4941, 'subtli': 4942, 'genet': 4943, 'walt': 4944, 'relentless': 4945, 'paula': 4946, 'sidewalk': 4947, 'decapit': 4948, 'congratul': 4949, 'bait': 4950, 'cape': 4951, 'goldblum': 4952, 'palm': 4953, 'comb': 4954, 'conan': 4955, 'galaxi': 4956, 'meal': 4957, 'truman': 4958, 'blur': 4959, 'miniseri': 4960, 'ash': 4961, 'vignett': 4962, 'tokyo': 4963, 'verg': 4964, 'reincarn': 4965, 'scarfac': 4966, 'sparkl': 4967, 'detach': 4968, 'handicap': 4969, 'incorrect': 4970, 'profil': 4971, 'ghetto': 4972, 'monti': 4973, 'bravo': 4974, 'playboy': 4975, 'epitom': 4976, 'casper': 4977, 'omin': 4978, 'optimist': 4979, 'hostil': 4980, 'masterson': 4981, '21st': 4982, 'victorian': 4983, 'scariest': 4984, 'hackman': 4985, 'modest': 4986, 'rapidli': 4987, 'orchestr': 4988, 'weaker': 4989, 'mice': 4990, 'asset': 4991, 'bach': 4992, 'assort': 4993, 'vastli': 4994, 'ingrid': 4995, 'weari': 4996, 'growth': 4997, 'spill': 4998, 'drone': 4999}\n"
     ]
    }
   ],
   "source": [
    "print(word_dict)"
   ]
  },
  {
   "cell_type": "markdown",
   "metadata": {},
   "source": [
    "**Question:** What are the five most frequently appearing (tokenized) words in the training set? Does it makes sense that these words appear frequently in the training set?"
   ]
  },
  {
   "cell_type": "markdown",
   "metadata": {},
   "source": [
    "**Answer:**"
   ]
  },
  {
   "cell_type": "markdown",
   "metadata": {},
   "source": [
    "movi, film, one, like, time"
   ]
  },
  {
   "cell_type": "markdown",
   "metadata": {},
   "source": [
    "### Save `word_dict`\n",
    "\n",
    "Later on when we construct an endpoint which processes a submitted review we will need to make use of the `word_dict` which we have created. As such, we will save it to a file now for future use."
   ]
  },
  {
   "cell_type": "code",
   "execution_count": 14,
   "metadata": {},
   "outputs": [],
   "source": [
    "data_dir = '../data/pytorch' # The folder we will use for storing data\n",
    "if not os.path.exists(data_dir): # Make sure that the folder exists\n",
    "    os.makedirs(data_dir)"
   ]
  },
  {
   "cell_type": "code",
   "execution_count": 15,
   "metadata": {},
   "outputs": [],
   "source": [
    "with open(os.path.join(data_dir, 'word_dict.pkl'), \"wb\") as f:\n",
    "    pickle.dump(word_dict, f)"
   ]
  },
  {
   "cell_type": "markdown",
   "metadata": {},
   "source": [
    "### Transform the reviews\n",
    "\n",
    "Now that we have our word dictionary which allows us to transform the words appearing in the reviews into integers, it is time to make use of it and convert our reviews to their integer sequence representation, making sure to pad or truncate to a fixed length, which in our case is `500`."
   ]
  },
  {
   "cell_type": "code",
   "execution_count": 16,
   "metadata": {},
   "outputs": [],
   "source": [
    "def convert_and_pad(word_dict, sentence, pad=500):\n",
    "    NOWORD = 0 # We will use 0 to represent the 'no word' category\n",
    "    INFREQ = 1 # and we use 1 to represent the infrequent words, i.e., words not appearing in word_dict\n",
    "    \n",
    "    working_sentence = [NOWORD] * pad\n",
    "    \n",
    "    for word_index, word in enumerate(sentence[:pad]):\n",
    "        if word in word_dict:\n",
    "            working_sentence[word_index] = word_dict[word]\n",
    "        else:\n",
    "            working_sentence[word_index] = INFREQ\n",
    "            \n",
    "    return working_sentence, min(len(sentence), pad)\n",
    "\n",
    "def convert_and_pad_data(word_dict, data, pad=500):\n",
    "    result = []\n",
    "    lengths = []\n",
    "    \n",
    "    for sentence in data:\n",
    "        converted, leng = convert_and_pad(word_dict, sentence, pad)\n",
    "        result.append(converted)\n",
    "        lengths.append(leng)\n",
    "        \n",
    "    return np.array(result), np.array(lengths)"
   ]
  },
  {
   "cell_type": "code",
   "execution_count": 17,
   "metadata": {},
   "outputs": [],
   "source": [
    "train_X, train_X_len = convert_and_pad_data(word_dict, train_X)\n",
    "test_X, test_X_len = convert_and_pad_data(word_dict, test_X)"
   ]
  },
  {
   "cell_type": "markdown",
   "metadata": {},
   "source": [
    "As a quick check to make sure that things are working as intended, check to see what one of the reviews in the training set looks like after having been processeed. Does this look reasonable? What is the length of a review in the training set?"
   ]
  },
  {
   "cell_type": "code",
   "execution_count": 18,
   "metadata": {},
   "outputs": [
    {
     "name": "stdout",
     "output_type": "stream",
     "text": [
      "[  29   12   74  176  274   24    3  135    3  163    1  397  977  516\n",
      " 4175  198 3132  383  198   20   68    2  452  456  531 1144    1 2548\n",
      "   32  221  112   41  258  832 1933  122    1  233 4058  707  253   59\n",
      "  242  458  712    1    1  954  111 2530    1   22  241    4  431  719\n",
      " 1915 1383   29  852  257   42    1    1  257   18  767  241   31  176\n",
      "    2   30  102  123  161   77    7    6   12    1  197   10   26  155\n",
      " 2731  197   83   83  912   15  262  229   83    0    0    0    0    0\n",
      "    0    0    0    0    0    0    0    0    0    0    0    0    0    0\n",
      "    0    0    0    0    0    0    0    0    0    0    0    0    0    0\n",
      "    0    0    0    0    0    0    0    0    0    0    0    0    0    0\n",
      "    0    0    0    0    0    0    0    0    0    0    0    0    0    0\n",
      "    0    0    0    0    0    0    0    0    0    0    0    0    0    0\n",
      "    0    0    0    0    0    0    0    0    0    0    0    0    0    0\n",
      "    0    0    0    0    0    0    0    0    0    0    0    0    0    0\n",
      "    0    0    0    0    0    0    0    0    0    0    0    0    0    0\n",
      "    0    0    0    0    0    0    0    0    0    0    0    0    0    0\n",
      "    0    0    0    0    0    0    0    0    0    0    0    0    0    0\n",
      "    0    0    0    0    0    0    0    0    0    0    0    0    0    0\n",
      "    0    0    0    0    0    0    0    0    0    0    0    0    0    0\n",
      "    0    0    0    0    0    0    0    0    0    0    0    0    0    0\n",
      "    0    0    0    0    0    0    0    0    0    0    0    0    0    0\n",
      "    0    0    0    0    0    0    0    0    0    0    0    0    0    0\n",
      "    0    0    0    0    0    0    0    0    0    0    0    0    0    0\n",
      "    0    0    0    0    0    0    0    0    0    0    0    0    0    0\n",
      "    0    0    0    0    0    0    0    0    0    0    0    0    0    0\n",
      "    0    0    0    0    0    0    0    0    0    0    0    0    0    0\n",
      "    0    0    0    0    0    0    0    0    0    0    0    0    0    0\n",
      "    0    0    0    0    0    0    0    0    0    0    0    0    0    0\n",
      "    0    0    0    0    0    0    0    0    0    0    0    0    0    0\n",
      "    0    0    0    0    0    0    0    0    0    0    0    0    0    0\n",
      "    0    0    0    0    0    0    0    0    0    0    0    0    0    0\n",
      "    0    0    0    0    0    0    0    0    0    0    0    0    0    0\n",
      "    0    0    0    0    0    0    0    0    0    0    0    0    0    0\n",
      "    0    0    0    0    0    0    0    0    0    0    0    0    0    0\n",
      "    0    0    0    0    0    0    0    0    0    0    0    0    0    0\n",
      "    0    0    0    0    0    0    0    0    0    0]\n",
      "500\n",
      "93\n"
     ]
    }
   ],
   "source": [
    "# Use this cell to examine one of the processed reviews to make sure everything is working as intended.\n",
    "\n",
    "print(train_X[20])\n",
    "print(len(train_X[20]))\n",
    "print(train_X_len[20])"
   ]
  },
  {
   "cell_type": "markdown",
   "metadata": {},
   "source": [
    "**Question:** In the cells above we use the `preprocess_data` and `convert_and_pad_data` methods to process both the training and testing set. Why or why not might this be a problem?"
   ]
  },
  {
   "cell_type": "markdown",
   "metadata": {},
   "source": [
    "**Answer:** I do not see any potential issues here. The dictionary has been built on training data only. There might be words that maybe misrepresented in this process. "
   ]
  },
  {
   "cell_type": "markdown",
   "metadata": {},
   "source": [
    "## Step 3: Upload the data to S3\n",
    "\n",
    "As in the XGBoost notebook, we will need to upload the training dataset to S3 in order for our training code to access it. For now we will save it locally and we will upload to S3 later on.\n",
    "\n",
    "### Save the processed training dataset locally\n",
    "\n",
    "It is important to note the format of the data that we are saving as we will need to know it when we write the training code. In our case, each row of the dataset has the form `label`, `length`, `review[500]` where `review[500]` is a sequence of `500` integers representing the words in the review."
   ]
  },
  {
   "cell_type": "code",
   "execution_count": 19,
   "metadata": {},
   "outputs": [],
   "source": [
    "import pandas as pd\n",
    "    \n",
    "pd.concat([pd.DataFrame(train_y), pd.DataFrame(train_X_len), pd.DataFrame(train_X)], axis=1) \\\n",
    "        .to_csv(os.path.join(data_dir, 'train.csv'), header=False, index=False)"
   ]
  },
  {
   "cell_type": "markdown",
   "metadata": {},
   "source": [
    "### Uploading the training data\n",
    "\n",
    "\n",
    "Next, we need to upload the training data to the SageMaker default S3 bucket so that we can provide access to it while training our model."
   ]
  },
  {
   "cell_type": "code",
   "execution_count": 20,
   "metadata": {},
   "outputs": [
    {
     "name": "stdout",
     "output_type": "stream",
     "text": [
      "Collecting sagemaker==1.72.0\n",
      "  Downloading sagemaker-1.72.0.tar.gz (297 kB)\n",
      "\u001b[K     |████████████████████████████████| 297 kB 3.5 MB/s eta 0:00:01\n",
      "\u001b[?25hRequirement already satisfied: boto3>=1.14.12 in /home/ec2-user/anaconda3/envs/pytorch_p36/lib/python3.6/site-packages (from sagemaker==1.72.0) (1.16.9)\n",
      "Requirement already satisfied: numpy>=1.9.0 in /home/ec2-user/anaconda3/envs/pytorch_p36/lib/python3.6/site-packages (from sagemaker==1.72.0) (1.18.1)\n",
      "Requirement already satisfied: protobuf>=3.1 in /home/ec2-user/anaconda3/envs/pytorch_p36/lib/python3.6/site-packages (from sagemaker==1.72.0) (3.11.4)\n",
      "Requirement already satisfied: scipy>=0.19.0 in /home/ec2-user/anaconda3/envs/pytorch_p36/lib/python3.6/site-packages (from sagemaker==1.72.0) (1.4.1)\n",
      "Requirement already satisfied: protobuf3-to-dict>=0.1.5 in /home/ec2-user/anaconda3/envs/pytorch_p36/lib/python3.6/site-packages (from sagemaker==1.72.0) (0.1.5)\n",
      "Collecting smdebug-rulesconfig==0.1.4\n",
      "  Downloading smdebug_rulesconfig-0.1.4-py2.py3-none-any.whl (10 kB)\n",
      "Requirement already satisfied: importlib-metadata>=1.4.0 in /home/ec2-user/anaconda3/envs/pytorch_p36/lib/python3.6/site-packages (from sagemaker==1.72.0) (2.0.0)\n",
      "Requirement already satisfied: packaging>=20.0 in /home/ec2-user/anaconda3/envs/pytorch_p36/lib/python3.6/site-packages (from sagemaker==1.72.0) (20.1)\n",
      "Requirement already satisfied: s3transfer<0.4.0,>=0.3.0 in /home/ec2-user/anaconda3/envs/pytorch_p36/lib/python3.6/site-packages (from boto3>=1.14.12->sagemaker==1.72.0) (0.3.3)\n",
      "Requirement already satisfied: jmespath<1.0.0,>=0.7.1 in /home/ec2-user/anaconda3/envs/pytorch_p36/lib/python3.6/site-packages (from boto3>=1.14.12->sagemaker==1.72.0) (0.10.0)\n",
      "Requirement already satisfied: botocore<1.20.0,>=1.19.9 in /home/ec2-user/anaconda3/envs/pytorch_p36/lib/python3.6/site-packages (from boto3>=1.14.12->sagemaker==1.72.0) (1.19.9)\n",
      "Requirement already satisfied: six>=1.9 in /home/ec2-user/anaconda3/envs/pytorch_p36/lib/python3.6/site-packages (from protobuf>=3.1->sagemaker==1.72.0) (1.14.0)\n",
      "Requirement already satisfied: setuptools in /home/ec2-user/anaconda3/envs/pytorch_p36/lib/python3.6/site-packages (from protobuf>=3.1->sagemaker==1.72.0) (45.2.0.post20200210)\n",
      "Requirement already satisfied: zipp>=0.5 in /home/ec2-user/anaconda3/envs/pytorch_p36/lib/python3.6/site-packages (from importlib-metadata>=1.4.0->sagemaker==1.72.0) (2.2.0)\n",
      "Requirement already satisfied: pyparsing>=2.0.2 in /home/ec2-user/anaconda3/envs/pytorch_p36/lib/python3.6/site-packages (from packaging>=20.0->sagemaker==1.72.0) (2.4.6)\n",
      "Requirement already satisfied: urllib3<1.26,>=1.25.4; python_version != \"3.4\" in /home/ec2-user/anaconda3/envs/pytorch_p36/lib/python3.6/site-packages (from botocore<1.20.0,>=1.19.9->boto3>=1.14.12->sagemaker==1.72.0) (1.25.10)\n",
      "Requirement already satisfied: python-dateutil<3.0.0,>=2.1 in /home/ec2-user/anaconda3/envs/pytorch_p36/lib/python3.6/site-packages (from botocore<1.20.0,>=1.19.9->boto3>=1.14.12->sagemaker==1.72.0) (2.8.1)\n",
      "Building wheels for collected packages: sagemaker\n",
      "  Building wheel for sagemaker (setup.py) ... \u001b[?25ldone\n",
      "\u001b[?25h  Created wheel for sagemaker: filename=sagemaker-1.72.0-py2.py3-none-any.whl size=386358 sha256=aa9ec46395be54576efde908aad03954eca81ec1cb17ce58580a947093d270a8\n",
      "  Stored in directory: /home/ec2-user/.cache/pip/wheels/c3/58/70/85faf4437568bfaa4c419937569ba1fe54d44c5db42406bbd7\n",
      "Successfully built sagemaker\n",
      "Installing collected packages: smdebug-rulesconfig, sagemaker\n",
      "  Attempting uninstall: smdebug-rulesconfig\n",
      "    Found existing installation: smdebug-rulesconfig 0.1.5\n",
      "    Uninstalling smdebug-rulesconfig-0.1.5:\n",
      "      Successfully uninstalled smdebug-rulesconfig-0.1.5\n",
      "  Attempting uninstall: sagemaker\n",
      "    Found existing installation: sagemaker 2.16.1\n",
      "    Uninstalling sagemaker-2.16.1:\n",
      "      Successfully uninstalled sagemaker-2.16.1\n",
      "Successfully installed sagemaker-1.72.0 smdebug-rulesconfig-0.1.4\n",
      "\u001b[33mWARNING: You are using pip version 20.0.2; however, version 20.2.4 is available.\n",
      "You should consider upgrading via the '/home/ec2-user/anaconda3/envs/pytorch_p36/bin/python -m pip install --upgrade pip' command.\u001b[0m\n"
     ]
    }
   ],
   "source": [
    "!pip install sagemaker==1.72.0"
   ]
  },
  {
   "cell_type": "code",
   "execution_count": 21,
   "metadata": {},
   "outputs": [],
   "source": [
    "import sagemaker\n",
    "\n",
    "sagemaker_session = sagemaker.Session()\n",
    "\n",
    "bucket = sagemaker_session.default_bucket()\n",
    "prefix = 'sagemaker/sentiment_rnn'\n",
    "\n",
    "role = sagemaker.get_execution_role()"
   ]
  },
  {
   "cell_type": "code",
   "execution_count": 22,
   "metadata": {},
   "outputs": [],
   "source": [
    "input_data = sagemaker_session.upload_data(path=data_dir, bucket=bucket, key_prefix=prefix)"
   ]
  },
  {
   "cell_type": "markdown",
   "metadata": {},
   "source": [
    "**NOTE:** The cell above uploads the entire contents of our data directory. This includes the `word_dict.pkl` file. This is fortunate as we will need this later on when we create an endpoint that accepts an arbitrary review. For now, we will just take note of the fact that it resides in the data directory (and so also in the S3 training bucket) and that we will need to make sure it gets saved in the model directory."
   ]
  },
  {
   "cell_type": "markdown",
   "metadata": {},
   "source": [
    "## Step 4: Build and Train the PyTorch Model\n",
    "\n",
    "In the XGBoost notebook we discussed what a model is in the SageMaker framework. In particular, a model comprises three objects\n",
    "\n",
    " - Model Artifacts,\n",
    " - Training Code, and\n",
    " - Inference Code,\n",
    " \n",
    "each of which interact with one another. In the XGBoost example we used training and inference code that was provided by Amazon. Here we will still be using containers provided by Amazon with the added benefit of being able to include our own custom code.\n",
    "\n",
    "We will start by implementing our own neural network in PyTorch along with a training script. For the purposes of this project we have provided the necessary model object in the `model.py` file, inside of the `train` folder. You can see the provided implementation by running the cell below."
   ]
  },
  {
   "cell_type": "code",
   "execution_count": 23,
   "metadata": {},
   "outputs": [
    {
     "name": "stdout",
     "output_type": "stream",
     "text": [
      "\u001b[34mimport\u001b[39;49;00m \u001b[04m\u001b[36mtorch\u001b[39;49;00m\u001b[04m\u001b[36m.\u001b[39;49;00m\u001b[04m\u001b[36mnn\u001b[39;49;00m \u001b[34mas\u001b[39;49;00m \u001b[04m\u001b[36mnn\u001b[39;49;00m\r\n",
      "\r\n",
      "\u001b[34mclass\u001b[39;49;00m \u001b[04m\u001b[32mLSTMClassifier\u001b[39;49;00m(nn.Module):\r\n",
      "    \u001b[33m\"\"\"\u001b[39;49;00m\r\n",
      "\u001b[33m    This is the simple RNN model we will be using to perform Sentiment Analysis.\u001b[39;49;00m\r\n",
      "\u001b[33m    \"\"\"\u001b[39;49;00m\r\n",
      "\r\n",
      "    \u001b[34mdef\u001b[39;49;00m \u001b[32m__init__\u001b[39;49;00m(\u001b[36mself\u001b[39;49;00m, embedding_dim, hidden_dim, vocab_size):\r\n",
      "        \u001b[33m\"\"\"\u001b[39;49;00m\r\n",
      "\u001b[33m        Initialize the model by settingg up the various layers.\u001b[39;49;00m\r\n",
      "\u001b[33m        \"\"\"\u001b[39;49;00m\r\n",
      "        \u001b[36msuper\u001b[39;49;00m(LSTMClassifier, \u001b[36mself\u001b[39;49;00m).\u001b[32m__init__\u001b[39;49;00m()\r\n",
      "\r\n",
      "        \u001b[36mself\u001b[39;49;00m.embedding = nn.Embedding(vocab_size, embedding_dim, padding_idx=\u001b[34m0\u001b[39;49;00m)\r\n",
      "        \u001b[36mself\u001b[39;49;00m.lstm = nn.LSTM(embedding_dim, hidden_dim)\r\n",
      "        \u001b[36mself\u001b[39;49;00m.dense = nn.Linear(in_features=hidden_dim, out_features=\u001b[34m1\u001b[39;49;00m)\r\n",
      "        \u001b[36mself\u001b[39;49;00m.sig = nn.Sigmoid()\r\n",
      "        \r\n",
      "        \u001b[36mself\u001b[39;49;00m.word_dict = \u001b[34mNone\u001b[39;49;00m\r\n",
      "\r\n",
      "    \u001b[34mdef\u001b[39;49;00m \u001b[32mforward\u001b[39;49;00m(\u001b[36mself\u001b[39;49;00m, x):\r\n",
      "        \u001b[33m\"\"\"\u001b[39;49;00m\r\n",
      "\u001b[33m        Perform a forward pass of our model on some input.\u001b[39;49;00m\r\n",
      "\u001b[33m        \"\"\"\u001b[39;49;00m\r\n",
      "        x = x.t()\r\n",
      "        lengths = x[\u001b[34m0\u001b[39;49;00m,:]\r\n",
      "        reviews = x[\u001b[34m1\u001b[39;49;00m:,:]\r\n",
      "        embeds = \u001b[36mself\u001b[39;49;00m.embedding(reviews)\r\n",
      "        lstm_out, _ = \u001b[36mself\u001b[39;49;00m.lstm(embeds)\r\n",
      "        out = \u001b[36mself\u001b[39;49;00m.dense(lstm_out)\r\n",
      "        out = out[lengths - \u001b[34m1\u001b[39;49;00m, \u001b[36mrange\u001b[39;49;00m(\u001b[36mlen\u001b[39;49;00m(lengths))]\r\n",
      "        \u001b[34mreturn\u001b[39;49;00m \u001b[36mself\u001b[39;49;00m.sig(out.squeeze())\r\n"
     ]
    }
   ],
   "source": [
    "!pygmentize train/model.py"
   ]
  },
  {
   "cell_type": "markdown",
   "metadata": {},
   "source": [
    "The important takeaway from the implementation provided is that there are three parameters that we may wish to tweak to improve the performance of our model. These are the embedding dimension, the hidden dimension and the size of the vocabulary. We will likely want to make these parameters configurable in the training script so that if we wish to modify them we do not need to modify the script itself. We will see how to do this later on. To start we will write some of the training code in the notebook so that we can more easily diagnose any issues that arise.\n",
    "\n",
    "First we will load a small portion of the training data set to use as a sample. It would be very time consuming to try and train the model completely in the notebook as we do not have access to a gpu and the compute instance that we are using is not particularly powerful. However, we can work on a small bit of the data to get a feel for how our training script is behaving."
   ]
  },
  {
   "cell_type": "code",
   "execution_count": 24,
   "metadata": {},
   "outputs": [],
   "source": [
    "import torch\n",
    "import torch.utils.data\n",
    "\n",
    "# Read in only the first 250 rows\n",
    "train_sample = pd.read_csv(os.path.join(data_dir, 'train.csv'), header=None, names=None, nrows=250)\n",
    "\n",
    "# Turn the input pandas dataframe into tensors\n",
    "train_sample_y = torch.from_numpy(train_sample[[0]].values).float().squeeze()\n",
    "train_sample_X = torch.from_numpy(train_sample.drop([0], axis=1).values).long()\n",
    "\n",
    "# Build the dataset\n",
    "train_sample_ds = torch.utils.data.TensorDataset(train_sample_X, train_sample_y)\n",
    "# Build the dataloader\n",
    "train_sample_dl = torch.utils.data.DataLoader(train_sample_ds, batch_size=50)"
   ]
  },
  {
   "cell_type": "markdown",
   "metadata": {},
   "source": [
    "### (TODO) Writing the training method\n",
    "\n",
    "Next we need to write the training code itself. This should be very similar to training methods that you have written before to train PyTorch models. We will leave any difficult aspects such as model saving / loading and parameter loading until a little later."
   ]
  },
  {
   "cell_type": "code",
   "execution_count": 25,
   "metadata": {},
   "outputs": [],
   "source": [
    "def train(model, train_loader, epochs, optimizer, loss_fn, device):\n",
    "    for epoch in range(1, epochs + 1):\n",
    "        model.train()\n",
    "        total_loss = 0\n",
    "        for batch in train_loader:         \n",
    "            batch_X, batch_y = batch\n",
    "            \n",
    "            batch_X = batch_X.to(device)\n",
    "            batch_y = batch_y.to(device)\n",
    "            \n",
    "            # TODO: Complete this train method to train the model provided.\n",
    "            model.zero_grad()\n",
    "            output = model.forward(batch_X)\n",
    "            loss = loss_fn(output, batch_y)\n",
    "            loss.backward()\n",
    "            optimizer.step()\n",
    "            \n",
    "            total_loss += loss.data.item()\n",
    "        print(\"Epoch: {}, BCELoss: {}\".format(epoch, total_loss / len(train_loader)))"
   ]
  },
  {
   "cell_type": "markdown",
   "metadata": {},
   "source": [
    "Supposing we have the training method above, we will test that it is working by writing a bit of code in the notebook that executes our training method on the small sample training set that we loaded earlier. The reason for doing this in the notebook is so that we have an opportunity to fix any errors that arise early when they are easier to diagnose."
   ]
  },
  {
   "cell_type": "code",
   "execution_count": 26,
   "metadata": {},
   "outputs": [
    {
     "name": "stdout",
     "output_type": "stream",
     "text": [
      "Epoch: 1, BCELoss: 0.698485255241394\n",
      "Epoch: 2, BCELoss: 0.6876710653305054\n",
      "Epoch: 3, BCELoss: 0.6788756608963012\n",
      "Epoch: 4, BCELoss: 0.6694372534751892\n",
      "Epoch: 5, BCELoss: 0.6576069712638855\n"
     ]
    }
   ],
   "source": [
    "import torch.optim as optim\n",
    "from train.model import LSTMClassifier\n",
    "\n",
    "device = torch.device(\"cuda\" if torch.cuda.is_available() else \"cpu\")\n",
    "model = LSTMClassifier(32, 100, 5000).to(device)\n",
    "optimizer = optim.Adam(model.parameters())\n",
    "loss_fn = torch.nn.BCELoss()\n",
    "\n",
    "train(model, train_sample_dl, 5, optimizer, loss_fn, device)"
   ]
  },
  {
   "cell_type": "markdown",
   "metadata": {},
   "source": [
    "In order to construct a PyTorch model using SageMaker we must provide SageMaker with a training script. We may optionally include a directory which will be copied to the container and from which our training code will be run. When the training container is executed it will check the uploaded directory (if there is one) for a `requirements.txt` file and install any required Python libraries, after which the training script will be run."
   ]
  },
  {
   "cell_type": "markdown",
   "metadata": {},
   "source": [
    "### (TODO) Training the model\n",
    "\n",
    "When a PyTorch model is constructed in SageMaker, an entry point must be specified. This is the Python file which will be executed when the model is trained. Inside of the `train` directory is a file called `train.py` which has been provided and which contains most of the necessary code to train our model. The only thing that is missing is the implementation of the `train()` method which you wrote earlier in this notebook.\n",
    "\n",
    "**TODO**: Copy the `train()` method written above and paste it into the `train/train.py` file where required.\n",
    "\n",
    "The way that SageMaker passes hyperparameters to the training script is by way of arguments. These arguments can then be parsed and used in the training script. To see how this is done take a look at the provided `train/train.py` file."
   ]
  },
  {
   "cell_type": "code",
   "execution_count": 27,
   "metadata": {},
   "outputs": [],
   "source": [
    "from sagemaker.pytorch import PyTorch\n",
    "\n",
    "estimator = PyTorch(entry_point=\"train.py\",\n",
    "                    source_dir=\"train\",\n",
    "                    role=role,\n",
    "                    framework_version='0.4.0',\n",
    "                    train_instance_count=1,\n",
    "                    train_instance_type='ml.p2.xlarge',\n",
    "                    hyperparameters={\n",
    "                        'epochs': 10,\n",
    "                        'hidden_dim': 200,\n",
    "                    })"
   ]
  },
  {
   "cell_type": "code",
   "execution_count": 28,
   "metadata": {
    "scrolled": false
   },
   "outputs": [
    {
     "name": "stderr",
     "output_type": "stream",
     "text": [
      "'create_image_uri' will be deprecated in favor of 'ImageURIProvider' class in SageMaker Python SDK v2.\n",
      "'s3_input' class will be renamed to 'TrainingInput' in SageMaker Python SDK v2.\n",
      "'create_image_uri' will be deprecated in favor of 'ImageURIProvider' class in SageMaker Python SDK v2.\n"
     ]
    },
    {
     "name": "stdout",
     "output_type": "stream",
     "text": [
      "2020-11-24 15:56:41 Starting - Starting the training job...\n",
      "2020-11-24 15:56:43 Starting - Launching requested ML instances......\n",
      "2020-11-24 15:57:45 Starting - Preparing the instances for training.........\n",
      "2020-11-24 15:59:22 Downloading - Downloading input data...\n",
      "2020-11-24 16:00:11 Training - Training image download completed. Training in progress..\u001b[34mbash: cannot set terminal process group (-1): Inappropriate ioctl for device\u001b[0m\n",
      "\u001b[34mbash: no job control in this shell\u001b[0m\n",
      "\u001b[34m2020-11-24 16:00:11,997 sagemaker-containers INFO     Imported framework sagemaker_pytorch_container.training\u001b[0m\n",
      "\u001b[34m2020-11-24 16:00:12,025 sagemaker_pytorch_container.training INFO     Block until all host DNS lookups succeed.\u001b[0m\n",
      "\u001b[34m2020-11-24 16:00:12,029 sagemaker_pytorch_container.training INFO     Invoking user training script.\u001b[0m\n",
      "\u001b[34m2020-11-24 16:00:12,291 sagemaker-containers INFO     Module train does not provide a setup.py. \u001b[0m\n",
      "\u001b[34mGenerating setup.py\u001b[0m\n",
      "\u001b[34m2020-11-24 16:00:12,292 sagemaker-containers INFO     Generating setup.cfg\u001b[0m\n",
      "\u001b[34m2020-11-24 16:00:12,292 sagemaker-containers INFO     Generating MANIFEST.in\u001b[0m\n",
      "\u001b[34m2020-11-24 16:00:12,292 sagemaker-containers INFO     Installing module with the following command:\u001b[0m\n",
      "\u001b[34m/usr/bin/python -m pip install -U . -r requirements.txt\u001b[0m\n",
      "\u001b[34mProcessing /opt/ml/code\u001b[0m\n",
      "\u001b[34mCollecting pandas (from -r requirements.txt (line 1))\u001b[0m\n",
      "\u001b[34m  Downloading https://files.pythonhosted.org/packages/74/24/0cdbf8907e1e3bc5a8da03345c23cbed7044330bb8f73bb12e711a640a00/pandas-0.24.2-cp35-cp35m-manylinux1_x86_64.whl (10.0MB)\u001b[0m\n",
      "\u001b[34mCollecting numpy (from -r requirements.txt (line 2))\u001b[0m\n",
      "\u001b[34m  Downloading https://files.pythonhosted.org/packages/b5/36/88723426b4ff576809fec7d73594fe17a35c27f8d01f93637637a29ae25b/numpy-1.18.5-cp35-cp35m-manylinux1_x86_64.whl (19.9MB)\u001b[0m\n",
      "\u001b[34mCollecting nltk (from -r requirements.txt (line 3))\u001b[0m\n",
      "\u001b[34m  Downloading https://files.pythonhosted.org/packages/92/75/ce35194d8e3022203cca0d2f896dbb88689f9b3fce8e9f9cff942913519d/nltk-3.5.zip (1.4MB)\u001b[0m\n",
      "\u001b[34mCollecting beautifulsoup4 (from -r requirements.txt (line 4))\n",
      "  Downloading https://files.pythonhosted.org/packages/d1/41/e6495bd7d3781cee623ce23ea6ac73282a373088fcd0ddc809a047b18eae/beautifulsoup4-4.9.3-py3-none-any.whl (115kB)\u001b[0m\n",
      "\u001b[34mCollecting html5lib (from -r requirements.txt (line 5))\n",
      "  Downloading https://files.pythonhosted.org/packages/6c/dd/a834df6482147d48e225a49515aabc28974ad5a4ca3215c18a882565b028/html5lib-1.1-py2.py3-none-any.whl (112kB)\u001b[0m\n",
      "\u001b[34mCollecting pytz>=2011k (from pandas->-r requirements.txt (line 1))\n",
      "  Downloading https://files.pythonhosted.org/packages/12/f8/ff09af6ff61a3efaad5f61ba5facdf17e7722c4393f7d8a66674d2dbd29f/pytz-2020.4-py2.py3-none-any.whl (509kB)\u001b[0m\n",
      "\u001b[34mRequirement already satisfied, skipping upgrade: python-dateutil>=2.5.0 in /usr/local/lib/python3.5/dist-packages (from pandas->-r requirements.txt (line 1)) (2.7.5)\u001b[0m\n",
      "\u001b[34mRequirement already satisfied, skipping upgrade: click in /usr/local/lib/python3.5/dist-packages (from nltk->-r requirements.txt (line 3)) (7.0)\u001b[0m\n",
      "\u001b[34mCollecting joblib (from nltk->-r requirements.txt (line 3))\n",
      "  Downloading https://files.pythonhosted.org/packages/28/5c/cf6a2b65a321c4a209efcdf64c2689efae2cb62661f8f6f4bb28547cf1bf/joblib-0.14.1-py2.py3-none-any.whl (294kB)\u001b[0m\n",
      "\u001b[34mCollecting regex (from nltk->-r requirements.txt (line 3))\n",
      "  Downloading https://files.pythonhosted.org/packages/2e/e4/3447fed9ab29944333f48730ecff4dca92f0868c5b188d6ab2b2078e32c2/regex-2020.11.13.tar.gz (694kB)\u001b[0m\n",
      "\u001b[34mCollecting tqdm (from nltk->-r requirements.txt (line 3))\n",
      "  Downloading https://files.pythonhosted.org/packages/02/bc/857fff709f7ce9eabdc502d6fa71f4b7e964200b1bcd00f0a2f59667d1bf/tqdm-4.53.0-py2.py3-none-any.whl (70kB)\u001b[0m\n",
      "\u001b[34mCollecting soupsieve>1.2; python_version >= \"3.0\" (from beautifulsoup4->-r requirements.txt (line 4))\n",
      "  Downloading https://files.pythonhosted.org/packages/6f/8f/457f4a5390eeae1cc3aeab89deb7724c965be841ffca6cfca9197482e470/soupsieve-2.0.1-py3-none-any.whl\u001b[0m\n",
      "\u001b[34mCollecting webencodings (from html5lib->-r requirements.txt (line 5))\n",
      "  Downloading https://files.pythonhosted.org/packages/f4/24/2a3e3df732393fed8b3ebf2ec078f05546de641fe1b667ee316ec1dcf3b7/webencodings-0.5.1-py2.py3-none-any.whl\u001b[0m\n",
      "\u001b[34mRequirement already satisfied, skipping upgrade: six>=1.9 in /usr/local/lib/python3.5/dist-packages (from html5lib->-r requirements.txt (line 5)) (1.11.0)\u001b[0m\n",
      "\u001b[34mBuilding wheels for collected packages: nltk, train, regex\n",
      "  Running setup.py bdist_wheel for nltk: started\u001b[0m\n",
      "\u001b[34m  Running setup.py bdist_wheel for nltk: finished with status 'done'\n",
      "  Stored in directory: /root/.cache/pip/wheels/ae/8c/3f/b1fe0ba04555b08b57ab52ab7f86023639a526d8bc8d384306\n",
      "  Running setup.py bdist_wheel for train: started\n",
      "  Running setup.py bdist_wheel for train: finished with status 'done'\n",
      "  Stored in directory: /tmp/pip-ephem-wheel-cache-t_nwa89q/wheels/35/24/16/37574d11bf9bde50616c67372a334f94fa8356bc7164af8ca3\n",
      "  Running setup.py bdist_wheel for regex: started\u001b[0m\n",
      "\u001b[34m  Running setup.py bdist_wheel for regex: finished with status 'done'\n",
      "  Stored in directory: /root/.cache/pip/wheels/27/f6/66/a4243e485a0ebc73dc59033ae26c48e82526f77dbfe158ac59\u001b[0m\n",
      "\u001b[34mSuccessfully built nltk train regex\u001b[0m\n",
      "\u001b[34mInstalling collected packages: pytz, numpy, pandas, joblib, regex, tqdm, nltk, soupsieve, beautifulsoup4, webencodings, html5lib, train\n",
      "  Found existing installation: numpy 1.15.4\n",
      "    Uninstalling numpy-1.15.4:\u001b[0m\n",
      "\u001b[34m      Successfully uninstalled numpy-1.15.4\u001b[0m\n",
      "\u001b[34mSuccessfully installed beautifulsoup4-4.9.3 html5lib-1.1 joblib-0.14.1 nltk-3.5 numpy-1.18.5 pandas-0.24.2 pytz-2020.4 regex-2020.11.13 soupsieve-2.0.1 tqdm-4.53.0 train-1.0.0 webencodings-0.5.1\u001b[0m\n",
      "\u001b[34mYou are using pip version 18.1, however version 20.3b1 is available.\u001b[0m\n",
      "\u001b[34mYou should consider upgrading via the 'pip install --upgrade pip' command.\u001b[0m\n",
      "\u001b[34m2020-11-24 16:00:38,096 sagemaker-containers INFO     Invoking user script\n",
      "\u001b[0m\n",
      "\u001b[34mTraining Env:\n",
      "\u001b[0m\n",
      "\u001b[34m{\n",
      "    \"network_interface_name\": \"eth0\",\n",
      "    \"channel_input_dirs\": {\n",
      "        \"training\": \"/opt/ml/input/data/training\"\n",
      "    },\n",
      "    \"job_name\": \"sagemaker-pytorch-2020-11-24-15-56-40-597\",\n",
      "    \"input_data_config\": {\n",
      "        \"training\": {\n",
      "            \"S3DistributionType\": \"FullyReplicated\",\n",
      "            \"RecordWrapperType\": \"None\",\n",
      "            \"TrainingInputMode\": \"File\"\n",
      "        }\n",
      "    },\n",
      "    \"hosts\": [\n",
      "        \"algo-1\"\n",
      "    ],\n",
      "    \"log_level\": 20,\n",
      "    \"hyperparameters\": {\n",
      "        \"epochs\": 10,\n",
      "        \"hidden_dim\": 200\n",
      "    },\n",
      "    \"input_dir\": \"/opt/ml/input\",\n",
      "    \"input_config_dir\": \"/opt/ml/input/config\",\n",
      "    \"framework_module\": \"sagemaker_pytorch_container.training:main\",\n",
      "    \"current_host\": \"algo-1\",\n",
      "    \"additional_framework_parameters\": {},\n",
      "    \"resource_config\": {\n",
      "        \"current_host\": \"algo-1\",\n",
      "        \"network_interface_name\": \"eth0\",\n",
      "        \"hosts\": [\n",
      "            \"algo-1\"\n",
      "        ]\n",
      "    },\n",
      "    \"module_name\": \"train\",\n",
      "    \"module_dir\": \"s3://sagemaker-us-east-2-230255106166/sagemaker-pytorch-2020-11-24-15-56-40-597/source/sourcedir.tar.gz\",\n",
      "    \"user_entry_point\": \"train.py\",\n",
      "    \"model_dir\": \"/opt/ml/model\",\n",
      "    \"output_dir\": \"/opt/ml/output\",\n",
      "    \"num_gpus\": 1,\n",
      "    \"num_cpus\": 4,\n",
      "    \"output_intermediate_dir\": \"/opt/ml/output/intermediate\",\n",
      "    \"output_data_dir\": \"/opt/ml/output/data\"\u001b[0m\n",
      "\u001b[34m}\n",
      "\u001b[0m\n",
      "\u001b[34mEnvironment variables:\n",
      "\u001b[0m\n",
      "\u001b[34mSM_MODEL_DIR=/opt/ml/model\u001b[0m\n",
      "\u001b[34mSM_TRAINING_ENV={\"additional_framework_parameters\":{},\"channel_input_dirs\":{\"training\":\"/opt/ml/input/data/training\"},\"current_host\":\"algo-1\",\"framework_module\":\"sagemaker_pytorch_container.training:main\",\"hosts\":[\"algo-1\"],\"hyperparameters\":{\"epochs\":10,\"hidden_dim\":200},\"input_config_dir\":\"/opt/ml/input/config\",\"input_data_config\":{\"training\":{\"RecordWrapperType\":\"None\",\"S3DistributionType\":\"FullyReplicated\",\"TrainingInputMode\":\"File\"}},\"input_dir\":\"/opt/ml/input\",\"job_name\":\"sagemaker-pytorch-2020-11-24-15-56-40-597\",\"log_level\":20,\"model_dir\":\"/opt/ml/model\",\"module_dir\":\"s3://sagemaker-us-east-2-230255106166/sagemaker-pytorch-2020-11-24-15-56-40-597/source/sourcedir.tar.gz\",\"module_name\":\"train\",\"network_interface_name\":\"eth0\",\"num_cpus\":4,\"num_gpus\":1,\"output_data_dir\":\"/opt/ml/output/data\",\"output_dir\":\"/opt/ml/output\",\"output_intermediate_dir\":\"/opt/ml/output/intermediate\",\"resource_config\":{\"current_host\":\"algo-1\",\"hosts\":[\"algo-1\"],\"network_interface_name\":\"eth0\"},\"user_entry_point\":\"train.py\"}\u001b[0m\n",
      "\u001b[34mSM_MODULE_DIR=s3://sagemaker-us-east-2-230255106166/sagemaker-pytorch-2020-11-24-15-56-40-597/source/sourcedir.tar.gz\u001b[0m\n",
      "\u001b[34mSM_OUTPUT_DIR=/opt/ml/output\u001b[0m\n",
      "\u001b[34mSM_FRAMEWORK_PARAMS={}\u001b[0m\n",
      "\u001b[34mSM_RESOURCE_CONFIG={\"current_host\":\"algo-1\",\"hosts\":[\"algo-1\"],\"network_interface_name\":\"eth0\"}\u001b[0m\n",
      "\u001b[34mSM_CHANNELS=[\"training\"]\u001b[0m\n",
      "\u001b[34mSM_NETWORK_INTERFACE_NAME=eth0\u001b[0m\n",
      "\u001b[34mSM_HP_HIDDEN_DIM=200\u001b[0m\n",
      "\u001b[34mSM_INPUT_DIR=/opt/ml/input\u001b[0m\n",
      "\u001b[34mSM_OUTPUT_DATA_DIR=/opt/ml/output/data\u001b[0m\n",
      "\u001b[34mSM_NUM_CPUS=4\u001b[0m\n",
      "\u001b[34mSM_USER_ENTRY_POINT=train.py\u001b[0m\n",
      "\u001b[34mSM_INPUT_DATA_CONFIG={\"training\":{\"RecordWrapperType\":\"None\",\"S3DistributionType\":\"FullyReplicated\",\"TrainingInputMode\":\"File\"}}\u001b[0m\n",
      "\u001b[34mSM_MODULE_NAME=train\u001b[0m\n",
      "\u001b[34mSM_USER_ARGS=[\"--epochs\",\"10\",\"--hidden_dim\",\"200\"]\u001b[0m\n",
      "\u001b[34mSM_CURRENT_HOST=algo-1\u001b[0m\n",
      "\u001b[34mSM_HOSTS=[\"algo-1\"]\u001b[0m\n",
      "\u001b[34mSM_OUTPUT_INTERMEDIATE_DIR=/opt/ml/output/intermediate\u001b[0m\n",
      "\u001b[34mSM_CHANNEL_TRAINING=/opt/ml/input/data/training\u001b[0m\n",
      "\u001b[34mSM_NUM_GPUS=1\u001b[0m\n",
      "\u001b[34mSM_HP_EPOCHS=10\u001b[0m\n",
      "\u001b[34mSM_HPS={\"epochs\":10,\"hidden_dim\":200}\u001b[0m\n",
      "\u001b[34mPYTHONPATH=/usr/local/bin:/usr/lib/python35.zip:/usr/lib/python3.5:/usr/lib/python3.5/plat-x86_64-linux-gnu:/usr/lib/python3.5/lib-dynload:/usr/local/lib/python3.5/dist-packages:/usr/lib/python3/dist-packages\u001b[0m\n",
      "\u001b[34mSM_FRAMEWORK_MODULE=sagemaker_pytorch_container.training:main\u001b[0m\n",
      "\u001b[34mSM_LOG_LEVEL=20\u001b[0m\n",
      "\u001b[34mSM_INPUT_CONFIG_DIR=/opt/ml/input/config\n",
      "\u001b[0m\n",
      "\u001b[34mInvoking script with the following command:\n",
      "\u001b[0m\n",
      "\u001b[34m/usr/bin/python -m train --epochs 10 --hidden_dim 200\n",
      "\n",
      "\u001b[0m\n",
      "\u001b[34mUsing device cuda.\u001b[0m\n",
      "\u001b[34mGet train data loader.\u001b[0m\n"
     ]
    },
    {
     "name": "stdout",
     "output_type": "stream",
     "text": [
      "\u001b[34mModel loaded with embedding_dim 32, hidden_dim 200, vocab_size 5000.\u001b[0m\n",
      "\u001b[34mEpoch: 1, BCELoss: 0.6715647383612029\u001b[0m\n",
      "\u001b[34mEpoch: 2, BCELoss: 0.5996950025461159\u001b[0m\n",
      "\u001b[34mEpoch: 3, BCELoss: 0.5168025955861929\u001b[0m\n",
      "\u001b[34mEpoch: 4, BCELoss: 0.43319458803352046\u001b[0m\n",
      "\u001b[34mEpoch: 5, BCELoss: 0.3815416815329571\u001b[0m\n",
      "\u001b[34mEpoch: 6, BCELoss: 0.36702332326344084\u001b[0m\n",
      "\u001b[34mEpoch: 7, BCELoss: 0.3853387571111017\u001b[0m\n",
      "\u001b[34mEpoch: 8, BCELoss: 0.3243246127148064\u001b[0m\n",
      "\u001b[34mEpoch: 9, BCELoss: 0.2941712271802279\u001b[0m\n",
      "\n",
      "2020-11-24 16:03:40 Uploading - Uploading generated training model\u001b[34mEpoch: 10, BCELoss: 0.27696360465215175\u001b[0m\n",
      "\u001b[34m2020-11-24 16:03:37,789 sagemaker-containers INFO     Reporting training SUCCESS\u001b[0m\n",
      "\n",
      "2020-11-24 16:03:47 Completed - Training job completed\n",
      "Training seconds: 265\n",
      "Billable seconds: 265\n"
     ]
    }
   ],
   "source": [
    "estimator.fit({'training': input_data})"
   ]
  },
  {
   "cell_type": "markdown",
   "metadata": {},
   "source": [
    "## Step 5: Testing the model\n",
    "\n",
    "As mentioned at the top of this notebook, we will be testing this model by first deploying it and then sending the testing data to the deployed endpoint. We will do this so that we can make sure that the deployed model is working correctly.\n",
    "\n",
    "## Step 6: Deploy the model for testing\n",
    "\n",
    "Now that we have trained our model, we would like to test it to see how it performs. Currently our model takes input of the form `review_length, review[500]` where `review[500]` is a sequence of `500` integers which describe the words present in the review, encoded using `word_dict`. Fortunately for us, SageMaker provides built-in inference code for models with simple inputs such as this.\n",
    "\n",
    "There is one thing that we need to provide, however, and that is a function which loads the saved model. This function must be called `model_fn()` and takes as its only parameter a path to the directory where the model artifacts are stored. This function must also be present in the python file which we specified as the entry point. In our case the model loading function has been provided and so no changes need to be made.\n",
    "\n",
    "**NOTE**: When the built-in inference code is run it must import the `model_fn()` method from the `train.py` file. This is why the training code is wrapped in a main guard ( ie, `if __name__ == '__main__':` )\n",
    "\n",
    "Since we don't need to change anything in the code that was uploaded during training, we can simply deploy the current model as-is.\n",
    "\n",
    "**NOTE:** When deploying a model you are asking SageMaker to launch an compute instance that will wait for data to be sent to it. As a result, this compute instance will continue to run until *you* shut it down. This is important to know since the cost of a deployed endpoint depends on how long it has been running for.\n",
    "\n",
    "In other words **If you are no longer using a deployed endpoint, shut it down!**\n",
    "\n",
    "**TODO:** Deploy the trained model."
   ]
  },
  {
   "cell_type": "code",
   "execution_count": 29,
   "metadata": {},
   "outputs": [
    {
     "name": "stderr",
     "output_type": "stream",
     "text": [
      "Parameter image will be renamed to image_uri in SageMaker Python SDK v2.\n",
      "'create_image_uri' will be deprecated in favor of 'ImageURIProvider' class in SageMaker Python SDK v2.\n"
     ]
    },
    {
     "name": "stdout",
     "output_type": "stream",
     "text": [
      "-------------!"
     ]
    }
   ],
   "source": [
    "# TODO: Deploy the trained model\n",
    "predictor = estimator.deploy(initial_instance_count = 1, instance_type = 'ml.m4.xlarge')"
   ]
  },
  {
   "cell_type": "markdown",
   "metadata": {},
   "source": [
    "## Step 7 - Use the model for testing\n",
    "\n",
    "Once deployed, we can read in the test data and send it off to our deployed model to get some results. Once we collect all of the results we can determine how accurate our model is."
   ]
  },
  {
   "cell_type": "code",
   "execution_count": 30,
   "metadata": {},
   "outputs": [],
   "source": [
    "test_X = pd.concat([pd.DataFrame(test_X_len), pd.DataFrame(test_X)], axis=1)"
   ]
  },
  {
   "cell_type": "code",
   "execution_count": 31,
   "metadata": {},
   "outputs": [],
   "source": [
    "# We split the data into chunks and send each chunk seperately, accumulating the results.\n",
    "\n",
    "def predict(data, rows=512):\n",
    "    split_array = np.array_split(data, int(data.shape[0] / float(rows) + 1))\n",
    "    predictions = np.array([])\n",
    "    for array in split_array:\n",
    "        predictions = np.append(predictions, predictor.predict(array))\n",
    "    \n",
    "    return predictions"
   ]
  },
  {
   "cell_type": "code",
   "execution_count": 32,
   "metadata": {},
   "outputs": [],
   "source": [
    "predictions = predict(test_X.values)\n",
    "predictions = [round(num) for num in predictions]"
   ]
  },
  {
   "cell_type": "code",
   "execution_count": 33,
   "metadata": {},
   "outputs": [
    {
     "data": {
      "text/plain": [
       "0.85124"
      ]
     },
     "execution_count": 33,
     "metadata": {},
     "output_type": "execute_result"
    }
   ],
   "source": [
    "from sklearn.metrics import accuracy_score\n",
    "accuracy_score(test_y, predictions)"
   ]
  },
  {
   "cell_type": "markdown",
   "metadata": {},
   "source": [
    "**Question:** How does this model compare to the XGBoost model you created earlier? Why might these two models perform differently on this dataset? Which do *you* think is better for sentiment analysis?"
   ]
  },
  {
   "cell_type": "markdown",
   "metadata": {},
   "source": [
    "**Answer:** The accuracy score of RNN is 0.85124 and the that of XGBoost is 0.85712. The scores are relatively similar.\n",
    "Having said that, I think that RNN is a better model for sentimental analysis since it can handle sequential data much better than XBBoost. "
   ]
  },
  {
   "cell_type": "markdown",
   "metadata": {},
   "source": [
    "### (TODO) More testing\n",
    "\n",
    "We now have a trained model which has been deployed and which we can send processed reviews to and which returns the predicted sentiment. However, ultimately we would like to be able to send our model an unprocessed review. That is, we would like to send the review itself as a string. For example, suppose we wish to send the following review to our model."
   ]
  },
  {
   "cell_type": "code",
   "execution_count": 34,
   "metadata": {},
   "outputs": [],
   "source": [
    "test_review = 'The simplest pleasures in life are the best, and this film is one of them. Combining a rather basic storyline of love and adventure this movie transcends the usual weekend fair with wit and unmitigated charm.'"
   ]
  },
  {
   "cell_type": "markdown",
   "metadata": {},
   "source": [
    "The question we now need to answer is, how do we send this review to our model?\n",
    "\n",
    "Recall in the first section of this notebook we did a bunch of data processing to the IMDb dataset. In particular, we did two specific things to the provided reviews.\n",
    " - Removed any html tags and stemmed the input\n",
    " - Encoded the review as a sequence of integers using `word_dict`\n",
    " \n",
    "In order process the review we will need to repeat these two steps.\n",
    "\n",
    "**TODO**: Using the `review_to_words` and `convert_and_pad` methods from section one, convert `test_review` into a numpy array `test_data` suitable to send to our model. Remember that our model expects input of the form `review_length, review[500]`."
   ]
  },
  {
   "cell_type": "code",
   "execution_count": 35,
   "metadata": {},
   "outputs": [],
   "source": [
    "# TODO: Convert test_review into a form usable by the model and save the results in test_data\n",
    "\n",
    "processed_test_review, processed_test_review_len = convert_and_pad(word_dict, review_to_words(test_review))\n",
    "test_data = [np.array(processed_test_review)]"
   ]
  },
  {
   "cell_type": "code",
   "execution_count": 36,
   "metadata": {},
   "outputs": [
    {
     "data": {
      "text/plain": [
       "[array([   1, 1374,   50,   53,    3,    4,  878,  173,  392,  682,   29,\n",
       "         723,    2, 4406,  275, 2076, 1061,  760,    1,  582,    0,    0,\n",
       "           0,    0,    0,    0,    0,    0,    0,    0,    0,    0,    0,\n",
       "           0,    0,    0,    0,    0,    0,    0,    0,    0,    0,    0,\n",
       "           0,    0,    0,    0,    0,    0,    0,    0,    0,    0,    0,\n",
       "           0,    0,    0,    0,    0,    0,    0,    0,    0,    0,    0,\n",
       "           0,    0,    0,    0,    0,    0,    0,    0,    0,    0,    0,\n",
       "           0,    0,    0,    0,    0,    0,    0,    0,    0,    0,    0,\n",
       "           0,    0,    0,    0,    0,    0,    0,    0,    0,    0,    0,\n",
       "           0,    0,    0,    0,    0,    0,    0,    0,    0,    0,    0,\n",
       "           0,    0,    0,    0,    0,    0,    0,    0,    0,    0,    0,\n",
       "           0,    0,    0,    0,    0,    0,    0,    0,    0,    0,    0,\n",
       "           0,    0,    0,    0,    0,    0,    0,    0,    0,    0,    0,\n",
       "           0,    0,    0,    0,    0,    0,    0,    0,    0,    0,    0,\n",
       "           0,    0,    0,    0,    0,    0,    0,    0,    0,    0,    0,\n",
       "           0,    0,    0,    0,    0,    0,    0,    0,    0,    0,    0,\n",
       "           0,    0,    0,    0,    0,    0,    0,    0,    0,    0,    0,\n",
       "           0,    0,    0,    0,    0,    0,    0,    0,    0,    0,    0,\n",
       "           0,    0,    0,    0,    0,    0,    0,    0,    0,    0,    0,\n",
       "           0,    0,    0,    0,    0,    0,    0,    0,    0,    0,    0,\n",
       "           0,    0,    0,    0,    0,    0,    0,    0,    0,    0,    0,\n",
       "           0,    0,    0,    0,    0,    0,    0,    0,    0,    0,    0,\n",
       "           0,    0,    0,    0,    0,    0,    0,    0,    0,    0,    0,\n",
       "           0,    0,    0,    0,    0,    0,    0,    0,    0,    0,    0,\n",
       "           0,    0,    0,    0,    0,    0,    0,    0,    0,    0,    0,\n",
       "           0,    0,    0,    0,    0,    0,    0,    0,    0,    0,    0,\n",
       "           0,    0,    0,    0,    0,    0,    0,    0,    0,    0,    0,\n",
       "           0,    0,    0,    0,    0,    0,    0,    0,    0,    0,    0,\n",
       "           0,    0,    0,    0,    0,    0,    0,    0,    0,    0,    0,\n",
       "           0,    0,    0,    0,    0,    0,    0,    0,    0,    0,    0,\n",
       "           0,    0,    0,    0,    0,    0,    0,    0,    0,    0,    0,\n",
       "           0,    0,    0,    0,    0,    0,    0,    0,    0,    0,    0,\n",
       "           0,    0,    0,    0,    0,    0,    0,    0,    0,    0,    0,\n",
       "           0,    0,    0,    0,    0,    0,    0,    0,    0,    0,    0,\n",
       "           0,    0,    0,    0,    0,    0,    0,    0,    0,    0,    0,\n",
       "           0,    0,    0,    0,    0,    0,    0,    0,    0,    0,    0,\n",
       "           0,    0,    0,    0,    0,    0,    0,    0,    0,    0,    0,\n",
       "           0,    0,    0,    0,    0,    0,    0,    0,    0,    0,    0,\n",
       "           0,    0,    0,    0,    0,    0,    0,    0,    0,    0,    0,\n",
       "           0,    0,    0,    0,    0,    0,    0,    0,    0,    0,    0,\n",
       "           0,    0,    0,    0,    0,    0,    0,    0,    0,    0,    0,\n",
       "           0,    0,    0,    0,    0,    0,    0,    0,    0,    0,    0,\n",
       "           0,    0,    0,    0,    0,    0,    0,    0,    0,    0,    0,\n",
       "           0,    0,    0,    0,    0,    0,    0,    0,    0,    0,    0,\n",
       "           0,    0,    0,    0,    0,    0,    0,    0,    0,    0,    0,\n",
       "           0,    0,    0,    0,    0])]"
      ]
     },
     "execution_count": 36,
     "metadata": {},
     "output_type": "execute_result"
    }
   ],
   "source": [
    "test_data"
   ]
  },
  {
   "cell_type": "markdown",
   "metadata": {},
   "source": [
    "Now that we have processed the review, we can send the resulting array to our model to predict the sentiment of the review."
   ]
  },
  {
   "cell_type": "code",
   "execution_count": 37,
   "metadata": {},
   "outputs": [
    {
     "data": {
      "text/plain": [
       "array(0.7961626, dtype=float32)"
      ]
     },
     "execution_count": 37,
     "metadata": {},
     "output_type": "execute_result"
    }
   ],
   "source": [
    "predictor.predict(test_data)"
   ]
  },
  {
   "cell_type": "markdown",
   "metadata": {},
   "source": [
    "Since the return value of our model is close to `1`, we can be certain that the review we submitted is positive."
   ]
  },
  {
   "cell_type": "markdown",
   "metadata": {},
   "source": [
    "### Delete the endpoint\n",
    "\n",
    "Of course, just like in the XGBoost notebook, once we've deployed an endpoint it continues to run until we tell it to shut down. Since we are done using our endpoint for now, we can delete it."
   ]
  },
  {
   "cell_type": "code",
   "execution_count": 38,
   "metadata": {},
   "outputs": [
    {
     "name": "stderr",
     "output_type": "stream",
     "text": [
      "estimator.delete_endpoint() will be deprecated in SageMaker Python SDK v2. Please use the delete_endpoint() function on your predictor instead.\n"
     ]
    }
   ],
   "source": [
    "estimator.delete_endpoint()"
   ]
  },
  {
   "cell_type": "markdown",
   "metadata": {},
   "source": [
    "## Step 6 (again) - Deploy the model for the web app\n",
    "\n",
    "Now that we know that our model is working, it's time to create some custom inference code so that we can send the model a review which has not been processed and have it determine the sentiment of the review.\n",
    "\n",
    "As we saw above, by default the estimator which we created, when deployed, will use the entry script and directory which we provided when creating the model. However, since we now wish to accept a string as input and our model expects a processed review, we need to write some custom inference code.\n",
    "\n",
    "We will store the code that we write in the `serve` directory. Provided in this directory is the `model.py` file that we used to construct our model, a `utils.py` file which contains the `review_to_words` and `convert_and_pad` pre-processing functions which we used during the initial data processing, and `predict.py`, the file which will contain our custom inference code. Note also that `requirements.txt` is present which will tell SageMaker what Python libraries are required by our custom inference code.\n",
    "\n",
    "When deploying a PyTorch model in SageMaker, you are expected to provide four functions which the SageMaker inference container will use.\n",
    " - `model_fn`: This function is the same function that we used in the training script and it tells SageMaker how to load our model.\n",
    " - `input_fn`: This function receives the raw serialized input that has been sent to the model's endpoint and its job is to de-serialize and make the input available for the inference code.\n",
    " - `output_fn`: This function takes the output of the inference code and its job is to serialize this output and return it to the caller of the model's endpoint.\n",
    " - `predict_fn`: The heart of the inference script, this is where the actual prediction is done and is the function which you will need to complete.\n",
    "\n",
    "For the simple website that we are constructing during this project, the `input_fn` and `output_fn` methods are relatively straightforward. We only require being able to accept a string as input and we expect to return a single value as output. You might imagine though that in a more complex application the input or output may be image data or some other binary data which would require some effort to serialize.\n",
    "\n",
    "### (TODO) Writing inference code\n",
    "\n",
    "Before writing our custom inference code, we will begin by taking a look at the code which has been provided."
   ]
  },
  {
   "cell_type": "code",
   "execution_count": 39,
   "metadata": {},
   "outputs": [
    {
     "name": "stdout",
     "output_type": "stream",
     "text": [
      "\u001b[34mimport\u001b[39;49;00m \u001b[04m\u001b[36margparse\u001b[39;49;00m\r\n",
      "\u001b[34mimport\u001b[39;49;00m \u001b[04m\u001b[36mjson\u001b[39;49;00m\r\n",
      "\u001b[34mimport\u001b[39;49;00m \u001b[04m\u001b[36mos\u001b[39;49;00m\r\n",
      "\u001b[34mimport\u001b[39;49;00m \u001b[04m\u001b[36mpickle\u001b[39;49;00m\r\n",
      "\u001b[34mimport\u001b[39;49;00m \u001b[04m\u001b[36msys\u001b[39;49;00m\r\n",
      "\u001b[34mimport\u001b[39;49;00m \u001b[04m\u001b[36msagemaker_containers\u001b[39;49;00m\r\n",
      "\u001b[34mimport\u001b[39;49;00m \u001b[04m\u001b[36mpandas\u001b[39;49;00m \u001b[34mas\u001b[39;49;00m \u001b[04m\u001b[36mpd\u001b[39;49;00m\r\n",
      "\u001b[34mimport\u001b[39;49;00m \u001b[04m\u001b[36mnumpy\u001b[39;49;00m \u001b[34mas\u001b[39;49;00m \u001b[04m\u001b[36mnp\u001b[39;49;00m\r\n",
      "\u001b[34mimport\u001b[39;49;00m \u001b[04m\u001b[36mtorch\u001b[39;49;00m\r\n",
      "\u001b[34mimport\u001b[39;49;00m \u001b[04m\u001b[36mtorch\u001b[39;49;00m\u001b[04m\u001b[36m.\u001b[39;49;00m\u001b[04m\u001b[36mnn\u001b[39;49;00m \u001b[34mas\u001b[39;49;00m \u001b[04m\u001b[36mnn\u001b[39;49;00m\r\n",
      "\u001b[34mimport\u001b[39;49;00m \u001b[04m\u001b[36mtorch\u001b[39;49;00m\u001b[04m\u001b[36m.\u001b[39;49;00m\u001b[04m\u001b[36moptim\u001b[39;49;00m \u001b[34mas\u001b[39;49;00m \u001b[04m\u001b[36moptim\u001b[39;49;00m\r\n",
      "\u001b[34mimport\u001b[39;49;00m \u001b[04m\u001b[36mtorch\u001b[39;49;00m\u001b[04m\u001b[36m.\u001b[39;49;00m\u001b[04m\u001b[36mutils\u001b[39;49;00m\u001b[04m\u001b[36m.\u001b[39;49;00m\u001b[04m\u001b[36mdata\u001b[39;49;00m\r\n",
      "\r\n",
      "\u001b[34mfrom\u001b[39;49;00m \u001b[04m\u001b[36mmodel\u001b[39;49;00m \u001b[34mimport\u001b[39;49;00m LSTMClassifier\r\n",
      "\r\n",
      "\u001b[34mfrom\u001b[39;49;00m \u001b[04m\u001b[36mutils\u001b[39;49;00m \u001b[34mimport\u001b[39;49;00m review_to_words, convert_and_pad\r\n",
      "\r\n",
      "\u001b[34mdef\u001b[39;49;00m \u001b[32mmodel_fn\u001b[39;49;00m(model_dir):\r\n",
      "    \u001b[33m\"\"\"Load the PyTorch model from the `model_dir` directory.\"\"\"\u001b[39;49;00m\r\n",
      "    \u001b[36mprint\u001b[39;49;00m(\u001b[33m\"\u001b[39;49;00m\u001b[33mLoading model.\u001b[39;49;00m\u001b[33m\"\u001b[39;49;00m)\r\n",
      "\r\n",
      "    \u001b[37m# First, load the parameters used to create the model.\u001b[39;49;00m\r\n",
      "    model_info = {}\r\n",
      "    model_info_path = os.path.join(model_dir, \u001b[33m'\u001b[39;49;00m\u001b[33mmodel_info.pth\u001b[39;49;00m\u001b[33m'\u001b[39;49;00m)\r\n",
      "    \u001b[34mwith\u001b[39;49;00m \u001b[36mopen\u001b[39;49;00m(model_info_path, \u001b[33m'\u001b[39;49;00m\u001b[33mrb\u001b[39;49;00m\u001b[33m'\u001b[39;49;00m) \u001b[34mas\u001b[39;49;00m f:\r\n",
      "        model_info = torch.load(f)\r\n",
      "\r\n",
      "    \u001b[36mprint\u001b[39;49;00m(\u001b[33m\"\u001b[39;49;00m\u001b[33mmodel_info: \u001b[39;49;00m\u001b[33m{}\u001b[39;49;00m\u001b[33m\"\u001b[39;49;00m.format(model_info))\r\n",
      "\r\n",
      "    \u001b[37m# Determine the device and construct the model.\u001b[39;49;00m\r\n",
      "    device = torch.device(\u001b[33m\"\u001b[39;49;00m\u001b[33mcuda\u001b[39;49;00m\u001b[33m\"\u001b[39;49;00m \u001b[34mif\u001b[39;49;00m torch.cuda.is_available() \u001b[34melse\u001b[39;49;00m \u001b[33m\"\u001b[39;49;00m\u001b[33mcpu\u001b[39;49;00m\u001b[33m\"\u001b[39;49;00m)\r\n",
      "    model = LSTMClassifier(model_info[\u001b[33m'\u001b[39;49;00m\u001b[33membedding_dim\u001b[39;49;00m\u001b[33m'\u001b[39;49;00m], model_info[\u001b[33m'\u001b[39;49;00m\u001b[33mhidden_dim\u001b[39;49;00m\u001b[33m'\u001b[39;49;00m], model_info[\u001b[33m'\u001b[39;49;00m\u001b[33mvocab_size\u001b[39;49;00m\u001b[33m'\u001b[39;49;00m])\r\n",
      "\r\n",
      "    \u001b[37m# Load the store model parameters.\u001b[39;49;00m\r\n",
      "    model_path = os.path.join(model_dir, \u001b[33m'\u001b[39;49;00m\u001b[33mmodel.pth\u001b[39;49;00m\u001b[33m'\u001b[39;49;00m)\r\n",
      "    \u001b[34mwith\u001b[39;49;00m \u001b[36mopen\u001b[39;49;00m(model_path, \u001b[33m'\u001b[39;49;00m\u001b[33mrb\u001b[39;49;00m\u001b[33m'\u001b[39;49;00m) \u001b[34mas\u001b[39;49;00m f:\r\n",
      "        model.load_state_dict(torch.load(f))\r\n",
      "\r\n",
      "    \u001b[37m# Load the saved word_dict.\u001b[39;49;00m\r\n",
      "    word_dict_path = os.path.join(model_dir, \u001b[33m'\u001b[39;49;00m\u001b[33mword_dict.pkl\u001b[39;49;00m\u001b[33m'\u001b[39;49;00m)\r\n",
      "    \u001b[34mwith\u001b[39;49;00m \u001b[36mopen\u001b[39;49;00m(word_dict_path, \u001b[33m'\u001b[39;49;00m\u001b[33mrb\u001b[39;49;00m\u001b[33m'\u001b[39;49;00m) \u001b[34mas\u001b[39;49;00m f:\r\n",
      "        model.word_dict = pickle.load(f)\r\n",
      "\r\n",
      "    model.to(device).eval()\r\n",
      "\r\n",
      "    \u001b[36mprint\u001b[39;49;00m(\u001b[33m\"\u001b[39;49;00m\u001b[33mDone loading model.\u001b[39;49;00m\u001b[33m\"\u001b[39;49;00m)\r\n",
      "    \u001b[34mreturn\u001b[39;49;00m model\r\n",
      "\r\n",
      "\u001b[34mdef\u001b[39;49;00m \u001b[32minput_fn\u001b[39;49;00m(serialized_input_data, content_type):\r\n",
      "    \u001b[36mprint\u001b[39;49;00m(\u001b[33m'\u001b[39;49;00m\u001b[33mDeserializing the input data.\u001b[39;49;00m\u001b[33m'\u001b[39;49;00m)\r\n",
      "    \u001b[34mif\u001b[39;49;00m content_type == \u001b[33m'\u001b[39;49;00m\u001b[33mtext/plain\u001b[39;49;00m\u001b[33m'\u001b[39;49;00m:\r\n",
      "        data = serialized_input_data.decode(\u001b[33m'\u001b[39;49;00m\u001b[33mutf-8\u001b[39;49;00m\u001b[33m'\u001b[39;49;00m)\r\n",
      "        \u001b[34mreturn\u001b[39;49;00m data\r\n",
      "    \u001b[34mraise\u001b[39;49;00m \u001b[36mException\u001b[39;49;00m(\u001b[33m'\u001b[39;49;00m\u001b[33mRequested unsupported ContentType in content_type: \u001b[39;49;00m\u001b[33m'\u001b[39;49;00m + content_type)\r\n",
      "\r\n",
      "\u001b[34mdef\u001b[39;49;00m \u001b[32moutput_fn\u001b[39;49;00m(prediction_output, accept):\r\n",
      "    \u001b[36mprint\u001b[39;49;00m(\u001b[33m'\u001b[39;49;00m\u001b[33mSerializing the generated output.\u001b[39;49;00m\u001b[33m'\u001b[39;49;00m)\r\n",
      "    \u001b[34mreturn\u001b[39;49;00m \u001b[36mstr\u001b[39;49;00m(prediction_output)\r\n",
      "\r\n",
      "\u001b[34mdef\u001b[39;49;00m \u001b[32mpredict_fn\u001b[39;49;00m(input_data, model):\r\n",
      "    \u001b[36mprint\u001b[39;49;00m(\u001b[33m'\u001b[39;49;00m\u001b[33mInferring sentiment of input data.\u001b[39;49;00m\u001b[33m'\u001b[39;49;00m)\r\n",
      "\r\n",
      "    device = torch.device(\u001b[33m\"\u001b[39;49;00m\u001b[33mcuda\u001b[39;49;00m\u001b[33m\"\u001b[39;49;00m \u001b[34mif\u001b[39;49;00m torch.cuda.is_available() \u001b[34melse\u001b[39;49;00m \u001b[33m\"\u001b[39;49;00m\u001b[33mcpu\u001b[39;49;00m\u001b[33m\"\u001b[39;49;00m)\r\n",
      "    \r\n",
      "    \u001b[34mif\u001b[39;49;00m model.word_dict \u001b[35mis\u001b[39;49;00m \u001b[34mNone\u001b[39;49;00m:\r\n",
      "        \u001b[34mraise\u001b[39;49;00m \u001b[36mException\u001b[39;49;00m(\u001b[33m'\u001b[39;49;00m\u001b[33mModel has not been loaded properly, no word_dict.\u001b[39;49;00m\u001b[33m'\u001b[39;49;00m)\r\n",
      "    \r\n",
      "    \u001b[37m# TODO: Process input_data so that it is ready to be sent to our model.\u001b[39;49;00m\r\n",
      "    \u001b[37m#       You should produce two variables:\u001b[39;49;00m\r\n",
      "    \u001b[37m#         data_X   - A sequence of length 500 which represents the converted review\u001b[39;49;00m\r\n",
      "    \u001b[37m#         data_len - The length of the review\u001b[39;49;00m\r\n",
      "\r\n",
      "    data_X, data_len = convert_and_pad(model.word_dict, review_to_words(input_data))\r\n",
      "    \u001b[37m#data_len = convert_and_pad(model.word_dict, review_words)\u001b[39;49;00m\r\n",
      "    \r\n",
      "    \u001b[37m# Using data_X and data_len we construct an appropriate input tensor. Remember\u001b[39;49;00m\r\n",
      "    \u001b[37m# that our model expects input data of the form 'len, review[500]'.\u001b[39;49;00m\r\n",
      "    data_pack = np.hstack((data_len, data_X))\r\n",
      "    data_pack = data_pack.reshape(\u001b[34m1\u001b[39;49;00m, -\u001b[34m1\u001b[39;49;00m)\r\n",
      "    \r\n",
      "    data = torch.from_numpy(data_pack)\r\n",
      "    data = data.to(device)\r\n",
      "\r\n",
      "    \u001b[37m# Make sure to put the model into evaluation mode\u001b[39;49;00m\r\n",
      "    model.eval()\r\n",
      "\r\n",
      "    \u001b[37m# TODO: Compute the result of applying the model to the input data. The variable `result` should\u001b[39;49;00m\r\n",
      "    \u001b[37m#       be a numpy array which contains a single integer which is either 1 or 0\u001b[39;49;00m\r\n",
      "\r\n",
      "    y = model(data).detach().cpu().numpy()\r\n",
      "    result = np.round(y).astype(np.int)\r\n",
      "    \u001b[37m#result = None\u001b[39;49;00m\r\n",
      "\r\n",
      "    \u001b[34mreturn\u001b[39;49;00m result\r\n"
     ]
    }
   ],
   "source": [
    "!pygmentize serve/predict.py"
   ]
  },
  {
   "cell_type": "markdown",
   "metadata": {},
   "source": [
    "As mentioned earlier, the `model_fn` method is the same as the one provided in the training code and the `input_fn` and `output_fn` methods are very simple and your task will be to complete the `predict_fn` method. Make sure that you save the completed file as `predict.py` in the `serve` directory.\n",
    "\n",
    "**TODO**: Complete the `predict_fn()` method in the `serve/predict.py` file."
   ]
  },
  {
   "cell_type": "markdown",
   "metadata": {},
   "source": [
    "### Deploying the model\n",
    "\n",
    "Now that the custom inference code has been written, we will create and deploy our model. To begin with, we need to construct a new PyTorchModel object which points to the model artifacts created during training and also points to the inference code that we wish to use. Then we can call the deploy method to launch the deployment container.\n",
    "\n",
    "**NOTE**: The default behaviour for a deployed PyTorch model is to assume that any input passed to the predictor is a `numpy` array. In our case we want to send a string so we need to construct a simple wrapper around the `RealTimePredictor` class to accomodate simple strings. In a more complicated situation you may want to provide a serialization object, for example if you wanted to sent image data."
   ]
  },
  {
   "cell_type": "code",
   "execution_count": 44,
   "metadata": {},
   "outputs": [
    {
     "name": "stderr",
     "output_type": "stream",
     "text": [
      "Parameter image will be renamed to image_uri in SageMaker Python SDK v2.\n",
      "'create_image_uri' will be deprecated in favor of 'ImageURIProvider' class in SageMaker Python SDK v2.\n"
     ]
    },
    {
     "name": "stdout",
     "output_type": "stream",
     "text": [
      "-------------!"
     ]
    }
   ],
   "source": [
    "from sagemaker.predictor import RealTimePredictor\n",
    "#from sagemaker.predictor import Predictor\n",
    "from sagemaker.pytorch import PyTorchModel\n",
    "\n",
    "class StringPredictor(RealTimePredictor):\n",
    "    def __init__(self, endpoint_name, sagemaker_session):\n",
    "        super(StringPredictor, self).__init__(endpoint_name, sagemaker_session, content_type='text/plain')\n",
    "#     def predict(self, input_text):\n",
    "#         processed_test_review, processed_test_review_len = convert_and_pad(word_dict, review_to_words(input_text))\n",
    "#         test_data = [np.array(processed_test_review)]\n",
    "#         return super().predict(test_data)\n",
    "        \n",
    "\n",
    "model = PyTorchModel(model_data=estimator.model_data,\n",
    "                     role = role,\n",
    "                     framework_version='0.4.0',\n",
    "                     entry_point='predict.py',\n",
    "                     source_dir='serve',\n",
    "                     predictor_cls=StringPredictor)\n",
    "\n",
    "predictor = model.deploy(initial_instance_count=1, instance_type='ml.m4.xlarge')"
   ]
  },
  {
   "cell_type": "code",
   "execution_count": 45,
   "metadata": {},
   "outputs": [
    {
     "data": {
      "text/plain": [
       "'s3://sagemaker-us-east-2-230255106166/sagemaker-pytorch-2020-11-24-15-56-40-597/output/model.tar.gz'"
      ]
     },
     "execution_count": 45,
     "metadata": {},
     "output_type": "execute_result"
    }
   ],
   "source": [
    "estimator.model_data"
   ]
  },
  {
   "cell_type": "markdown",
   "metadata": {},
   "source": [
    "### Testing the model\n",
    "\n",
    "Now that we have deployed our model with the custom inference code, we should test to see if everything is working. Here we test our model by loading the first `250` positive and negative reviews and send them to the endpoint, then collect the results. The reason for only sending some of the data is that the amount of time it takes for our model to process the input and then perform inference is quite long and so testing the entire data set would be prohibitive."
   ]
  },
  {
   "cell_type": "code",
   "execution_count": 46,
   "metadata": {},
   "outputs": [],
   "source": [
    "import glob\n",
    "\n",
    "def test_reviews(data_dir='../data/aclImdb', stop=250):\n",
    "    \n",
    "    results = []\n",
    "    ground = []\n",
    "    \n",
    "    # We make sure to test both positive and negative reviews    \n",
    "    for sentiment in ['pos', 'neg']:\n",
    "        \n",
    "        path = os.path.join(data_dir, 'test', sentiment, '*.txt')\n",
    "        files = glob.glob(path)\n",
    "        \n",
    "        files_read = 0\n",
    "        \n",
    "        print('Starting ', sentiment, ' files')\n",
    "        \n",
    "        # Iterate through the files and send them to the predictor\n",
    "        for f in files:\n",
    "            with open(f) as review:\n",
    "                # First, we store the ground truth (was the review positive or negative)\n",
    "                if sentiment == 'pos':\n",
    "                    ground.append(1)\n",
    "                else:\n",
    "                    ground.append(0)\n",
    "                # Read in the review and convert to 'utf-8' for transmission via HTTP\n",
    "                review_input = review.read().encode('utf-8')\n",
    "                #print(test_data)\n",
    "                results.append(float(predictor.predict(review_input)))\n",
    "                \n",
    "            # Sending reviews to our endpoint one at a time takes a while so we\n",
    "            # only send a small number of reviews\n",
    "            files_read += 1\n",
    "            if files_read == stop:\n",
    "                break\n",
    "            \n",
    "    return ground, results"
   ]
  },
  {
   "cell_type": "code",
   "execution_count": 48,
   "metadata": {
    "scrolled": false
   },
   "outputs": [
    {
     "name": "stdout",
     "output_type": "stream",
     "text": [
      "Starting  pos  files\n",
      "Starting  neg  files\n",
      "[1, 1, 1, 1, 1, 1, 1, 1, 1, 1, 1, 1, 1, 1, 1, 1, 1, 1, 1, 1, 1, 1, 1, 1, 1, 1, 1, 1, 1, 1, 1, 1, 1, 1, 1, 1, 1, 1, 1, 1, 1, 1, 1, 1, 1, 1, 1, 1, 1, 1, 1, 1, 1, 1, 1, 1, 1, 1, 1, 1, 1, 1, 1, 1, 1, 1, 1, 1, 1, 1, 1, 1, 1, 1, 1, 1, 1, 1, 1, 1, 1, 1, 1, 1, 1, 1, 1, 1, 1, 1, 1, 1, 1, 1, 1, 1, 1, 1, 1, 1, 1, 1, 1, 1, 1, 1, 1, 1, 1, 1, 1, 1, 1, 1, 1, 1, 1, 1, 1, 1, 1, 1, 1, 1, 1, 1, 1, 1, 1, 1, 1, 1, 1, 1, 1, 1, 1, 1, 1, 1, 1, 1, 1, 1, 1, 1, 1, 1, 1, 1, 1, 1, 1, 1, 1, 1, 1, 1, 1, 1, 1, 1, 1, 1, 1, 1, 1, 1, 1, 1, 1, 1, 1, 1, 1, 1, 1, 1, 1, 1, 1, 1, 1, 1, 1, 1, 1, 1, 1, 1, 1, 1, 1, 1, 1, 1, 1, 1, 1, 1, 1, 1, 1, 1, 1, 1, 1, 1, 1, 1, 1, 1, 1, 1, 1, 1, 1, 1, 1, 1, 1, 1, 1, 1, 1, 1, 1, 1, 1, 1, 1, 1, 1, 1, 1, 1, 1, 1, 1, 1, 1, 1, 1, 1, 1, 1, 1, 1, 1, 1, 0, 0, 0, 0, 0, 0, 0, 0, 0, 0, 0, 0, 0, 0, 0, 0, 0, 0, 0, 0, 0, 0, 0, 0, 0, 0, 0, 0, 0, 0, 0, 0, 0, 0, 0, 0, 0, 0, 0, 0, 0, 0, 0, 0, 0, 0, 0, 0, 0, 0, 0, 0, 0, 0, 0, 0, 0, 0, 0, 0, 0, 0, 0, 0, 0, 0, 0, 0, 0, 0, 0, 0, 0, 0, 0, 0, 0, 0, 0, 0, 0, 0, 0, 0, 0, 0, 0, 0, 0, 0, 0, 0, 0, 0, 0, 0, 0, 0, 0, 0, 0, 0, 0, 0, 0, 0, 0, 0, 0, 0, 0, 0, 0, 0, 0, 0, 0, 0, 0, 0, 0, 0, 0, 0, 0, 0, 0, 0, 0, 0, 0, 0, 0, 0, 0, 0, 0, 0, 0, 0, 0, 0, 0, 0, 0, 0, 0, 0, 0, 0, 0, 0, 0, 0, 0, 0, 0, 0, 0, 0, 0, 0, 0, 0, 0, 0, 0, 0, 0, 0, 0, 0, 0, 0, 0, 0, 0, 0, 0, 0, 0, 0, 0, 0, 0, 0, 0, 0, 0, 0, 0, 0, 0, 0, 0, 0, 0, 0, 0, 0, 0, 0, 0, 0, 0, 0, 0, 0, 0, 0, 0, 0, 0, 0, 0, 0, 0, 0, 0, 0, 0, 0, 0, 0, 0, 0, 0, 0, 0, 0, 0, 0, 0, 0, 0, 0, 0, 0, 0, 0, 0, 0, 0, 0, 0, 0, 0, 0, 0, 0] [0.0, 1.0, 1.0, 1.0, 1.0, 1.0, 1.0, 1.0, 1.0, 1.0, 1.0, 1.0, 1.0, 0.0, 1.0, 1.0, 1.0, 0.0, 1.0, 1.0, 1.0, 1.0, 0.0, 1.0, 0.0, 1.0, 1.0, 1.0, 1.0, 1.0, 1.0, 0.0, 1.0, 1.0, 1.0, 1.0, 0.0, 1.0, 1.0, 1.0, 1.0, 1.0, 1.0, 1.0, 1.0, 1.0, 1.0, 1.0, 0.0, 1.0, 1.0, 1.0, 1.0, 1.0, 1.0, 1.0, 1.0, 1.0, 1.0, 1.0, 1.0, 1.0, 1.0, 0.0, 1.0, 1.0, 1.0, 1.0, 1.0, 1.0, 0.0, 1.0, 1.0, 1.0, 1.0, 1.0, 1.0, 1.0, 1.0, 1.0, 1.0, 1.0, 1.0, 1.0, 1.0, 1.0, 1.0, 1.0, 1.0, 1.0, 0.0, 1.0, 0.0, 1.0, 1.0, 0.0, 1.0, 1.0, 1.0, 1.0, 0.0, 1.0, 1.0, 1.0, 1.0, 1.0, 1.0, 1.0, 0.0, 1.0, 1.0, 1.0, 1.0, 1.0, 1.0, 0.0, 1.0, 1.0, 1.0, 1.0, 1.0, 1.0, 1.0, 1.0, 0.0, 1.0, 0.0, 1.0, 1.0, 1.0, 0.0, 1.0, 1.0, 0.0, 1.0, 1.0, 1.0, 1.0, 1.0, 1.0, 1.0, 0.0, 1.0, 1.0, 0.0, 1.0, 1.0, 1.0, 0.0, 1.0, 1.0, 0.0, 1.0, 1.0, 1.0, 1.0, 0.0, 1.0, 1.0, 1.0, 1.0, 1.0, 0.0, 1.0, 1.0, 1.0, 1.0, 0.0, 1.0, 1.0, 0.0, 1.0, 1.0, 1.0, 1.0, 1.0, 0.0, 1.0, 0.0, 1.0, 1.0, 1.0, 1.0, 1.0, 1.0, 0.0, 1.0, 1.0, 0.0, 1.0, 1.0, 1.0, 1.0, 1.0, 0.0, 1.0, 1.0, 1.0, 1.0, 1.0, 1.0, 1.0, 1.0, 1.0, 1.0, 1.0, 1.0, 1.0, 1.0, 0.0, 1.0, 1.0, 1.0, 1.0, 1.0, 1.0, 1.0, 1.0, 1.0, 1.0, 1.0, 0.0, 1.0, 1.0, 1.0, 1.0, 1.0, 1.0, 1.0, 1.0, 1.0, 1.0, 0.0, 1.0, 1.0, 0.0, 1.0, 0.0, 1.0, 0.0, 1.0, 1.0, 1.0, 1.0, 1.0, 1.0, 0.0, 1.0, 1.0, 1.0, 0.0, 1.0, 0.0, 0.0, 0.0, 0.0, 0.0, 0.0, 0.0, 0.0, 0.0, 0.0, 0.0, 0.0, 0.0, 0.0, 0.0, 0.0, 0.0, 0.0, 0.0, 1.0, 0.0, 0.0, 0.0, 0.0, 0.0, 0.0, 0.0, 0.0, 0.0, 0.0, 0.0, 0.0, 0.0, 0.0, 0.0, 0.0, 0.0, 0.0, 0.0, 0.0, 0.0, 0.0, 0.0, 0.0, 0.0, 0.0, 0.0, 1.0, 0.0, 0.0, 0.0, 1.0, 0.0, 0.0, 1.0, 0.0, 0.0, 0.0, 0.0, 0.0, 0.0, 1.0, 0.0, 0.0, 0.0, 0.0, 0.0, 0.0, 0.0, 0.0, 0.0, 0.0, 0.0, 0.0, 0.0, 0.0, 0.0, 0.0, 0.0, 0.0, 0.0, 0.0, 0.0, 0.0, 0.0, 0.0, 0.0, 0.0, 0.0, 0.0, 0.0, 0.0, 0.0, 1.0, 0.0, 0.0, 0.0, 0.0, 0.0, 0.0, 0.0, 0.0, 0.0, 0.0, 0.0, 0.0, 0.0, 0.0, 0.0, 0.0, 0.0, 0.0, 0.0, 0.0, 0.0, 0.0, 1.0, 0.0, 0.0, 0.0, 0.0, 0.0, 0.0, 0.0, 1.0, 0.0, 0.0, 0.0, 0.0, 0.0, 0.0, 0.0, 0.0, 0.0, 0.0, 0.0, 0.0, 0.0, 0.0, 0.0, 0.0, 0.0, 0.0, 0.0, 0.0, 0.0, 1.0, 0.0, 0.0, 1.0, 0.0, 1.0, 0.0, 0.0, 0.0, 0.0, 0.0, 0.0, 0.0, 0.0, 0.0, 0.0, 0.0, 0.0, 0.0, 0.0, 0.0, 0.0, 0.0, 0.0, 0.0, 0.0, 0.0, 0.0, 0.0, 0.0, 0.0, 0.0, 0.0, 1.0, 1.0, 0.0, 0.0, 0.0, 0.0, 0.0, 1.0, 1.0, 0.0, 1.0, 0.0, 0.0, 0.0, 0.0, 0.0, 0.0, 0.0, 0.0, 0.0, 0.0, 0.0, 0.0, 1.0, 0.0, 0.0, 0.0, 0.0, 0.0, 0.0, 0.0, 0.0, 0.0, 0.0, 0.0, 0.0, 0.0, 0.0, 0.0, 0.0, 0.0, 0.0, 0.0, 1.0, 0.0, 0.0, 0.0, 0.0, 0.0, 0.0, 0.0, 0.0, 0.0, 0.0, 0.0, 0.0, 1.0, 0.0, 0.0, 1.0, 0.0, 0.0, 0.0, 0.0, 0.0, 0.0, 0.0, 0.0, 0.0]\n"
     ]
    }
   ],
   "source": [
    "ground, results = test_reviews()"
   ]
  },
  {
   "cell_type": "code",
   "execution_count": 49,
   "metadata": {},
   "outputs": [
    {
     "data": {
      "text/plain": [
       "0.878"
      ]
     },
     "execution_count": 49,
     "metadata": {},
     "output_type": "execute_result"
    }
   ],
   "source": [
    "from sklearn.metrics import accuracy_score\n",
    "accuracy_score(ground, results)"
   ]
  },
  {
   "cell_type": "markdown",
   "metadata": {},
   "source": [
    "As an additional test, we can try sending the `test_review` that we looked at earlier."
   ]
  },
  {
   "cell_type": "code",
   "execution_count": 50,
   "metadata": {},
   "outputs": [
    {
     "data": {
      "text/plain": [
       "b'1'"
      ]
     },
     "execution_count": 50,
     "metadata": {},
     "output_type": "execute_result"
    }
   ],
   "source": [
    "predictor.predict(test_review)"
   ]
  },
  {
   "cell_type": "markdown",
   "metadata": {},
   "source": [
    "Now that we know our endpoint is working as expected, we can set up the web page that will interact with it. If you don't have time to finish the project now, make sure to skip down to the end of this notebook and shut down your endpoint. You can deploy it again when you come back."
   ]
  },
  {
   "cell_type": "markdown",
   "metadata": {},
   "source": [
    "## Step 7 (again): Use the model for the web app\n",
    "\n",
    "> **TODO:** This entire section and the next contain tasks for you to complete, mostly using the AWS console.\n",
    "\n",
    "So far we have been accessing our model endpoint by constructing a predictor object which uses the endpoint and then just using the predictor object to perform inference. What if we wanted to create a web app which accessed our model? The way things are set up currently makes that not possible since in order to access a SageMaker endpoint the app would first have to authenticate with AWS using an IAM role which included access to SageMaker endpoints. However, there is an easier way! We just need to use some additional AWS services.\n",
    "\n",
    "<img src=\"Web App Diagram.svg\">\n",
    "\n",
    "The diagram above gives an overview of how the various services will work together. On the far right is the model which we trained above and which is deployed using SageMaker. On the far left is our web app that collects a user's movie review, sends it off and expects a positive or negative sentiment in return.\n",
    "\n",
    "In the middle is where some of the magic happens. We will construct a Lambda function, which you can think of as a straightforward Python function that can be executed whenever a specified event occurs. We will give this function permission to send and recieve data from a SageMaker endpoint.\n",
    "\n",
    "Lastly, the method we will use to execute the Lambda function is a new endpoint that we will create using API Gateway. This endpoint will be a url that listens for data to be sent to it. Once it gets some data it will pass that data on to the Lambda function and then return whatever the Lambda function returns. Essentially it will act as an interface that lets our web app communicate with the Lambda function.\n",
    "\n",
    "### Setting up a Lambda function\n",
    "\n",
    "The first thing we are going to do is set up a Lambda function. This Lambda function will be executed whenever our public API has data sent to it. When it is executed it will receive the data, perform any sort of processing that is required, send the data (the review) to the SageMaker endpoint we've created and then return the result.\n",
    "\n",
    "#### Part A: Create an IAM Role for the Lambda function\n",
    "\n",
    "Since we want the Lambda function to call a SageMaker endpoint, we need to make sure that it has permission to do so. To do this, we will construct a role that we can later give the Lambda function.\n",
    "\n",
    "Using the AWS Console, navigate to the **IAM** page and click on **Roles**. Then, click on **Create role**. Make sure that the **AWS service** is the type of trusted entity selected and choose **Lambda** as the service that will use this role, then click **Next: Permissions**.\n",
    "\n",
    "In the search box type `sagemaker` and select the check box next to the **AmazonSageMakerFullAccess** policy. Then, click on **Next: Review**.\n",
    "\n",
    "Lastly, give this role a name. Make sure you use a name that you will remember later on, for example `LambdaSageMakerRole`. Then, click on **Create role**.\n",
    "\n",
    "#### Part B: Create a Lambda function\n",
    "\n",
    "Now it is time to actually create the Lambda function.\n",
    "\n",
    "Using the AWS Console, navigate to the AWS Lambda page and click on **Create a function**. When you get to the next page, make sure that **Author from scratch** is selected. Now, name your Lambda function, using a name that you will remember later on, for example `sentiment_analysis_func`. Make sure that the **Python 3.6** runtime is selected and then choose the role that you created in the previous part. Then, click on **Create Function**.\n",
    "\n",
    "On the next page you will see some information about the Lambda function you've just created. If you scroll down you should see an editor in which you can write the code that will be executed when your Lambda function is triggered. In our example, we will use the code below. \n",
    "\n",
    "```python\n",
    "# We need to use the low-level library to interact with SageMaker since the SageMaker API\n",
    "# is not available natively through Lambda.\n",
    "import boto3\n",
    "\n",
    "def lambda_handler(event, context):\n",
    "\n",
    "    # The SageMaker runtime is what allows us to invoke the endpoint that we've created.\n",
    "    runtime = boto3.Session().client('sagemaker-runtime')\n",
    "\n",
    "    # Now we use the SageMaker runtime to invoke our endpoint, sending the review we were given\n",
    "    response = runtime.invoke_endpoint(EndpointName = '**ENDPOINT NAME HERE**',    # The name of the endpoint we created\n",
    "                                       ContentType = 'text/plain',                 # The data format that is expected\n",
    "                                       Body = event['body'])                       # The actual review\n",
    "\n",
    "    # The response is an HTTP response whose body contains the result of our inference\n",
    "    result = response['Body'].read().decode('utf-8')\n",
    "\n",
    "    return {\n",
    "        'statusCode' : 200,\n",
    "        'headers' : { 'Content-Type' : 'text/plain', 'Access-Control-Allow-Origin' : '*' },\n",
    "        'body' : result\n",
    "    }\n",
    "```\n",
    "\n",
    "Once you have copy and pasted the code above into the Lambda code editor, replace the `**ENDPOINT NAME HERE**` portion with the name of the endpoint that we deployed earlier. You can determine the name of the endpoint using the code cell below."
   ]
  },
  {
   "cell_type": "code",
   "execution_count": 51,
   "metadata": {},
   "outputs": [
    {
     "data": {
      "text/plain": [
       "'sagemaker-pytorch-2020-11-24-16-23-15-918'"
      ]
     },
     "execution_count": 51,
     "metadata": {},
     "output_type": "execute_result"
    }
   ],
   "source": [
    "predictor.endpoint"
   ]
  },
  {
   "cell_type": "markdown",
   "metadata": {},
   "source": [
    "Once you have added the endpoint name to the Lambda function, click on **Save**. Your Lambda function is now up and running. Next we need to create a way for our web app to execute the Lambda function.\n",
    "\n",
    "### Setting up API Gateway\n",
    "\n",
    "Now that our Lambda function is set up, it is time to create a new API using API Gateway that will trigger the Lambda function we have just created.\n",
    "\n",
    "Using AWS Console, navigate to **Amazon API Gateway** and then click on **Get started**.\n",
    "\n",
    "On the next page, make sure that **New API** is selected and give the new api a name, for example, `sentiment_analysis_api`. Then, click on **Create API**.\n",
    "\n",
    "Now we have created an API, however it doesn't currently do anything. What we want it to do is to trigger the Lambda function that we created earlier.\n",
    "\n",
    "Select the **Actions** dropdown menu and click **Create Method**. A new blank method will be created, select its dropdown menu and select **POST**, then click on the check mark beside it.\n",
    "\n",
    "For the integration point, make sure that **Lambda Function** is selected and click on the **Use Lambda Proxy integration**. This option makes sure that the data that is sent to the API is then sent directly to the Lambda function with no processing. It also means that the return value must be a proper response object as it will also not be processed by API Gateway.\n",
    "\n",
    "Type the name of the Lambda function you created earlier into the **Lambda Function** text entry box and then click on **Save**. Click on **OK** in the pop-up box that then appears, giving permission to API Gateway to invoke the Lambda function you created.\n",
    "\n",
    "The last step in creating the API Gateway is to select the **Actions** dropdown and click on **Deploy API**. You will need to create a new Deployment stage and name it anything you like, for example `prod`.\n",
    "\n",
    "You have now successfully set up a public API to access your SageMaker model. Make sure to copy or write down the URL provided to invoke your newly created public API as this will be needed in the next step. This URL can be found at the top of the page, highlighted in blue next to the text **Invoke URL**."
   ]
  },
  {
   "cell_type": "markdown",
   "metadata": {},
   "source": [
    "## Step 4: Deploying our web app\n",
    "\n",
    "Now that we have a publicly available API, we can start using it in a web app. For our purposes, we have provided a simple static html file which can make use of the public api you created earlier.\n",
    "\n",
    "In the `website` folder there should be a file called `index.html`. Download the file to your computer and open that file up in a text editor of your choice. There should be a line which contains **\\*\\*REPLACE WITH PUBLIC API URL\\*\\***. Replace this string with the url that you wrote down in the last step and then save the file.\n",
    "\n",
    "Now, if you open `index.html` on your local computer, your browser will behave as a local web server and you can use the provided site to interact with your SageMaker model.\n",
    "\n",
    "If you'd like to go further, you can host this html file anywhere you'd like, for example using github or hosting a static site on Amazon's S3. Once you have done this you can share the link with anyone you'd like and have them play with it too!\n",
    "\n",
    "> **Important Note** In order for the web app to communicate with the SageMaker endpoint, the endpoint has to actually be deployed and running. This means that you are paying for it. Make sure that the endpoint is running when you want to use the web app but that you shut it down when you don't need it, otherwise you will end up with a surprisingly large AWS bill.\n",
    "\n",
    "**TODO:** Make sure that you include the edited `index.html` file in your project submission."
   ]
  },
  {
   "cell_type": "markdown",
   "metadata": {},
   "source": [
    "Now that your web app is working, trying playing around with it and see how well it works.\n",
    "\n",
    "**Question**: Give an example of a review that you entered into your web app. What was the predicted sentiment of your example review?"
   ]
  },
  {
   "cell_type": "markdown",
   "metadata": {},
   "source": [
    "**Answer:**"
   ]
  },
  {
   "cell_type": "markdown",
   "metadata": {},
   "source": [
    "### Delete the endpoint\n",
    "\n",
    "Remember to always shut down your endpoint if you are no longer using it. You are charged for the length of time that the endpoint is running so if you forget and leave it on you could end up with an unexpectedly large bill."
   ]
  },
  {
   "cell_type": "code",
   "execution_count": null,
   "metadata": {},
   "outputs": [],
   "source": [
    "predictor.delete_endpoint()"
   ]
  },
  {
   "cell_type": "code",
   "execution_count": 52,
   "metadata": {},
   "outputs": [
    {
     "name": "stdout",
     "output_type": "stream",
     "text": [
      "README.md\r\n",
      "SageMaker Project.ipynb\r\n",
      "serve/\r\n",
      "serve/model.py\r\n",
      "serve/utils.py\r\n",
      "serve/requirements.txt\r\n",
      "serve/predict.py\r\n",
      "train/\r\n",
      "train/model.py\r\n",
      "train/train.py\r\n",
      "train/__pycache__/\r\n",
      "train/__pycache__/model.cpython-36.pyc\r\n",
      "train/requirements.txt\r\n",
      "Web App Diagram.svg\r\n",
      "website/\r\n",
      "website/index.html\r\n"
     ]
    }
   ],
   "source": [
    "!tar chvfz notebook.tar.gz *"
   ]
  },
  {
   "cell_type": "code",
   "execution_count": null,
   "metadata": {},
   "outputs": [],
   "source": []
  }
 ],
 "metadata": {
  "kernelspec": {
   "display_name": "conda_pytorch_p36",
   "language": "python",
   "name": "conda_pytorch_p36"
  },
  "language_info": {
   "codemirror_mode": {
    "name": "ipython",
    "version": 3
   },
   "file_extension": ".py",
   "mimetype": "text/x-python",
   "name": "python",
   "nbconvert_exporter": "python",
   "pygments_lexer": "ipython3",
   "version": "3.6.10"
  }
 },
 "nbformat": 4,
 "nbformat_minor": 2
}
